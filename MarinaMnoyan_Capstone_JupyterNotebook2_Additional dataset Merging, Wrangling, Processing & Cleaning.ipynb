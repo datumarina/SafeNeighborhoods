{
 "cells": [
  {
   "cell_type": "markdown",
   "id": "cf0f7659",
   "metadata": {},
   "source": [
    "# Capstone Project: \"Transforming Neighborhoods by Predicting Crime Outcomes in the UK\n",
    "# Name: Marina Mnoyan\n",
    "# Contact: marina.mnoyan@gmail.com\n",
    "# Date: July 4, 2022\n",
    "# Project Purpose:\n",
    "Help policymakers to identify and address the factors that influence whether crimes are solved. The main dataset was downloaded from the UK Police Department website. Additional datasets were acquired from various UK Government sources in order to provide neighborhood-level characteristics. \n",
    "\n",
    "\n",
    "# Project Framework & Deliverables\n",
    "\n",
    "    1. Data Acquisition, pre-processing with MS Excel & Git Bash       MS Excel, Git Bash (details in the ReadMe text file)         2. Main dataset Wrangling, Processing & Cleaning                   Jupyter Notebook 1     \n",
    "    3. Additional dataset Merging, Wrangling, Processing & Cleaning    Jupyter Notebook 2     <== current notebook\n",
    "    4. Exploratory Data Analysis & Visualizations                      Jupyter Notebook 3\n",
    "                                                                       Tableau File\n",
    "    5. Feature Engineering                                             Jupyter Notebook 4\n",
    "    6. Modeling & Evaluation                                           Jupyter Notebook 5\n",
    "    7. Findings & Recommendations                                      PDF Business Report\n",
    "                                                                       PDF Presentation\n",
    "    8. Additional Information including links to original data         ReadMe text file"
   ]
  },
  {
   "cell_type": "markdown",
   "id": "e30a07da",
   "metadata": {},
   "source": [
    "# Jupyter Notebook 2 of 5: Additional dataset Merging, Wrangling, Processing & Cleaning\n",
    "\n",
    "Steps:\n",
    "\n",
    "[1) Main Dataset Reading and Basic Checks](#1) \n",
    "\n",
    "[2) Cleaning & Merging Additional Datasets](#2)\n",
    "* [2a) Age & Gender](#2a)\n",
    "* [2b) Households without Cars](#2b)\n",
    "* [2c) Deprivation Index](#2c)\n",
    "* [2d) Job Seeker Allowance](#2d)\n",
    "* [2e) Free School Meal Allowance Ages 11-15](#2e)\n",
    "* [2f) Free School Meal Allowance Ages 5-10](#2f)\n",
    "* [2g) Ethnicity](#2g)\n",
    "* [2h) Population Density](#2h)\n",
    "* [2i) Median House Price](#2i)\n",
    "* [2j) Median Age](#2j)\n",
    "* [2k) Religion](#2k)\n",
    "\n",
    "\n",
    "[3) CSV output](#3)"
   ]
  },
  {
   "cell_type": "markdown",
   "id": "4378b0cf",
   "metadata": {},
   "source": [
    "<a id='1'></a>\n",
    "## 1) Main Dataset Reading and Basic Checks"
   ]
  },
  {
   "cell_type": "markdown",
   "id": "d4c64658",
   "metadata": {},
   "source": [
    "First, we will import basic packages that will help with this notebook:"
   ]
  },
  {
   "cell_type": "code",
   "execution_count": 1,
   "id": "057adc67",
   "metadata": {},
   "outputs": [],
   "source": [
    "# Import basic data science packages\n",
    "import numpy as np\n",
    "import pandas as pd\n",
    "\n",
    "# Import visualization packages\n",
    "import seaborn as sns\n",
    "import matplotlib.pyplot as plt\n",
    "%matplotlib inline\n",
    "\n",
    "# Filter warnings\n",
    "import warnings\n",
    "warnings.filterwarnings('ignore')"
   ]
  },
  {
   "cell_type": "markdown",
   "id": "2e1dca3f",
   "metadata": {},
   "source": [
    "Then we need to make CSV files readable for Jupyter Notebook. We will import the file created at the end of Jupyter Notebook 1. As a reminder, it contains cleaned Main dataset containing crime:"
   ]
  },
  {
   "cell_type": "code",
   "execution_count": 2,
   "id": "ec01374a",
   "metadata": {},
   "outputs": [],
   "source": [
    "# Importing the CSV file\n",
    "df_crime = pd.read_csv('data/df_crime.csv', index_col=False)"
   ]
  },
  {
   "cell_type": "markdown",
   "id": "bde363b6",
   "metadata": {},
   "source": [
    "Let's perform some very basic checks to make sure everything was imported properly:"
   ]
  },
  {
   "cell_type": "code",
   "execution_count": 3,
   "id": "bd59f280",
   "metadata": {},
   "outputs": [
    {
     "data": {
      "text/html": [
       "<div>\n",
       "<style scoped>\n",
       "    .dataframe tbody tr th:only-of-type {\n",
       "        vertical-align: middle;\n",
       "    }\n",
       "\n",
       "    .dataframe tbody tr th {\n",
       "        vertical-align: top;\n",
       "    }\n",
       "\n",
       "    .dataframe thead th {\n",
       "        text-align: right;\n",
       "    }\n",
       "</style>\n",
       "<table border=\"1\" class=\"dataframe\">\n",
       "  <thead>\n",
       "    <tr style=\"text-align: right;\">\n",
       "      <th></th>\n",
       "      <th>Month</th>\n",
       "      <th>Police_Jurisdiction</th>\n",
       "      <th>Longitude</th>\n",
       "      <th>Latitude</th>\n",
       "      <th>LSOA code</th>\n",
       "      <th>LSOA name</th>\n",
       "      <th>Crime type</th>\n",
       "      <th>Last outcome category</th>\n",
       "    </tr>\n",
       "  </thead>\n",
       "  <tbody>\n",
       "    <tr>\n",
       "      <th>0</th>\n",
       "      <td>1</td>\n",
       "      <td>Avon and Somerset Constabulary</td>\n",
       "      <td>-2.515072</td>\n",
       "      <td>51.419357</td>\n",
       "      <td>E01014399</td>\n",
       "      <td>Bath and North East Somerset 001A</td>\n",
       "      <td>Burglary</td>\n",
       "      <td>Status update unavailable</td>\n",
       "    </tr>\n",
       "    <tr>\n",
       "      <th>1</th>\n",
       "      <td>1</td>\n",
       "      <td>Avon and Somerset Constabulary</td>\n",
       "      <td>-2.494870</td>\n",
       "      <td>51.422276</td>\n",
       "      <td>E01014399</td>\n",
       "      <td>Bath and North East Somerset 001A</td>\n",
       "      <td>Criminal damage and arson</td>\n",
       "      <td>Status update unavailable</td>\n",
       "    </tr>\n",
       "    <tr>\n",
       "      <th>2</th>\n",
       "      <td>1</td>\n",
       "      <td>Avon and Somerset Constabulary</td>\n",
       "      <td>-2.494870</td>\n",
       "      <td>51.422276</td>\n",
       "      <td>E01014399</td>\n",
       "      <td>Bath and North East Somerset 001A</td>\n",
       "      <td>Criminal damage and arson</td>\n",
       "      <td>Status update unavailable</td>\n",
       "    </tr>\n",
       "    <tr>\n",
       "      <th>3</th>\n",
       "      <td>1</td>\n",
       "      <td>Avon and Somerset Constabulary</td>\n",
       "      <td>-2.511927</td>\n",
       "      <td>51.409435</td>\n",
       "      <td>E01014399</td>\n",
       "      <td>Bath and North East Somerset 001A</td>\n",
       "      <td>Public order</td>\n",
       "      <td>Unable to prosecute suspect</td>\n",
       "    </tr>\n",
       "    <tr>\n",
       "      <th>4</th>\n",
       "      <td>1</td>\n",
       "      <td>Avon and Somerset Constabulary</td>\n",
       "      <td>-2.511761</td>\n",
       "      <td>51.409966</td>\n",
       "      <td>E01014399</td>\n",
       "      <td>Bath and North East Somerset 001A</td>\n",
       "      <td>Violence and sexual offences</td>\n",
       "      <td>Unable to prosecute suspect</td>\n",
       "    </tr>\n",
       "  </tbody>\n",
       "</table>\n",
       "</div>"
      ],
      "text/plain": [
       "   Month             Police_Jurisdiction  Longitude   Latitude  LSOA code  \\\n",
       "0      1  Avon and Somerset Constabulary  -2.515072  51.419357  E01014399   \n",
       "1      1  Avon and Somerset Constabulary  -2.494870  51.422276  E01014399   \n",
       "2      1  Avon and Somerset Constabulary  -2.494870  51.422276  E01014399   \n",
       "3      1  Avon and Somerset Constabulary  -2.511927  51.409435  E01014399   \n",
       "4      1  Avon and Somerset Constabulary  -2.511761  51.409966  E01014399   \n",
       "\n",
       "                           LSOA name                    Crime type  \\\n",
       "0  Bath and North East Somerset 001A                      Burglary   \n",
       "1  Bath and North East Somerset 001A     Criminal damage and arson   \n",
       "2  Bath and North East Somerset 001A     Criminal damage and arson   \n",
       "3  Bath and North East Somerset 001A                  Public order   \n",
       "4  Bath and North East Somerset 001A  Violence and sexual offences   \n",
       "\n",
       "         Last outcome category  \n",
       "0    Status update unavailable  \n",
       "1    Status update unavailable  \n",
       "2    Status update unavailable  \n",
       "3  Unable to prosecute suspect  \n",
       "4  Unable to prosecute suspect  "
      ]
     },
     "execution_count": 3,
     "metadata": {},
     "output_type": "execute_result"
    }
   ],
   "source": [
    "# Checking the first 5 rows of the dataset\n",
    "df_crime.head()"
   ]
  },
  {
   "cell_type": "code",
   "execution_count": 4,
   "id": "7603c0dc",
   "metadata": {},
   "outputs": [
    {
     "data": {
      "text/plain": [
       "(4580733, 8)"
      ]
     },
     "execution_count": 4,
     "metadata": {},
     "output_type": "execute_result"
    }
   ],
   "source": [
    "# Checking the size of the dataset\n",
    "df_crime.shape"
   ]
  },
  {
   "cell_type": "markdown",
   "id": "8f8ddaf2",
   "metadata": {},
   "source": [
    "Everything looks great so we can proceed to looking at additional datasets that we would like to merge with our Main dataset."
   ]
  },
  {
   "cell_type": "markdown",
   "id": "e8994bc8",
   "metadata": {
    "scrolled": true
   },
   "source": [
    "<a id='2'></a>\n",
    "## 2) Cleaning & Merging Additional Datasets"
   ]
  },
  {
   "cell_type": "markdown",
   "id": "3def02a0",
   "metadata": {},
   "source": [
    "<a id='2a'></a>\n",
    "### 2a) Age & Gender"
   ]
  },
  {
   "cell_type": "markdown",
   "id": "663a11bf",
   "metadata": {},
   "source": [
    "First, let's import the CSV dataset into a dataframe: "
   ]
  },
  {
   "cell_type": "code",
   "execution_count": 5,
   "id": "950762db",
   "metadata": {},
   "outputs": [],
   "source": [
    "# Importing the dataset\n",
    "df_age = pd.read_csv('data/2020age.csv')"
   ]
  },
  {
   "cell_type": "markdown",
   "id": "937b43ae",
   "metadata": {},
   "source": [
    "Then let's perform some basic checks:"
   ]
  },
  {
   "cell_type": "code",
   "execution_count": 6,
   "id": "77143812",
   "metadata": {
    "scrolled": true
   },
   "outputs": [
    {
     "data": {
      "text/html": [
       "<div>\n",
       "<style scoped>\n",
       "    .dataframe tbody tr th:only-of-type {\n",
       "        vertical-align: middle;\n",
       "    }\n",
       "\n",
       "    .dataframe tbody tr th {\n",
       "        vertical-align: top;\n",
       "    }\n",
       "\n",
       "    .dataframe thead th {\n",
       "        text-align: right;\n",
       "    }\n",
       "</style>\n",
       "<table border=\"1\" class=\"dataframe\">\n",
       "  <thead>\n",
       "    <tr style=\"text-align: right;\">\n",
       "      <th></th>\n",
       "      <th>LSOA Code</th>\n",
       "      <th>All Ages</th>\n",
       "      <th>Males</th>\n",
       "      <th>Females</th>\n",
       "      <th>0-15</th>\n",
       "      <th>16-29</th>\n",
       "      <th>30-44</th>\n",
       "      <th>45-64</th>\n",
       "      <th>65+</th>\n",
       "    </tr>\n",
       "  </thead>\n",
       "  <tbody>\n",
       "    <tr>\n",
       "      <th>0</th>\n",
       "      <td>E01011949</td>\n",
       "      <td>1944</td>\n",
       "      <td>917</td>\n",
       "      <td>1027</td>\n",
       "      <td>456</td>\n",
       "      <td>302</td>\n",
       "      <td>398</td>\n",
       "      <td>487</td>\n",
       "      <td>301</td>\n",
       "    </tr>\n",
       "    <tr>\n",
       "      <th>1</th>\n",
       "      <td>E01011950</td>\n",
       "      <td>1298</td>\n",
       "      <td>665</td>\n",
       "      <td>633</td>\n",
       "      <td>189</td>\n",
       "      <td>277</td>\n",
       "      <td>254</td>\n",
       "      <td>397</td>\n",
       "      <td>181</td>\n",
       "    </tr>\n",
       "    <tr>\n",
       "      <th>2</th>\n",
       "      <td>E01011951</td>\n",
       "      <td>1208</td>\n",
       "      <td>655</td>\n",
       "      <td>553</td>\n",
       "      <td>208</td>\n",
       "      <td>231</td>\n",
       "      <td>289</td>\n",
       "      <td>325</td>\n",
       "      <td>155</td>\n",
       "    </tr>\n",
       "    <tr>\n",
       "      <th>3</th>\n",
       "      <td>E01011952</td>\n",
       "      <td>1724</td>\n",
       "      <td>795</td>\n",
       "      <td>929</td>\n",
       "      <td>387</td>\n",
       "      <td>252</td>\n",
       "      <td>262</td>\n",
       "      <td>424</td>\n",
       "      <td>399</td>\n",
       "    </tr>\n",
       "    <tr>\n",
       "      <th>4</th>\n",
       "      <td>E01011953</td>\n",
       "      <td>2026</td>\n",
       "      <td>1023</td>\n",
       "      <td>1003</td>\n",
       "      <td>513</td>\n",
       "      <td>392</td>\n",
       "      <td>368</td>\n",
       "      <td>476</td>\n",
       "      <td>277</td>\n",
       "    </tr>\n",
       "  </tbody>\n",
       "</table>\n",
       "</div>"
      ],
      "text/plain": [
       "   LSOA Code  All Ages  Males  Females  0-15  16-29  30-44  45-64  65+\n",
       "0  E01011949      1944    917     1027   456    302    398    487  301\n",
       "1  E01011950      1298    665      633   189    277    254    397  181\n",
       "2  E01011951      1208    655      553   208    231    289    325  155\n",
       "3  E01011952      1724    795      929   387    252    262    424  399\n",
       "4  E01011953      2026   1023     1003   513    392    368    476  277"
      ]
     },
     "execution_count": 6,
     "metadata": {},
     "output_type": "execute_result"
    }
   ],
   "source": [
    "# Take a look at the first 5 rows\n",
    "df_age.head()"
   ]
  },
  {
   "cell_type": "code",
   "execution_count": 7,
   "id": "eb18492c",
   "metadata": {},
   "outputs": [
    {
     "data": {
      "text/plain": [
       "(34753, 9)"
      ]
     },
     "execution_count": 7,
     "metadata": {},
     "output_type": "execute_result"
    }
   ],
   "source": [
    "# look at the size of the dataset\n",
    "df_age.shape"
   ]
  },
  {
   "cell_type": "code",
   "execution_count": 8,
   "id": "9be90e4a",
   "metadata": {},
   "outputs": [
    {
     "data": {
      "text/html": [
       "<div>\n",
       "<style scoped>\n",
       "    .dataframe tbody tr th:only-of-type {\n",
       "        vertical-align: middle;\n",
       "    }\n",
       "\n",
       "    .dataframe tbody tr th {\n",
       "        vertical-align: top;\n",
       "    }\n",
       "\n",
       "    .dataframe thead th {\n",
       "        text-align: right;\n",
       "    }\n",
       "</style>\n",
       "<table border=\"1\" class=\"dataframe\">\n",
       "  <thead>\n",
       "    <tr style=\"text-align: right;\">\n",
       "      <th></th>\n",
       "      <th>All Ages</th>\n",
       "      <th>Males</th>\n",
       "      <th>Females</th>\n",
       "      <th>0-15</th>\n",
       "      <th>16-29</th>\n",
       "      <th>30-44</th>\n",
       "      <th>45-64</th>\n",
       "      <th>65+</th>\n",
       "    </tr>\n",
       "  </thead>\n",
       "  <tbody>\n",
       "    <tr>\n",
       "      <th>count</th>\n",
       "      <td>34753.000000</td>\n",
       "      <td>34753.000000</td>\n",
       "      <td>34753.000000</td>\n",
       "      <td>34753.000000</td>\n",
       "      <td>34753.000000</td>\n",
       "      <td>34753.000000</td>\n",
       "      <td>34753.000000</td>\n",
       "      <td>34753.000000</td>\n",
       "    </tr>\n",
       "    <tr>\n",
       "      <th>mean</th>\n",
       "      <td>1718.404857</td>\n",
       "      <td>850.181049</td>\n",
       "      <td>868.223808</td>\n",
       "      <td>328.459989</td>\n",
       "      <td>295.682330</td>\n",
       "      <td>333.629874</td>\n",
       "      <td>440.297471</td>\n",
       "      <td>320.335194</td>\n",
       "    </tr>\n",
       "    <tr>\n",
       "      <th>std</th>\n",
       "      <td>468.210722</td>\n",
       "      <td>250.162450</td>\n",
       "      <td>228.657974</td>\n",
       "      <td>136.081862</td>\n",
       "      <td>267.723323</td>\n",
       "      <td>155.849979</td>\n",
       "      <td>108.547646</td>\n",
       "      <td>136.805154</td>\n",
       "    </tr>\n",
       "    <tr>\n",
       "      <th>min</th>\n",
       "      <td>585.000000</td>\n",
       "      <td>281.000000</td>\n",
       "      <td>290.000000</td>\n",
       "      <td>20.000000</td>\n",
       "      <td>42.000000</td>\n",
       "      <td>44.000000</td>\n",
       "      <td>35.000000</td>\n",
       "      <td>8.000000</td>\n",
       "    </tr>\n",
       "    <tr>\n",
       "      <th>25%</th>\n",
       "      <td>1446.000000</td>\n",
       "      <td>704.000000</td>\n",
       "      <td>734.000000</td>\n",
       "      <td>240.000000</td>\n",
       "      <td>193.000000</td>\n",
       "      <td>235.000000</td>\n",
       "      <td>374.000000</td>\n",
       "      <td>221.000000</td>\n",
       "    </tr>\n",
       "    <tr>\n",
       "      <th>50%</th>\n",
       "      <td>1620.000000</td>\n",
       "      <td>795.000000</td>\n",
       "      <td>824.000000</td>\n",
       "      <td>304.000000</td>\n",
       "      <td>245.000000</td>\n",
       "      <td>298.000000</td>\n",
       "      <td>425.000000</td>\n",
       "      <td>302.000000</td>\n",
       "    </tr>\n",
       "    <tr>\n",
       "      <th>75%</th>\n",
       "      <td>1868.000000</td>\n",
       "      <td>928.000000</td>\n",
       "      <td>943.000000</td>\n",
       "      <td>387.000000</td>\n",
       "      <td>317.000000</td>\n",
       "      <td>390.000000</td>\n",
       "      <td>487.000000</td>\n",
       "      <td>398.000000</td>\n",
       "    </tr>\n",
       "    <tr>\n",
       "      <th>max</th>\n",
       "      <td>17274.000000</td>\n",
       "      <td>9293.000000</td>\n",
       "      <td>7981.000000</td>\n",
       "      <td>2774.000000</td>\n",
       "      <td>8964.000000</td>\n",
       "      <td>5120.000000</td>\n",
       "      <td>1426.000000</td>\n",
       "      <td>1215.000000</td>\n",
       "    </tr>\n",
       "  </tbody>\n",
       "</table>\n",
       "</div>"
      ],
      "text/plain": [
       "           All Ages         Males       Females          0-15         16-29  \\\n",
       "count  34753.000000  34753.000000  34753.000000  34753.000000  34753.000000   \n",
       "mean    1718.404857    850.181049    868.223808    328.459989    295.682330   \n",
       "std      468.210722    250.162450    228.657974    136.081862    267.723323   \n",
       "min      585.000000    281.000000    290.000000     20.000000     42.000000   \n",
       "25%     1446.000000    704.000000    734.000000    240.000000    193.000000   \n",
       "50%     1620.000000    795.000000    824.000000    304.000000    245.000000   \n",
       "75%     1868.000000    928.000000    943.000000    387.000000    317.000000   \n",
       "max    17274.000000   9293.000000   7981.000000   2774.000000   8964.000000   \n",
       "\n",
       "              30-44         45-64           65+  \n",
       "count  34753.000000  34753.000000  34753.000000  \n",
       "mean     333.629874    440.297471    320.335194  \n",
       "std      155.849979    108.547646    136.805154  \n",
       "min       44.000000     35.000000      8.000000  \n",
       "25%      235.000000    374.000000    221.000000  \n",
       "50%      298.000000    425.000000    302.000000  \n",
       "75%      390.000000    487.000000    398.000000  \n",
       "max     5120.000000   1426.000000   1215.000000  "
      ]
     },
     "execution_count": 8,
     "metadata": {},
     "output_type": "execute_result"
    }
   ],
   "source": [
    "# Looking at basic stats\n",
    "df_age.describe()"
   ]
  },
  {
   "cell_type": "code",
   "execution_count": 9,
   "id": "86ad0e8f",
   "metadata": {},
   "outputs": [
    {
     "name": "stdout",
     "output_type": "stream",
     "text": [
      "<class 'pandas.core.frame.DataFrame'>\n",
      "RangeIndex: 34753 entries, 0 to 34752\n",
      "Data columns (total 9 columns):\n",
      " #   Column     Non-Null Count  Dtype \n",
      "---  ------     --------------  ----- \n",
      " 0   LSOA Code  34753 non-null  object\n",
      " 1   All Ages   34753 non-null  int64 \n",
      " 2   Males      34753 non-null  int64 \n",
      " 3   Females    34753 non-null  int64 \n",
      " 4   0-15       34753 non-null  int64 \n",
      " 5   16-29      34753 non-null  int64 \n",
      " 6   30-44      34753 non-null  int64 \n",
      " 7   45-64      34753 non-null  int64 \n",
      " 8   65+        34753 non-null  int64 \n",
      "dtypes: int64(8), object(1)\n",
      "memory usage: 2.4+ MB\n"
     ]
    }
   ],
   "source": [
    "# Looking at dtypes\n",
    "df_age.info()"
   ]
  },
  {
   "cell_type": "markdown",
   "id": "77e4862f",
   "metadata": {},
   "source": [
    "Basic checks confirmed that:\n",
    "* There are 34,753 entries which is the # of neighborhoods\n",
    "* Information presented is relative to each neighborhood, i.e., Gender-related columns and Age-related columns add up to `All Ages` column, which is the # of people residing at each neighborhood\n",
    "* For the purposes of our project, it is best to deal with relative rather than absolute data so we will change all columns into proportions relative to `All Ages` columns, so that these can easily be checked across various neighborhoods"
   ]
  },
  {
   "cell_type": "markdown",
   "id": "097133a8",
   "metadata": {},
   "source": [
    "Let's create new columns with proportions, first for Gender (denoted as proportion of Males) and then for each age bracket:"
   ]
  },
  {
   "cell_type": "code",
   "execution_count": 10,
   "id": "61e78e68",
   "metadata": {},
   "outputs": [],
   "source": [
    "df_age[\"Proportion_Males\"] = df_age[\"Males\"] / df_age[\"All Ages\"]"
   ]
  },
  {
   "cell_type": "code",
   "execution_count": 11,
   "id": "287fcbfa",
   "metadata": {},
   "outputs": [],
   "source": [
    "df_age['Proportion_0-15'] = df_age['0-15'] / df_age['All Ages']"
   ]
  },
  {
   "cell_type": "code",
   "execution_count": 12,
   "id": "b0a5a99a",
   "metadata": {},
   "outputs": [],
   "source": [
    "df_age['Proportion_16-29'] = df_age['16-29'] / df_age['All Ages']"
   ]
  },
  {
   "cell_type": "code",
   "execution_count": 13,
   "id": "96063a00",
   "metadata": {},
   "outputs": [],
   "source": [
    "df_age['Proportion_30-44'] = df_age['30-44'] / df_age['All Ages']"
   ]
  },
  {
   "cell_type": "code",
   "execution_count": 14,
   "id": "a4873482",
   "metadata": {},
   "outputs": [],
   "source": [
    "df_age['Proportion_45-64'] = df_age['45-64'] / df_age['All Ages']"
   ]
  },
  {
   "cell_type": "code",
   "execution_count": 15,
   "id": "297a1e57",
   "metadata": {},
   "outputs": [],
   "source": [
    "df_age['Proportion_65+'] = df_age['65+'] / df_age['All Ages']"
   ]
  },
  {
   "cell_type": "markdown",
   "id": "751be1ce",
   "metadata": {},
   "source": [
    "Let's check what we have:"
   ]
  },
  {
   "cell_type": "code",
   "execution_count": 16,
   "id": "baddf55d",
   "metadata": {},
   "outputs": [
    {
     "data": {
      "text/html": [
       "<div>\n",
       "<style scoped>\n",
       "    .dataframe tbody tr th:only-of-type {\n",
       "        vertical-align: middle;\n",
       "    }\n",
       "\n",
       "    .dataframe tbody tr th {\n",
       "        vertical-align: top;\n",
       "    }\n",
       "\n",
       "    .dataframe thead th {\n",
       "        text-align: right;\n",
       "    }\n",
       "</style>\n",
       "<table border=\"1\" class=\"dataframe\">\n",
       "  <thead>\n",
       "    <tr style=\"text-align: right;\">\n",
       "      <th></th>\n",
       "      <th>LSOA Code</th>\n",
       "      <th>All Ages</th>\n",
       "      <th>Males</th>\n",
       "      <th>Females</th>\n",
       "      <th>0-15</th>\n",
       "      <th>16-29</th>\n",
       "      <th>30-44</th>\n",
       "      <th>45-64</th>\n",
       "      <th>65+</th>\n",
       "      <th>Proportion_Males</th>\n",
       "      <th>Proportion_0-15</th>\n",
       "      <th>Proportion_16-29</th>\n",
       "      <th>Proportion_30-44</th>\n",
       "      <th>Proportion_45-64</th>\n",
       "      <th>Proportion_65+</th>\n",
       "    </tr>\n",
       "  </thead>\n",
       "  <tbody>\n",
       "    <tr>\n",
       "      <th>0</th>\n",
       "      <td>E01011949</td>\n",
       "      <td>1944</td>\n",
       "      <td>917</td>\n",
       "      <td>1027</td>\n",
       "      <td>456</td>\n",
       "      <td>302</td>\n",
       "      <td>398</td>\n",
       "      <td>487</td>\n",
       "      <td>301</td>\n",
       "      <td>0.471708</td>\n",
       "      <td>0.234568</td>\n",
       "      <td>0.155350</td>\n",
       "      <td>0.204733</td>\n",
       "      <td>0.250514</td>\n",
       "      <td>0.154835</td>\n",
       "    </tr>\n",
       "    <tr>\n",
       "      <th>1</th>\n",
       "      <td>E01011950</td>\n",
       "      <td>1298</td>\n",
       "      <td>665</td>\n",
       "      <td>633</td>\n",
       "      <td>189</td>\n",
       "      <td>277</td>\n",
       "      <td>254</td>\n",
       "      <td>397</td>\n",
       "      <td>181</td>\n",
       "      <td>0.512327</td>\n",
       "      <td>0.145609</td>\n",
       "      <td>0.213405</td>\n",
       "      <td>0.195686</td>\n",
       "      <td>0.305855</td>\n",
       "      <td>0.139445</td>\n",
       "    </tr>\n",
       "    <tr>\n",
       "      <th>2</th>\n",
       "      <td>E01011951</td>\n",
       "      <td>1208</td>\n",
       "      <td>655</td>\n",
       "      <td>553</td>\n",
       "      <td>208</td>\n",
       "      <td>231</td>\n",
       "      <td>289</td>\n",
       "      <td>325</td>\n",
       "      <td>155</td>\n",
       "      <td>0.542219</td>\n",
       "      <td>0.172185</td>\n",
       "      <td>0.191225</td>\n",
       "      <td>0.239238</td>\n",
       "      <td>0.269040</td>\n",
       "      <td>0.128311</td>\n",
       "    </tr>\n",
       "    <tr>\n",
       "      <th>3</th>\n",
       "      <td>E01011952</td>\n",
       "      <td>1724</td>\n",
       "      <td>795</td>\n",
       "      <td>929</td>\n",
       "      <td>387</td>\n",
       "      <td>252</td>\n",
       "      <td>262</td>\n",
       "      <td>424</td>\n",
       "      <td>399</td>\n",
       "      <td>0.461137</td>\n",
       "      <td>0.224478</td>\n",
       "      <td>0.146172</td>\n",
       "      <td>0.151972</td>\n",
       "      <td>0.245940</td>\n",
       "      <td>0.231439</td>\n",
       "    </tr>\n",
       "    <tr>\n",
       "      <th>4</th>\n",
       "      <td>E01011953</td>\n",
       "      <td>2026</td>\n",
       "      <td>1023</td>\n",
       "      <td>1003</td>\n",
       "      <td>513</td>\n",
       "      <td>392</td>\n",
       "      <td>368</td>\n",
       "      <td>476</td>\n",
       "      <td>277</td>\n",
       "      <td>0.504936</td>\n",
       "      <td>0.253208</td>\n",
       "      <td>0.193485</td>\n",
       "      <td>0.181639</td>\n",
       "      <td>0.234946</td>\n",
       "      <td>0.136723</td>\n",
       "    </tr>\n",
       "  </tbody>\n",
       "</table>\n",
       "</div>"
      ],
      "text/plain": [
       "   LSOA Code  All Ages  Males  Females  0-15  16-29  30-44  45-64  65+  \\\n",
       "0  E01011949      1944    917     1027   456    302    398    487  301   \n",
       "1  E01011950      1298    665      633   189    277    254    397  181   \n",
       "2  E01011951      1208    655      553   208    231    289    325  155   \n",
       "3  E01011952      1724    795      929   387    252    262    424  399   \n",
       "4  E01011953      2026   1023     1003   513    392    368    476  277   \n",
       "\n",
       "   Proportion_Males  Proportion_0-15  Proportion_16-29  Proportion_30-44  \\\n",
       "0          0.471708         0.234568          0.155350          0.204733   \n",
       "1          0.512327         0.145609          0.213405          0.195686   \n",
       "2          0.542219         0.172185          0.191225          0.239238   \n",
       "3          0.461137         0.224478          0.146172          0.151972   \n",
       "4          0.504936         0.253208          0.193485          0.181639   \n",
       "\n",
       "   Proportion_45-64  Proportion_65+  \n",
       "0          0.250514        0.154835  \n",
       "1          0.305855        0.139445  \n",
       "2          0.269040        0.128311  \n",
       "3          0.245940        0.231439  \n",
       "4          0.234946        0.136723  "
      ]
     },
     "execution_count": 16,
     "metadata": {},
     "output_type": "execute_result"
    }
   ],
   "source": [
    "# Checking the first 5 rows\n",
    "df_age.head()"
   ]
  },
  {
   "cell_type": "markdown",
   "id": "4de854a2",
   "metadata": {},
   "source": [
    "Everything looks good so we can now go ahead and drop the original columns that we no longer need, as well as rename the `All Ages` column into a more descriptive `Population`:"
   ]
  },
  {
   "cell_type": "code",
   "execution_count": 17,
   "id": "973a364a",
   "metadata": {},
   "outputs": [],
   "source": [
    "# Dropping the columns\n",
    "df_age.drop(axis=0, columns=['0-15', '16-29', '30-44', '45-64', '65+', 'Females', 'Males'], inplace=True)"
   ]
  },
  {
   "cell_type": "code",
   "execution_count": 18,
   "id": "a36dc24f",
   "metadata": {},
   "outputs": [],
   "source": [
    "# Renaming the All Ages column\n",
    "df_age.rename(inplace=True, columns={'All Ages': 'Population'})"
   ]
  },
  {
   "cell_type": "markdown",
   "id": "fbb997c4",
   "metadata": {},
   "source": [
    "Now let's check if there are any duplicates, null values in this dataset:"
   ]
  },
  {
   "cell_type": "code",
   "execution_count": 19,
   "id": "16888112",
   "metadata": {},
   "outputs": [
    {
     "data": {
      "text/plain": [
       "0"
      ]
     },
     "execution_count": 19,
     "metadata": {},
     "output_type": "execute_result"
    }
   ],
   "source": [
    "# Checking the # of duplicated rows:\n",
    "df_age.duplicated().sum()"
   ]
  },
  {
   "cell_type": "code",
   "execution_count": 20,
   "id": "09e30757",
   "metadata": {},
   "outputs": [
    {
     "data": {
      "text/plain": [
       "LSOA Code           0\n",
       "Population          0\n",
       "Proportion_Males    0\n",
       "Proportion_0-15     0\n",
       "Proportion_16-29    0\n",
       "Proportion_30-44    0\n",
       "Proportion_45-64    0\n",
       "Proportion_65+      0\n",
       "dtype: int64"
      ]
     },
     "execution_count": 20,
     "metadata": {},
     "output_type": "execute_result"
    }
   ],
   "source": [
    "# Checking for missing values\n",
    "df_age.isnull().sum()"
   ]
  },
  {
   "cell_type": "markdown",
   "id": "f75d2338",
   "metadata": {},
   "source": [
    "Everything looks great so we can now move on to merging our two datasets. We will perform an outer join as we need information from both datasets."
   ]
  },
  {
   "cell_type": "code",
   "execution_count": 21,
   "id": "de10861f",
   "metadata": {},
   "outputs": [],
   "source": [
    "# Naming the new dataset DF and outer joining on neighborhoods\n",
    "df = df_crime.merge(df_age, how='outer', left_on='LSOA code', right_on='LSOA Code')"
   ]
  },
  {
   "cell_type": "markdown",
   "id": "3c6f9564",
   "metadata": {},
   "source": [
    "Let's check what we have:"
   ]
  },
  {
   "cell_type": "code",
   "execution_count": 22,
   "id": "52c14249",
   "metadata": {},
   "outputs": [
    {
     "data": {
      "text/plain": [
       "(4582049, 16)"
      ]
     },
     "execution_count": 22,
     "metadata": {},
     "output_type": "execute_result"
    }
   ],
   "source": [
    "# Checking the size\n",
    "df.shape"
   ]
  },
  {
   "cell_type": "code",
   "execution_count": 23,
   "id": "bdd06427",
   "metadata": {},
   "outputs": [
    {
     "data": {
      "text/html": [
       "<div>\n",
       "<style scoped>\n",
       "    .dataframe tbody tr th:only-of-type {\n",
       "        vertical-align: middle;\n",
       "    }\n",
       "\n",
       "    .dataframe tbody tr th {\n",
       "        vertical-align: top;\n",
       "    }\n",
       "\n",
       "    .dataframe thead th {\n",
       "        text-align: right;\n",
       "    }\n",
       "</style>\n",
       "<table border=\"1\" class=\"dataframe\">\n",
       "  <thead>\n",
       "    <tr style=\"text-align: right;\">\n",
       "      <th></th>\n",
       "      <th>Month</th>\n",
       "      <th>Police_Jurisdiction</th>\n",
       "      <th>Longitude</th>\n",
       "      <th>Latitude</th>\n",
       "      <th>LSOA code</th>\n",
       "      <th>LSOA name</th>\n",
       "      <th>Crime type</th>\n",
       "      <th>Last outcome category</th>\n",
       "      <th>LSOA Code</th>\n",
       "      <th>Population</th>\n",
       "      <th>Proportion_Males</th>\n",
       "      <th>Proportion_0-15</th>\n",
       "      <th>Proportion_16-29</th>\n",
       "      <th>Proportion_30-44</th>\n",
       "      <th>Proportion_45-64</th>\n",
       "      <th>Proportion_65+</th>\n",
       "    </tr>\n",
       "  </thead>\n",
       "  <tbody>\n",
       "    <tr>\n",
       "      <th>0</th>\n",
       "      <td>1.0</td>\n",
       "      <td>Avon and Somerset Constabulary</td>\n",
       "      <td>-2.515072</td>\n",
       "      <td>51.419357</td>\n",
       "      <td>E01014399</td>\n",
       "      <td>Bath and North East Somerset 001A</td>\n",
       "      <td>Burglary</td>\n",
       "      <td>Status update unavailable</td>\n",
       "      <td>E01014399</td>\n",
       "      <td>2161</td>\n",
       "      <td>0.467376</td>\n",
       "      <td>0.176307</td>\n",
       "      <td>0.135585</td>\n",
       "      <td>0.210088</td>\n",
       "      <td>0.204535</td>\n",
       "      <td>0.273484</td>\n",
       "    </tr>\n",
       "    <tr>\n",
       "      <th>1</th>\n",
       "      <td>1.0</td>\n",
       "      <td>Avon and Somerset Constabulary</td>\n",
       "      <td>-2.494870</td>\n",
       "      <td>51.422276</td>\n",
       "      <td>E01014399</td>\n",
       "      <td>Bath and North East Somerset 001A</td>\n",
       "      <td>Criminal damage and arson</td>\n",
       "      <td>Status update unavailable</td>\n",
       "      <td>E01014399</td>\n",
       "      <td>2161</td>\n",
       "      <td>0.467376</td>\n",
       "      <td>0.176307</td>\n",
       "      <td>0.135585</td>\n",
       "      <td>0.210088</td>\n",
       "      <td>0.204535</td>\n",
       "      <td>0.273484</td>\n",
       "    </tr>\n",
       "    <tr>\n",
       "      <th>2</th>\n",
       "      <td>1.0</td>\n",
       "      <td>Avon and Somerset Constabulary</td>\n",
       "      <td>-2.494870</td>\n",
       "      <td>51.422276</td>\n",
       "      <td>E01014399</td>\n",
       "      <td>Bath and North East Somerset 001A</td>\n",
       "      <td>Criminal damage and arson</td>\n",
       "      <td>Status update unavailable</td>\n",
       "      <td>E01014399</td>\n",
       "      <td>2161</td>\n",
       "      <td>0.467376</td>\n",
       "      <td>0.176307</td>\n",
       "      <td>0.135585</td>\n",
       "      <td>0.210088</td>\n",
       "      <td>0.204535</td>\n",
       "      <td>0.273484</td>\n",
       "    </tr>\n",
       "    <tr>\n",
       "      <th>3</th>\n",
       "      <td>1.0</td>\n",
       "      <td>Avon and Somerset Constabulary</td>\n",
       "      <td>-2.511927</td>\n",
       "      <td>51.409435</td>\n",
       "      <td>E01014399</td>\n",
       "      <td>Bath and North East Somerset 001A</td>\n",
       "      <td>Public order</td>\n",
       "      <td>Unable to prosecute suspect</td>\n",
       "      <td>E01014399</td>\n",
       "      <td>2161</td>\n",
       "      <td>0.467376</td>\n",
       "      <td>0.176307</td>\n",
       "      <td>0.135585</td>\n",
       "      <td>0.210088</td>\n",
       "      <td>0.204535</td>\n",
       "      <td>0.273484</td>\n",
       "    </tr>\n",
       "    <tr>\n",
       "      <th>4</th>\n",
       "      <td>1.0</td>\n",
       "      <td>Avon and Somerset Constabulary</td>\n",
       "      <td>-2.511761</td>\n",
       "      <td>51.409966</td>\n",
       "      <td>E01014399</td>\n",
       "      <td>Bath and North East Somerset 001A</td>\n",
       "      <td>Violence and sexual offences</td>\n",
       "      <td>Unable to prosecute suspect</td>\n",
       "      <td>E01014399</td>\n",
       "      <td>2161</td>\n",
       "      <td>0.467376</td>\n",
       "      <td>0.176307</td>\n",
       "      <td>0.135585</td>\n",
       "      <td>0.210088</td>\n",
       "      <td>0.204535</td>\n",
       "      <td>0.273484</td>\n",
       "    </tr>\n",
       "  </tbody>\n",
       "</table>\n",
       "</div>"
      ],
      "text/plain": [
       "   Month             Police_Jurisdiction  Longitude   Latitude  LSOA code  \\\n",
       "0    1.0  Avon and Somerset Constabulary  -2.515072  51.419357  E01014399   \n",
       "1    1.0  Avon and Somerset Constabulary  -2.494870  51.422276  E01014399   \n",
       "2    1.0  Avon and Somerset Constabulary  -2.494870  51.422276  E01014399   \n",
       "3    1.0  Avon and Somerset Constabulary  -2.511927  51.409435  E01014399   \n",
       "4    1.0  Avon and Somerset Constabulary  -2.511761  51.409966  E01014399   \n",
       "\n",
       "                           LSOA name                    Crime type  \\\n",
       "0  Bath and North East Somerset 001A                      Burglary   \n",
       "1  Bath and North East Somerset 001A     Criminal damage and arson   \n",
       "2  Bath and North East Somerset 001A     Criminal damage and arson   \n",
       "3  Bath and North East Somerset 001A                  Public order   \n",
       "4  Bath and North East Somerset 001A  Violence and sexual offences   \n",
       "\n",
       "         Last outcome category  LSOA Code  Population  Proportion_Males  \\\n",
       "0    Status update unavailable  E01014399        2161          0.467376   \n",
       "1    Status update unavailable  E01014399        2161          0.467376   \n",
       "2    Status update unavailable  E01014399        2161          0.467376   \n",
       "3  Unable to prosecute suspect  E01014399        2161          0.467376   \n",
       "4  Unable to prosecute suspect  E01014399        2161          0.467376   \n",
       "\n",
       "   Proportion_0-15  Proportion_16-29  Proportion_30-44  Proportion_45-64  \\\n",
       "0         0.176307          0.135585          0.210088          0.204535   \n",
       "1         0.176307          0.135585          0.210088          0.204535   \n",
       "2         0.176307          0.135585          0.210088          0.204535   \n",
       "3         0.176307          0.135585          0.210088          0.204535   \n",
       "4         0.176307          0.135585          0.210088          0.204535   \n",
       "\n",
       "   Proportion_65+  \n",
       "0        0.273484  \n",
       "1        0.273484  \n",
       "2        0.273484  \n",
       "3        0.273484  \n",
       "4        0.273484  "
      ]
     },
     "execution_count": 23,
     "metadata": {},
     "output_type": "execute_result"
    }
   ],
   "source": [
    "# Checking the first few rows\n",
    "df.head()"
   ]
  },
  {
   "cell_type": "markdown",
   "id": "23e9c1dd",
   "metadata": {},
   "source": [
    "Everything checks out, and the new columns were successfully added. Now we can drop the extra neighborhood column that we performed the merge on:"
   ]
  },
  {
   "cell_type": "code",
   "execution_count": 24,
   "id": "2b3aad93",
   "metadata": {},
   "outputs": [],
   "source": [
    "# Dropping the extra LSOA code\n",
    "df.drop(axis=0, columns=['LSOA Code'], inplace=True)"
   ]
  },
  {
   "cell_type": "markdown",
   "id": "fa40400c",
   "metadata": {},
   "source": [
    "Now let's check if the merge has introduced any new null values:"
   ]
  },
  {
   "cell_type": "code",
   "execution_count": 25,
   "id": "260cf2f7",
   "metadata": {},
   "outputs": [
    {
     "data": {
      "text/plain": [
       "Month                    1316\n",
       "Police_Jurisdiction      1316\n",
       "Longitude                1316\n",
       "Latitude                 1316\n",
       "LSOA code                1316\n",
       "LSOA name                1316\n",
       "Crime type               1316\n",
       "Last outcome category    1316\n",
       "Population                  0\n",
       "Proportion_Males            0\n",
       "Proportion_0-15             0\n",
       "Proportion_16-29            0\n",
       "Proportion_30-44            0\n",
       "Proportion_45-64            0\n",
       "Proportion_65+              0\n",
       "dtype: int64"
      ]
     },
     "execution_count": 25,
     "metadata": {},
     "output_type": "execute_result"
    }
   ],
   "source": [
    "# Checking null values per column\n",
    "df.isnull().sum()"
   ]
  },
  {
   "cell_type": "markdown",
   "id": "d3f598b7",
   "metadata": {},
   "source": [
    "There are some very small null values so we drop them:"
   ]
  },
  {
   "cell_type": "code",
   "execution_count": 26,
   "id": "06586169",
   "metadata": {},
   "outputs": [],
   "source": [
    "# Dropping null values\n",
    "df.dropna(inplace=True)"
   ]
  },
  {
   "cell_type": "markdown",
   "id": "58e574c3",
   "metadata": {},
   "source": [
    "Finally let's check that all information is the right dtype:"
   ]
  },
  {
   "cell_type": "code",
   "execution_count": 27,
   "id": "a1774465",
   "metadata": {},
   "outputs": [
    {
     "name": "stdout",
     "output_type": "stream",
     "text": [
      "<class 'pandas.core.frame.DataFrame'>\n",
      "Int64Index: 4580733 entries, 0 to 4580732\n",
      "Data columns (total 15 columns):\n",
      " #   Column                 Dtype  \n",
      "---  ------                 -----  \n",
      " 0   Month                  float64\n",
      " 1   Police_Jurisdiction    object \n",
      " 2   Longitude              float64\n",
      " 3   Latitude               float64\n",
      " 4   LSOA code              object \n",
      " 5   LSOA name              object \n",
      " 6   Crime type             object \n",
      " 7   Last outcome category  object \n",
      " 8   Population             int64  \n",
      " 9   Proportion_Males       float64\n",
      " 10  Proportion_0-15        float64\n",
      " 11  Proportion_16-29       float64\n",
      " 12  Proportion_30-44       float64\n",
      " 13  Proportion_45-64       float64\n",
      " 14  Proportion_65+         float64\n",
      "dtypes: float64(9), int64(1), object(5)\n",
      "memory usage: 559.2+ MB\n"
     ]
    }
   ],
   "source": [
    "# Checking the type of each column\n",
    "df.info()"
   ]
  },
  {
   "cell_type": "markdown",
   "id": "f6b06d6f",
   "metadata": {
    "scrolled": true
   },
   "source": [
    "Everything checks out so we can move on to the next dataset."
   ]
  },
  {
   "cell_type": "markdown",
   "id": "c9460991",
   "metadata": {},
   "source": [
    "<a id='2b'></a>\n",
    "### 2b) Households Without Cars"
   ]
  },
  {
   "cell_type": "markdown",
   "id": "98a0b578",
   "metadata": {},
   "source": [
    "We will repeat the same process as with the Age & Gender dataset:"
   ]
  },
  {
   "cell_type": "markdown",
   "id": "91c5e45e",
   "metadata": {},
   "source": [
    "First, let's import the CSV dataset into a dataframe: "
   ]
  },
  {
   "cell_type": "code",
   "execution_count": 28,
   "id": "6b688a98",
   "metadata": {},
   "outputs": [],
   "source": [
    "# Importing the dataset\n",
    "df_car = pd.read_csv('data/0car_households.csv')"
   ]
  },
  {
   "cell_type": "markdown",
   "id": "5a459121",
   "metadata": {},
   "source": [
    "Then let's perform some basic checks:"
   ]
  },
  {
   "cell_type": "code",
   "execution_count": 29,
   "id": "264f0be5",
   "metadata": {},
   "outputs": [
    {
     "data": {
      "text/html": [
       "<div>\n",
       "<style scoped>\n",
       "    .dataframe tbody tr th:only-of-type {\n",
       "        vertical-align: middle;\n",
       "    }\n",
       "\n",
       "    .dataframe tbody tr th {\n",
       "        vertical-align: top;\n",
       "    }\n",
       "\n",
       "    .dataframe thead th {\n",
       "        text-align: right;\n",
       "    }\n",
       "</style>\n",
       "<table border=\"1\" class=\"dataframe\">\n",
       "  <thead>\n",
       "    <tr style=\"text-align: right;\">\n",
       "      <th></th>\n",
       "      <th>df_car</th>\n",
       "      <th>All_households</th>\n",
       "      <th>0car_households</th>\n",
       "    </tr>\n",
       "  </thead>\n",
       "  <tbody>\n",
       "    <tr>\n",
       "      <th>0</th>\n",
       "      <td>E01000001</td>\n",
       "      <td>914</td>\n",
       "      <td>468</td>\n",
       "    </tr>\n",
       "    <tr>\n",
       "      <th>1</th>\n",
       "      <td>E01000002</td>\n",
       "      <td>855</td>\n",
       "      <td>445</td>\n",
       "    </tr>\n",
       "    <tr>\n",
       "      <th>2</th>\n",
       "      <td>E01000003</td>\n",
       "      <td>825</td>\n",
       "      <td>626</td>\n",
       "    </tr>\n",
       "    <tr>\n",
       "      <th>3</th>\n",
       "      <td>E01000004</td>\n",
       "      <td>902</td>\n",
       "      <td>573</td>\n",
       "    </tr>\n",
       "    <tr>\n",
       "      <th>4</th>\n",
       "      <td>E01000005</td>\n",
       "      <td>504</td>\n",
       "      <td>370</td>\n",
       "    </tr>\n",
       "  </tbody>\n",
       "</table>\n",
       "</div>"
      ],
      "text/plain": [
       "      df_car  All_households  0car_households\n",
       "0  E01000001             914              468\n",
       "1  E01000002             855              445\n",
       "2  E01000003             825              626\n",
       "3  E01000004             902              573\n",
       "4  E01000005             504              370"
      ]
     },
     "execution_count": 29,
     "metadata": {},
     "output_type": "execute_result"
    }
   ],
   "source": [
    "# Take a look at the first 5 rows\n",
    "df_car.head()"
   ]
  },
  {
   "cell_type": "code",
   "execution_count": 30,
   "id": "8686cf80",
   "metadata": {},
   "outputs": [
    {
     "data": {
      "text/plain": [
       "(32482, 3)"
      ]
     },
     "execution_count": 30,
     "metadata": {},
     "output_type": "execute_result"
    }
   ],
   "source": [
    "# look at the size of the dataset\n",
    "df_car.shape"
   ]
  },
  {
   "cell_type": "code",
   "execution_count": 31,
   "id": "d76fcc10",
   "metadata": {},
   "outputs": [
    {
     "data": {
      "text/html": [
       "<div>\n",
       "<style scoped>\n",
       "    .dataframe tbody tr th:only-of-type {\n",
       "        vertical-align: middle;\n",
       "    }\n",
       "\n",
       "    .dataframe tbody tr th {\n",
       "        vertical-align: top;\n",
       "    }\n",
       "\n",
       "    .dataframe thead th {\n",
       "        text-align: right;\n",
       "    }\n",
       "</style>\n",
       "<table border=\"1\" class=\"dataframe\">\n",
       "  <thead>\n",
       "    <tr style=\"text-align: right;\">\n",
       "      <th></th>\n",
       "      <th>All_households</th>\n",
       "      <th>0car_households</th>\n",
       "    </tr>\n",
       "  </thead>\n",
       "  <tbody>\n",
       "    <tr>\n",
       "      <th>count</th>\n",
       "      <td>32482.000000</td>\n",
       "      <td>32482.000000</td>\n",
       "    </tr>\n",
       "    <tr>\n",
       "      <th>mean</th>\n",
       "      <td>648.446617</td>\n",
       "      <td>173.863463</td>\n",
       "    </tr>\n",
       "    <tr>\n",
       "      <th>std</th>\n",
       "      <td>107.145049</td>\n",
       "      <td>118.702402</td>\n",
       "    </tr>\n",
       "    <tr>\n",
       "      <th>min</th>\n",
       "      <td>400.000000</td>\n",
       "      <td>0.000000</td>\n",
       "    </tr>\n",
       "    <tr>\n",
       "      <th>25%</th>\n",
       "      <td>587.000000</td>\n",
       "      <td>80.000000</td>\n",
       "    </tr>\n",
       "    <tr>\n",
       "      <th>50%</th>\n",
       "      <td>640.000000</td>\n",
       "      <td>147.000000</td>\n",
       "    </tr>\n",
       "    <tr>\n",
       "      <th>75%</th>\n",
       "      <td>695.000000</td>\n",
       "      <td>243.000000</td>\n",
       "    </tr>\n",
       "    <tr>\n",
       "      <th>max</th>\n",
       "      <td>1390.000000</td>\n",
       "      <td>911.000000</td>\n",
       "    </tr>\n",
       "  </tbody>\n",
       "</table>\n",
       "</div>"
      ],
      "text/plain": [
       "       All_households  0car_households\n",
       "count    32482.000000     32482.000000\n",
       "mean       648.446617       173.863463\n",
       "std        107.145049       118.702402\n",
       "min        400.000000         0.000000\n",
       "25%        587.000000        80.000000\n",
       "50%        640.000000       147.000000\n",
       "75%        695.000000       243.000000\n",
       "max       1390.000000       911.000000"
      ]
     },
     "execution_count": 31,
     "metadata": {},
     "output_type": "execute_result"
    }
   ],
   "source": [
    "# Looking at basic stats\n",
    "df_car.describe()"
   ]
  },
  {
   "cell_type": "markdown",
   "id": "082f5c20",
   "metadata": {},
   "source": [
    "Basic checks confirm that we have the following three columns:\n",
    "* `df_car`: The same code we can use to merge this dataset with the main one\n",
    "* `All_households`: The # of households by neighborhood. We can use it to engineer additional features in the end\n",
    "* `0car_households`: This is the # of households without cars\n",
    "\n",
    "As previously, we will change the column of interest into a proportion:"
   ]
  },
  {
   "cell_type": "code",
   "execution_count": 32,
   "id": "fd920246",
   "metadata": {},
   "outputs": [],
   "source": [
    "# Converting the number of Hhlds without cars into a proportion of all households\n",
    "df_car[\"Proportion_0car_hhlds\"] = df_car[\"0car_households\"] / df_car[\"All_households\"]"
   ]
  },
  {
   "cell_type": "code",
   "execution_count": 33,
   "id": "4ba09d15",
   "metadata": {},
   "outputs": [
    {
     "data": {
      "text/html": [
       "<div>\n",
       "<style scoped>\n",
       "    .dataframe tbody tr th:only-of-type {\n",
       "        vertical-align: middle;\n",
       "    }\n",
       "\n",
       "    .dataframe tbody tr th {\n",
       "        vertical-align: top;\n",
       "    }\n",
       "\n",
       "    .dataframe thead th {\n",
       "        text-align: right;\n",
       "    }\n",
       "</style>\n",
       "<table border=\"1\" class=\"dataframe\">\n",
       "  <thead>\n",
       "    <tr style=\"text-align: right;\">\n",
       "      <th></th>\n",
       "      <th>df_car</th>\n",
       "      <th>All_households</th>\n",
       "      <th>0car_households</th>\n",
       "      <th>Proportion_0car_hhlds</th>\n",
       "    </tr>\n",
       "  </thead>\n",
       "  <tbody>\n",
       "    <tr>\n",
       "      <th>0</th>\n",
       "      <td>E01000001</td>\n",
       "      <td>914</td>\n",
       "      <td>468</td>\n",
       "      <td>0.512035</td>\n",
       "    </tr>\n",
       "    <tr>\n",
       "      <th>1</th>\n",
       "      <td>E01000002</td>\n",
       "      <td>855</td>\n",
       "      <td>445</td>\n",
       "      <td>0.520468</td>\n",
       "    </tr>\n",
       "    <tr>\n",
       "      <th>2</th>\n",
       "      <td>E01000003</td>\n",
       "      <td>825</td>\n",
       "      <td>626</td>\n",
       "      <td>0.758788</td>\n",
       "    </tr>\n",
       "    <tr>\n",
       "      <th>3</th>\n",
       "      <td>E01000004</td>\n",
       "      <td>902</td>\n",
       "      <td>573</td>\n",
       "      <td>0.635255</td>\n",
       "    </tr>\n",
       "    <tr>\n",
       "      <th>4</th>\n",
       "      <td>E01000005</td>\n",
       "      <td>504</td>\n",
       "      <td>370</td>\n",
       "      <td>0.734127</td>\n",
       "    </tr>\n",
       "  </tbody>\n",
       "</table>\n",
       "</div>"
      ],
      "text/plain": [
       "      df_car  All_households  0car_households  Proportion_0car_hhlds\n",
       "0  E01000001             914              468               0.512035\n",
       "1  E01000002             855              445               0.520468\n",
       "2  E01000003             825              626               0.758788\n",
       "3  E01000004             902              573               0.635255\n",
       "4  E01000005             504              370               0.734127"
      ]
     },
     "execution_count": 33,
     "metadata": {},
     "output_type": "execute_result"
    }
   ],
   "source": [
    "# Checking out the first couple of rows\n",
    "df_car.head()"
   ]
  },
  {
   "cell_type": "markdown",
   "id": "1aabc1b8",
   "metadata": {},
   "source": [
    "Now we can safely drop the original column"
   ]
  },
  {
   "cell_type": "code",
   "execution_count": 34,
   "id": "e0b5d015",
   "metadata": {},
   "outputs": [],
   "source": [
    "# Dropping the column\n",
    "df_car.drop(axis=0, columns={'0car_households'}, inplace=True)"
   ]
  },
  {
   "cell_type": "markdown",
   "id": "eec9338b",
   "metadata": {},
   "source": [
    "Let's now check for duplication and null values:"
   ]
  },
  {
   "cell_type": "code",
   "execution_count": 35,
   "id": "208cbf4d",
   "metadata": {},
   "outputs": [
    {
     "data": {
      "text/plain": [
       "0"
      ]
     },
     "execution_count": 35,
     "metadata": {},
     "output_type": "execute_result"
    }
   ],
   "source": [
    "# Checking for duplicate rows\n",
    "df_car.duplicated().sum()"
   ]
  },
  {
   "cell_type": "code",
   "execution_count": 36,
   "id": "f484f47d",
   "metadata": {},
   "outputs": [
    {
     "data": {
      "text/plain": [
       "df_car                   0\n",
       "All_households           0\n",
       "Proportion_0car_hhlds    0\n",
       "dtype: int64"
      ]
     },
     "execution_count": 36,
     "metadata": {},
     "output_type": "execute_result"
    }
   ],
   "source": [
    "# Checking for null values\n",
    "df_car.isna().sum()"
   ]
  },
  {
   "cell_type": "markdown",
   "id": "09d5b14d",
   "metadata": {},
   "source": [
    "All looks good so we can move on to merging with our main dataset:"
   ]
  },
  {
   "cell_type": "code",
   "execution_count": 37,
   "id": "0613039e",
   "metadata": {},
   "outputs": [],
   "source": [
    "# Naming the new dataset DF and outer joining on neighborhoods\n",
    "df = df.merge(df_car, how='outer', left_on='LSOA code', right_on='df_car')"
   ]
  },
  {
   "cell_type": "markdown",
   "id": "0177e194",
   "metadata": {},
   "source": [
    "Let's check what we have:"
   ]
  },
  {
   "cell_type": "code",
   "execution_count": 38,
   "id": "ed0f5585",
   "metadata": {},
   "outputs": [
    {
     "data": {
      "text/plain": [
       "(4582815, 18)"
      ]
     },
     "execution_count": 38,
     "metadata": {},
     "output_type": "execute_result"
    }
   ],
   "source": [
    "# Checking the size\n",
    "df.shape"
   ]
  },
  {
   "cell_type": "code",
   "execution_count": 39,
   "id": "eacbcca3",
   "metadata": {},
   "outputs": [
    {
     "data": {
      "text/html": [
       "<div>\n",
       "<style scoped>\n",
       "    .dataframe tbody tr th:only-of-type {\n",
       "        vertical-align: middle;\n",
       "    }\n",
       "\n",
       "    .dataframe tbody tr th {\n",
       "        vertical-align: top;\n",
       "    }\n",
       "\n",
       "    .dataframe thead th {\n",
       "        text-align: right;\n",
       "    }\n",
       "</style>\n",
       "<table border=\"1\" class=\"dataframe\">\n",
       "  <thead>\n",
       "    <tr style=\"text-align: right;\">\n",
       "      <th></th>\n",
       "      <th>Month</th>\n",
       "      <th>Police_Jurisdiction</th>\n",
       "      <th>Longitude</th>\n",
       "      <th>Latitude</th>\n",
       "      <th>LSOA code</th>\n",
       "      <th>LSOA name</th>\n",
       "      <th>Crime type</th>\n",
       "      <th>Last outcome category</th>\n",
       "      <th>Population</th>\n",
       "      <th>Proportion_Males</th>\n",
       "      <th>Proportion_0-15</th>\n",
       "      <th>Proportion_16-29</th>\n",
       "      <th>Proportion_30-44</th>\n",
       "      <th>Proportion_45-64</th>\n",
       "      <th>Proportion_65+</th>\n",
       "      <th>df_car</th>\n",
       "      <th>All_households</th>\n",
       "      <th>Proportion_0car_hhlds</th>\n",
       "    </tr>\n",
       "  </thead>\n",
       "  <tbody>\n",
       "    <tr>\n",
       "      <th>0</th>\n",
       "      <td>1.0</td>\n",
       "      <td>Avon and Somerset Constabulary</td>\n",
       "      <td>-2.515072</td>\n",
       "      <td>51.419357</td>\n",
       "      <td>E01014399</td>\n",
       "      <td>Bath and North East Somerset 001A</td>\n",
       "      <td>Burglary</td>\n",
       "      <td>Status update unavailable</td>\n",
       "      <td>2161.0</td>\n",
       "      <td>0.467376</td>\n",
       "      <td>0.176307</td>\n",
       "      <td>0.135585</td>\n",
       "      <td>0.210088</td>\n",
       "      <td>0.204535</td>\n",
       "      <td>0.273484</td>\n",
       "      <td>E01014399</td>\n",
       "      <td>649.0</td>\n",
       "      <td>0.109399</td>\n",
       "    </tr>\n",
       "    <tr>\n",
       "      <th>1</th>\n",
       "      <td>1.0</td>\n",
       "      <td>Avon and Somerset Constabulary</td>\n",
       "      <td>-2.494870</td>\n",
       "      <td>51.422276</td>\n",
       "      <td>E01014399</td>\n",
       "      <td>Bath and North East Somerset 001A</td>\n",
       "      <td>Criminal damage and arson</td>\n",
       "      <td>Status update unavailable</td>\n",
       "      <td>2161.0</td>\n",
       "      <td>0.467376</td>\n",
       "      <td>0.176307</td>\n",
       "      <td>0.135585</td>\n",
       "      <td>0.210088</td>\n",
       "      <td>0.204535</td>\n",
       "      <td>0.273484</td>\n",
       "      <td>E01014399</td>\n",
       "      <td>649.0</td>\n",
       "      <td>0.109399</td>\n",
       "    </tr>\n",
       "    <tr>\n",
       "      <th>2</th>\n",
       "      <td>1.0</td>\n",
       "      <td>Avon and Somerset Constabulary</td>\n",
       "      <td>-2.494870</td>\n",
       "      <td>51.422276</td>\n",
       "      <td>E01014399</td>\n",
       "      <td>Bath and North East Somerset 001A</td>\n",
       "      <td>Criminal damage and arson</td>\n",
       "      <td>Status update unavailable</td>\n",
       "      <td>2161.0</td>\n",
       "      <td>0.467376</td>\n",
       "      <td>0.176307</td>\n",
       "      <td>0.135585</td>\n",
       "      <td>0.210088</td>\n",
       "      <td>0.204535</td>\n",
       "      <td>0.273484</td>\n",
       "      <td>E01014399</td>\n",
       "      <td>649.0</td>\n",
       "      <td>0.109399</td>\n",
       "    </tr>\n",
       "    <tr>\n",
       "      <th>3</th>\n",
       "      <td>1.0</td>\n",
       "      <td>Avon and Somerset Constabulary</td>\n",
       "      <td>-2.511927</td>\n",
       "      <td>51.409435</td>\n",
       "      <td>E01014399</td>\n",
       "      <td>Bath and North East Somerset 001A</td>\n",
       "      <td>Public order</td>\n",
       "      <td>Unable to prosecute suspect</td>\n",
       "      <td>2161.0</td>\n",
       "      <td>0.467376</td>\n",
       "      <td>0.176307</td>\n",
       "      <td>0.135585</td>\n",
       "      <td>0.210088</td>\n",
       "      <td>0.204535</td>\n",
       "      <td>0.273484</td>\n",
       "      <td>E01014399</td>\n",
       "      <td>649.0</td>\n",
       "      <td>0.109399</td>\n",
       "    </tr>\n",
       "    <tr>\n",
       "      <th>4</th>\n",
       "      <td>1.0</td>\n",
       "      <td>Avon and Somerset Constabulary</td>\n",
       "      <td>-2.511761</td>\n",
       "      <td>51.409966</td>\n",
       "      <td>E01014399</td>\n",
       "      <td>Bath and North East Somerset 001A</td>\n",
       "      <td>Violence and sexual offences</td>\n",
       "      <td>Unable to prosecute suspect</td>\n",
       "      <td>2161.0</td>\n",
       "      <td>0.467376</td>\n",
       "      <td>0.176307</td>\n",
       "      <td>0.135585</td>\n",
       "      <td>0.210088</td>\n",
       "      <td>0.204535</td>\n",
       "      <td>0.273484</td>\n",
       "      <td>E01014399</td>\n",
       "      <td>649.0</td>\n",
       "      <td>0.109399</td>\n",
       "    </tr>\n",
       "  </tbody>\n",
       "</table>\n",
       "</div>"
      ],
      "text/plain": [
       "   Month             Police_Jurisdiction  Longitude   Latitude  LSOA code  \\\n",
       "0    1.0  Avon and Somerset Constabulary  -2.515072  51.419357  E01014399   \n",
       "1    1.0  Avon and Somerset Constabulary  -2.494870  51.422276  E01014399   \n",
       "2    1.0  Avon and Somerset Constabulary  -2.494870  51.422276  E01014399   \n",
       "3    1.0  Avon and Somerset Constabulary  -2.511927  51.409435  E01014399   \n",
       "4    1.0  Avon and Somerset Constabulary  -2.511761  51.409966  E01014399   \n",
       "\n",
       "                           LSOA name                    Crime type  \\\n",
       "0  Bath and North East Somerset 001A                      Burglary   \n",
       "1  Bath and North East Somerset 001A     Criminal damage and arson   \n",
       "2  Bath and North East Somerset 001A     Criminal damage and arson   \n",
       "3  Bath and North East Somerset 001A                  Public order   \n",
       "4  Bath and North East Somerset 001A  Violence and sexual offences   \n",
       "\n",
       "         Last outcome category  Population  Proportion_Males  Proportion_0-15  \\\n",
       "0    Status update unavailable      2161.0          0.467376         0.176307   \n",
       "1    Status update unavailable      2161.0          0.467376         0.176307   \n",
       "2    Status update unavailable      2161.0          0.467376         0.176307   \n",
       "3  Unable to prosecute suspect      2161.0          0.467376         0.176307   \n",
       "4  Unable to prosecute suspect      2161.0          0.467376         0.176307   \n",
       "\n",
       "   Proportion_16-29  Proportion_30-44  Proportion_45-64  Proportion_65+  \\\n",
       "0          0.135585          0.210088          0.204535        0.273484   \n",
       "1          0.135585          0.210088          0.204535        0.273484   \n",
       "2          0.135585          0.210088          0.204535        0.273484   \n",
       "3          0.135585          0.210088          0.204535        0.273484   \n",
       "4          0.135585          0.210088          0.204535        0.273484   \n",
       "\n",
       "      df_car  All_households  Proportion_0car_hhlds  \n",
       "0  E01014399           649.0               0.109399  \n",
       "1  E01014399           649.0               0.109399  \n",
       "2  E01014399           649.0               0.109399  \n",
       "3  E01014399           649.0               0.109399  \n",
       "4  E01014399           649.0               0.109399  "
      ]
     },
     "execution_count": 39,
     "metadata": {},
     "output_type": "execute_result"
    }
   ],
   "source": [
    "# Checking the first few rows\n",
    "df.head()"
   ]
  },
  {
   "cell_type": "markdown",
   "id": "c1d7e2d7",
   "metadata": {},
   "source": [
    "Everything checks out, and the new columns were successfully added. Now we can drop the extra neighborhood column that we performed the merge on:"
   ]
  },
  {
   "cell_type": "code",
   "execution_count": 40,
   "id": "73ef68c0",
   "metadata": {},
   "outputs": [],
   "source": [
    "# Dropping the extra LSOA code\n",
    "df.drop(axis=0, columns='df_car', inplace=True)"
   ]
  },
  {
   "cell_type": "markdown",
   "id": "5be16b52",
   "metadata": {},
   "source": [
    "At this point, we can also introduce an additional feature describing the Number of people in Household, and drop the Number of households column:"
   ]
  },
  {
   "cell_type": "code",
   "execution_count": 41,
   "id": "5aeb703f",
   "metadata": {},
   "outputs": [],
   "source": [
    "# Calculating the new feature\n",
    "df[\"#_ppl_hhld\"] = df[\"All_households\"] / df[\"Population\"]"
   ]
  },
  {
   "cell_type": "code",
   "execution_count": 42,
   "id": "d12a81c8",
   "metadata": {},
   "outputs": [],
   "source": [
    "# Dropping the # of housholds as we do not need this\n",
    "df.drop(axis=0, columns='All_households', inplace=True)"
   ]
  },
  {
   "cell_type": "markdown",
   "id": "cacf5d71",
   "metadata": {},
   "source": [
    "Now let's check if the merge has introduced any new null values:"
   ]
  },
  {
   "cell_type": "code",
   "execution_count": 43,
   "id": "5817e445",
   "metadata": {},
   "outputs": [
    {
     "data": {
      "text/plain": [
       "Month                      2082\n",
       "Police_Jurisdiction        2082\n",
       "Longitude                  2082\n",
       "Latitude                   2082\n",
       "LSOA code                  2082\n",
       "LSOA name                  2082\n",
       "Crime type                 2082\n",
       "Last outcome category      2082\n",
       "Population                 2082\n",
       "Proportion_Males           2082\n",
       "Proportion_0-15            2082\n",
       "Proportion_16-29           2082\n",
       "Proportion_30-44           2082\n",
       "Proportion_45-64           2082\n",
       "Proportion_65+             2082\n",
       "Proportion_0car_hhlds    532587\n",
       "#_ppl_hhld               534669\n",
       "dtype: int64"
      ]
     },
     "execution_count": 43,
     "metadata": {},
     "output_type": "execute_result"
    }
   ],
   "source": [
    "# Checking null values per column\n",
    "df.isnull().sum()"
   ]
  },
  {
   "cell_type": "code",
   "execution_count": 44,
   "id": "6387de55",
   "metadata": {},
   "outputs": [
    {
     "name": "stdout",
     "output_type": "stream",
     "text": [
      "The percentage of null rows:  Month                     0.045451\n",
      "Police_Jurisdiction       0.045451\n",
      "Longitude                 0.045451\n",
      "Latitude                  0.045451\n",
      "LSOA code                 0.045451\n",
      "LSOA name                 0.045451\n",
      "Crime type                0.045451\n",
      "Last outcome category     0.045451\n",
      "Population                0.045451\n",
      "Proportion_Males          0.045451\n",
      "Proportion_0-15           0.045451\n",
      "Proportion_16-29          0.045451\n",
      "Proportion_30-44          0.045451\n",
      "Proportion_45-64          0.045451\n",
      "Proportion_65+            0.045451\n",
      "Proportion_0car_hhlds    11.626676\n",
      "#_ppl_hhld               11.672128\n",
      "dtype: float64\n"
     ]
    }
   ],
   "source": [
    "print(\"The percentage of null rows: \", df.isnull().sum() / len(df_crime) * 100)"
   ]
  },
  {
   "cell_type": "markdown",
   "id": "c6675bdf",
   "metadata": {},
   "source": [
    "While the proportion of missing values is fairly large for the new values (11%), we have a large dataset so can drop these."
   ]
  },
  {
   "cell_type": "code",
   "execution_count": 45,
   "id": "b6b81831",
   "metadata": {},
   "outputs": [],
   "source": [
    "# Dropping null values\n",
    "df.dropna(inplace=True)"
   ]
  },
  {
   "cell_type": "markdown",
   "id": "9c2d7eea",
   "metadata": {},
   "source": [
    "Now we can proceed to our next dataset."
   ]
  },
  {
   "cell_type": "markdown",
   "id": "6e04a961",
   "metadata": {},
   "source": [
    "<a id='2c'></a>\n",
    "### 2c) Deprivation Index"
   ]
  },
  {
   "cell_type": "markdown",
   "id": "0994d1c8",
   "metadata": {},
   "source": [
    "First, let's import the CSV dataset into a dataframe: "
   ]
  },
  {
   "cell_type": "code",
   "execution_count": 46,
   "id": "5cb0b883",
   "metadata": {},
   "outputs": [],
   "source": [
    "# Importing the dataset\n",
    "df_deprivation = pd.read_csv('data/File_1_ID_2015_Index_of_Multiple_Deprivation.csv')"
   ]
  },
  {
   "cell_type": "markdown",
   "id": "d39ef2a4",
   "metadata": {},
   "source": [
    "Then let's perform some basic checks:"
   ]
  },
  {
   "cell_type": "code",
   "execution_count": 47,
   "id": "29954d8e",
   "metadata": {},
   "outputs": [
    {
     "data": {
      "text/html": [
       "<div>\n",
       "<style scoped>\n",
       "    .dataframe tbody tr th:only-of-type {\n",
       "        vertical-align: middle;\n",
       "    }\n",
       "\n",
       "    .dataframe tbody tr th {\n",
       "        vertical-align: top;\n",
       "    }\n",
       "\n",
       "    .dataframe thead th {\n",
       "        text-align: right;\n",
       "    }\n",
       "</style>\n",
       "<table border=\"1\" class=\"dataframe\">\n",
       "  <thead>\n",
       "    <tr style=\"text-align: right;\">\n",
       "      <th></th>\n",
       "      <th>LSOA code (2011)</th>\n",
       "      <th>Index of Multiple Deprivation (IMD) Rank (where 1 is most deprived)</th>\n",
       "    </tr>\n",
       "  </thead>\n",
       "  <tbody>\n",
       "    <tr>\n",
       "      <th>0</th>\n",
       "      <td>E01031349</td>\n",
       "      <td>21,352</td>\n",
       "    </tr>\n",
       "    <tr>\n",
       "      <th>1</th>\n",
       "      <td>E01031350</td>\n",
       "      <td>8,864</td>\n",
       "    </tr>\n",
       "    <tr>\n",
       "      <th>2</th>\n",
       "      <td>E01031351</td>\n",
       "      <td>22,143</td>\n",
       "    </tr>\n",
       "    <tr>\n",
       "      <th>3</th>\n",
       "      <td>E01031352</td>\n",
       "      <td>17,252</td>\n",
       "    </tr>\n",
       "    <tr>\n",
       "      <th>4</th>\n",
       "      <td>E01031370</td>\n",
       "      <td>15,643</td>\n",
       "    </tr>\n",
       "  </tbody>\n",
       "</table>\n",
       "</div>"
      ],
      "text/plain": [
       "  LSOA code (2011)  \\\n",
       "0        E01031349   \n",
       "1        E01031350   \n",
       "2        E01031351   \n",
       "3        E01031352   \n",
       "4        E01031370   \n",
       "\n",
       "  Index of Multiple Deprivation (IMD) Rank (where 1 is most deprived)  \n",
       "0                                             21,352                   \n",
       "1                                              8,864                   \n",
       "2                                             22,143                   \n",
       "3                                             17,252                   \n",
       "4                                             15,643                   "
      ]
     },
     "execution_count": 47,
     "metadata": {},
     "output_type": "execute_result"
    }
   ],
   "source": [
    "# Take a look at the first 5 rows\n",
    "df_deprivation.head()"
   ]
  },
  {
   "cell_type": "code",
   "execution_count": 48,
   "id": "6b8b6fc4",
   "metadata": {},
   "outputs": [
    {
     "data": {
      "text/plain": [
       "(32844, 2)"
      ]
     },
     "execution_count": 48,
     "metadata": {},
     "output_type": "execute_result"
    }
   ],
   "source": [
    "# Find out the size\n",
    "df_deprivation.shape"
   ]
  },
  {
   "cell_type": "markdown",
   "id": "aad19572",
   "metadata": {},
   "source": [
    "We notice the following:\n",
    "\n",
    "    * There are two columns in the dataset, one is the same neighborhood index we will join this dataset on\n",
    "    * The second one is a Deprivation Index, with 1 being the most deprived\n",
    "    * The data in the second column has extra commas which we need to remove in order to read it as an integer"
   ]
  },
  {
   "cell_type": "code",
   "execution_count": 49,
   "id": "2b211fee",
   "metadata": {},
   "outputs": [],
   "source": [
    "# Removing comma (replacing it with nothing)\n",
    "df_deprivation.replace(',','', regex=True, inplace=True)"
   ]
  },
  {
   "cell_type": "markdown",
   "id": "0e1be703",
   "metadata": {},
   "source": [
    "Let's check if this worked:"
   ]
  },
  {
   "cell_type": "code",
   "execution_count": 50,
   "id": "2d7fb333",
   "metadata": {},
   "outputs": [
    {
     "name": "stdout",
     "output_type": "stream",
     "text": [
      "<class 'pandas.core.frame.DataFrame'>\n",
      "RangeIndex: 32844 entries, 0 to 32843\n",
      "Data columns (total 2 columns):\n",
      " #   Column                                                               Non-Null Count  Dtype \n",
      "---  ------                                                               --------------  ----- \n",
      " 0   LSOA code (2011)                                                     32844 non-null  object\n",
      " 1   Index of Multiple Deprivation (IMD) Rank (where 1 is most deprived)  32844 non-null  object\n",
      "dtypes: object(2)\n",
      "memory usage: 513.3+ KB\n"
     ]
    }
   ],
   "source": [
    "# Checking dtypes\n",
    "df_deprivation.info()"
   ]
  },
  {
   "cell_type": "markdown",
   "id": "b0c89449",
   "metadata": {},
   "source": [
    "The Deprivation Index is still an object, let's change to Integer:"
   ]
  },
  {
   "cell_type": "code",
   "execution_count": 51,
   "id": "01d4b2d6",
   "metadata": {},
   "outputs": [],
   "source": [
    "# Casting as integer\n",
    "df_deprivation['Index of Multiple Deprivation (IMD) Rank (where 1 is most deprived)'] = df_deprivation['Index of Multiple Deprivation (IMD) Rank (where 1 is most deprived)'].astype(int)"
   ]
  },
  {
   "cell_type": "markdown",
   "id": "750a654e",
   "metadata": {},
   "source": [
    "Let's now change the name of the column:"
   ]
  },
  {
   "cell_type": "code",
   "execution_count": 52,
   "id": "23adfdfe",
   "metadata": {},
   "outputs": [],
   "source": [
    "# Renaming the column\n",
    "df_deprivation.rename(inplace=True, columns={'Index of Multiple Deprivation (IMD) Rank (where 1 is most deprived)': 'Deprivation_Index'})"
   ]
  },
  {
   "cell_type": "markdown",
   "id": "2b208187",
   "metadata": {},
   "source": [
    "Now let's check for duplicated and null values:"
   ]
  },
  {
   "cell_type": "code",
   "execution_count": 53,
   "id": "34258cfb",
   "metadata": {},
   "outputs": [
    {
     "data": {
      "text/plain": [
       "0"
      ]
     },
     "execution_count": 53,
     "metadata": {},
     "output_type": "execute_result"
    }
   ],
   "source": [
    "# Checking for duplicated values\n",
    "df_deprivation.duplicated().sum()"
   ]
  },
  {
   "cell_type": "code",
   "execution_count": 54,
   "id": "12125d76",
   "metadata": {},
   "outputs": [
    {
     "data": {
      "text/plain": [
       "LSOA code (2011)     0\n",
       "Deprivation_Index    0\n",
       "dtype: int64"
      ]
     },
     "execution_count": 54,
     "metadata": {},
     "output_type": "execute_result"
    }
   ],
   "source": [
    "# Checking for null values\n",
    "df_deprivation.isna().sum()"
   ]
  },
  {
   "cell_type": "markdown",
   "id": "36c55f5b",
   "metadata": {},
   "source": [
    "Everything looks good so let's move to the merge:"
   ]
  },
  {
   "cell_type": "code",
   "execution_count": 55,
   "id": "0840897f",
   "metadata": {},
   "outputs": [],
   "source": [
    "# Outer joining on neighborhoods\n",
    "df = df.merge(df_deprivation, how='outer', left_on='LSOA code', right_on='LSOA code (2011)')"
   ]
  },
  {
   "cell_type": "markdown",
   "id": "23208487",
   "metadata": {},
   "source": [
    "Now we can drop the extra neighborhood column:"
   ]
  },
  {
   "cell_type": "code",
   "execution_count": 56,
   "id": "d6274c8b",
   "metadata": {},
   "outputs": [],
   "source": [
    "# Dropping the column\n",
    "df.drop(axis=0, columns='LSOA code (2011)', inplace=True)"
   ]
  },
  {
   "cell_type": "markdown",
   "id": "a925c017",
   "metadata": {},
   "source": [
    "Let's check if the merge has introduced any null values:"
   ]
  },
  {
   "cell_type": "code",
   "execution_count": 57,
   "id": "5fa9e80d",
   "metadata": {},
   "outputs": [
    {
     "data": {
      "text/plain": [
       "Month                    2444\n",
       "Police_Jurisdiction      2444\n",
       "Longitude                2444\n",
       "Latitude                 2444\n",
       "LSOA code                2444\n",
       "LSOA name                2444\n",
       "Crime type               2444\n",
       "Last outcome category    2444\n",
       "Population               2444\n",
       "Proportion_Males         2444\n",
       "Proportion_0-15          2444\n",
       "Proportion_16-29         2444\n",
       "Proportion_30-44         2444\n",
       "Proportion_45-64         2444\n",
       "Proportion_65+           2444\n",
       "Proportion_0car_hhlds    2444\n",
       "#_ppl_hhld               2444\n",
       "Deprivation_Index           0\n",
       "dtype: int64"
      ]
     },
     "execution_count": 57,
     "metadata": {},
     "output_type": "execute_result"
    }
   ],
   "source": [
    "# Checking for nulls\n",
    "df.isnull().sum()"
   ]
  },
  {
   "cell_type": "markdown",
   "id": "05048ddc",
   "metadata": {},
   "source": [
    "Numbers seem to be pretty small so let's drop them:"
   ]
  },
  {
   "cell_type": "code",
   "execution_count": 58,
   "id": "c595cb65",
   "metadata": {},
   "outputs": [],
   "source": [
    "# Dropping null values\n",
    "df.dropna(inplace=True)"
   ]
  },
  {
   "cell_type": "markdown",
   "id": "c36e7e9a",
   "metadata": {},
   "source": [
    "Final sanity check:"
   ]
  },
  {
   "cell_type": "code",
   "execution_count": 59,
   "id": "3c2ff9e7",
   "metadata": {
    "scrolled": true
   },
   "outputs": [
    {
     "data": {
      "text/html": [
       "<div>\n",
       "<style scoped>\n",
       "    .dataframe tbody tr th:only-of-type {\n",
       "        vertical-align: middle;\n",
       "    }\n",
       "\n",
       "    .dataframe tbody tr th {\n",
       "        vertical-align: top;\n",
       "    }\n",
       "\n",
       "    .dataframe thead th {\n",
       "        text-align: right;\n",
       "    }\n",
       "</style>\n",
       "<table border=\"1\" class=\"dataframe\">\n",
       "  <thead>\n",
       "    <tr style=\"text-align: right;\">\n",
       "      <th></th>\n",
       "      <th>Month</th>\n",
       "      <th>Police_Jurisdiction</th>\n",
       "      <th>Longitude</th>\n",
       "      <th>Latitude</th>\n",
       "      <th>LSOA code</th>\n",
       "      <th>LSOA name</th>\n",
       "      <th>Crime type</th>\n",
       "      <th>Last outcome category</th>\n",
       "      <th>Population</th>\n",
       "      <th>Proportion_Males</th>\n",
       "      <th>Proportion_0-15</th>\n",
       "      <th>Proportion_16-29</th>\n",
       "      <th>Proportion_30-44</th>\n",
       "      <th>Proportion_45-64</th>\n",
       "      <th>Proportion_65+</th>\n",
       "      <th>Proportion_0car_hhlds</th>\n",
       "      <th>#_ppl_hhld</th>\n",
       "      <th>Deprivation_Index</th>\n",
       "    </tr>\n",
       "  </thead>\n",
       "  <tbody>\n",
       "    <tr>\n",
       "      <th>0</th>\n",
       "      <td>1.0</td>\n",
       "      <td>Avon and Somerset Constabulary</td>\n",
       "      <td>-2.515072</td>\n",
       "      <td>51.419357</td>\n",
       "      <td>E01014399</td>\n",
       "      <td>Bath and North East Somerset 001A</td>\n",
       "      <td>Burglary</td>\n",
       "      <td>Status update unavailable</td>\n",
       "      <td>2161.0</td>\n",
       "      <td>0.467376</td>\n",
       "      <td>0.176307</td>\n",
       "      <td>0.135585</td>\n",
       "      <td>0.210088</td>\n",
       "      <td>0.204535</td>\n",
       "      <td>0.273484</td>\n",
       "      <td>0.109399</td>\n",
       "      <td>0.300324</td>\n",
       "      <td>19195</td>\n",
       "    </tr>\n",
       "    <tr>\n",
       "      <th>1</th>\n",
       "      <td>1.0</td>\n",
       "      <td>Avon and Somerset Constabulary</td>\n",
       "      <td>-2.494870</td>\n",
       "      <td>51.422276</td>\n",
       "      <td>E01014399</td>\n",
       "      <td>Bath and North East Somerset 001A</td>\n",
       "      <td>Criminal damage and arson</td>\n",
       "      <td>Status update unavailable</td>\n",
       "      <td>2161.0</td>\n",
       "      <td>0.467376</td>\n",
       "      <td>0.176307</td>\n",
       "      <td>0.135585</td>\n",
       "      <td>0.210088</td>\n",
       "      <td>0.204535</td>\n",
       "      <td>0.273484</td>\n",
       "      <td>0.109399</td>\n",
       "      <td>0.300324</td>\n",
       "      <td>19195</td>\n",
       "    </tr>\n",
       "    <tr>\n",
       "      <th>2</th>\n",
       "      <td>1.0</td>\n",
       "      <td>Avon and Somerset Constabulary</td>\n",
       "      <td>-2.494870</td>\n",
       "      <td>51.422276</td>\n",
       "      <td>E01014399</td>\n",
       "      <td>Bath and North East Somerset 001A</td>\n",
       "      <td>Criminal damage and arson</td>\n",
       "      <td>Status update unavailable</td>\n",
       "      <td>2161.0</td>\n",
       "      <td>0.467376</td>\n",
       "      <td>0.176307</td>\n",
       "      <td>0.135585</td>\n",
       "      <td>0.210088</td>\n",
       "      <td>0.204535</td>\n",
       "      <td>0.273484</td>\n",
       "      <td>0.109399</td>\n",
       "      <td>0.300324</td>\n",
       "      <td>19195</td>\n",
       "    </tr>\n",
       "    <tr>\n",
       "      <th>3</th>\n",
       "      <td>1.0</td>\n",
       "      <td>Avon and Somerset Constabulary</td>\n",
       "      <td>-2.511927</td>\n",
       "      <td>51.409435</td>\n",
       "      <td>E01014399</td>\n",
       "      <td>Bath and North East Somerset 001A</td>\n",
       "      <td>Public order</td>\n",
       "      <td>Unable to prosecute suspect</td>\n",
       "      <td>2161.0</td>\n",
       "      <td>0.467376</td>\n",
       "      <td>0.176307</td>\n",
       "      <td>0.135585</td>\n",
       "      <td>0.210088</td>\n",
       "      <td>0.204535</td>\n",
       "      <td>0.273484</td>\n",
       "      <td>0.109399</td>\n",
       "      <td>0.300324</td>\n",
       "      <td>19195</td>\n",
       "    </tr>\n",
       "    <tr>\n",
       "      <th>4</th>\n",
       "      <td>1.0</td>\n",
       "      <td>Avon and Somerset Constabulary</td>\n",
       "      <td>-2.511761</td>\n",
       "      <td>51.409966</td>\n",
       "      <td>E01014399</td>\n",
       "      <td>Bath and North East Somerset 001A</td>\n",
       "      <td>Violence and sexual offences</td>\n",
       "      <td>Unable to prosecute suspect</td>\n",
       "      <td>2161.0</td>\n",
       "      <td>0.467376</td>\n",
       "      <td>0.176307</td>\n",
       "      <td>0.135585</td>\n",
       "      <td>0.210088</td>\n",
       "      <td>0.204535</td>\n",
       "      <td>0.273484</td>\n",
       "      <td>0.109399</td>\n",
       "      <td>0.300324</td>\n",
       "      <td>19195</td>\n",
       "    </tr>\n",
       "  </tbody>\n",
       "</table>\n",
       "</div>"
      ],
      "text/plain": [
       "   Month             Police_Jurisdiction  Longitude   Latitude  LSOA code  \\\n",
       "0    1.0  Avon and Somerset Constabulary  -2.515072  51.419357  E01014399   \n",
       "1    1.0  Avon and Somerset Constabulary  -2.494870  51.422276  E01014399   \n",
       "2    1.0  Avon and Somerset Constabulary  -2.494870  51.422276  E01014399   \n",
       "3    1.0  Avon and Somerset Constabulary  -2.511927  51.409435  E01014399   \n",
       "4    1.0  Avon and Somerset Constabulary  -2.511761  51.409966  E01014399   \n",
       "\n",
       "                           LSOA name                    Crime type  \\\n",
       "0  Bath and North East Somerset 001A                      Burglary   \n",
       "1  Bath and North East Somerset 001A     Criminal damage and arson   \n",
       "2  Bath and North East Somerset 001A     Criminal damage and arson   \n",
       "3  Bath and North East Somerset 001A                  Public order   \n",
       "4  Bath and North East Somerset 001A  Violence and sexual offences   \n",
       "\n",
       "         Last outcome category  Population  Proportion_Males  Proportion_0-15  \\\n",
       "0    Status update unavailable      2161.0          0.467376         0.176307   \n",
       "1    Status update unavailable      2161.0          0.467376         0.176307   \n",
       "2    Status update unavailable      2161.0          0.467376         0.176307   \n",
       "3  Unable to prosecute suspect      2161.0          0.467376         0.176307   \n",
       "4  Unable to prosecute suspect      2161.0          0.467376         0.176307   \n",
       "\n",
       "   Proportion_16-29  Proportion_30-44  Proportion_45-64  Proportion_65+  \\\n",
       "0          0.135585          0.210088          0.204535        0.273484   \n",
       "1          0.135585          0.210088          0.204535        0.273484   \n",
       "2          0.135585          0.210088          0.204535        0.273484   \n",
       "3          0.135585          0.210088          0.204535        0.273484   \n",
       "4          0.135585          0.210088          0.204535        0.273484   \n",
       "\n",
       "   Proportion_0car_hhlds  #_ppl_hhld  Deprivation_Index  \n",
       "0               0.109399    0.300324              19195  \n",
       "1               0.109399    0.300324              19195  \n",
       "2               0.109399    0.300324              19195  \n",
       "3               0.109399    0.300324              19195  \n",
       "4               0.109399    0.300324              19195  "
      ]
     },
     "execution_count": 59,
     "metadata": {},
     "output_type": "execute_result"
    }
   ],
   "source": [
    "# First few rows\n",
    "df.head()"
   ]
  },
  {
   "cell_type": "code",
   "execution_count": 60,
   "id": "62ed57bc",
   "metadata": {},
   "outputs": [
    {
     "name": "stdout",
     "output_type": "stream",
     "text": [
      "<class 'pandas.core.frame.DataFrame'>\n",
      "Int64Index: 4048146 entries, 0 to 4048145\n",
      "Data columns (total 18 columns):\n",
      " #   Column                 Dtype  \n",
      "---  ------                 -----  \n",
      " 0   Month                  float64\n",
      " 1   Police_Jurisdiction    object \n",
      " 2   Longitude              float64\n",
      " 3   Latitude               float64\n",
      " 4   LSOA code              object \n",
      " 5   LSOA name              object \n",
      " 6   Crime type             object \n",
      " 7   Last outcome category  object \n",
      " 8   Population             float64\n",
      " 9   Proportion_Males       float64\n",
      " 10  Proportion_0-15        float64\n",
      " 11  Proportion_16-29       float64\n",
      " 12  Proportion_30-44       float64\n",
      " 13  Proportion_45-64       float64\n",
      " 14  Proportion_65+         float64\n",
      " 15  Proportion_0car_hhlds  float64\n",
      " 16  #_ppl_hhld             float64\n",
      " 17  Deprivation_Index      int32  \n",
      "dtypes: float64(12), int32(1), object(5)\n",
      "memory usage: 571.4+ MB\n"
     ]
    }
   ],
   "source": [
    "# Dtypes\n",
    "df.info()"
   ]
  },
  {
   "cell_type": "markdown",
   "id": "b1ef97a2",
   "metadata": {},
   "source": [
    "We can move on to the next dataset."
   ]
  },
  {
   "cell_type": "markdown",
   "id": "67c15e09",
   "metadata": {},
   "source": [
    "<a id='2d'></a>\n",
    "### 2d) Job Seeker Allowance "
   ]
  },
  {
   "cell_type": "markdown",
   "id": "9ea10045",
   "metadata": {},
   "source": [
    "First, let's import the CSV dataset into a dataframe: "
   ]
  },
  {
   "cell_type": "code",
   "execution_count": 61,
   "id": "94ee63d1",
   "metadata": {},
   "outputs": [],
   "source": [
    "# Importing the dataset\n",
    "df_jobseeker = pd.read_csv('data/Employment.csv')"
   ]
  },
  {
   "cell_type": "markdown",
   "id": "fecd1cd0",
   "metadata": {},
   "source": [
    "Then let's perform some basic checks:"
   ]
  },
  {
   "cell_type": "code",
   "execution_count": 62,
   "id": "02aa2cea",
   "metadata": {},
   "outputs": [
    {
     "data": {
      "text/html": [
       "<div>\n",
       "<style scoped>\n",
       "    .dataframe tbody tr th:only-of-type {\n",
       "        vertical-align: middle;\n",
       "    }\n",
       "\n",
       "    .dataframe tbody tr th {\n",
       "        vertical-align: top;\n",
       "    }\n",
       "\n",
       "    .dataframe thead th {\n",
       "        text-align: right;\n",
       "    }\n",
       "</style>\n",
       "<table border=\"1\" class=\"dataframe\">\n",
       "  <thead>\n",
       "    <tr style=\"text-align: right;\">\n",
       "      <th></th>\n",
       "      <th>LSOA</th>\n",
       "      <th>Population</th>\n",
       "      <th>Job_Seeker_Allowance_Proportion</th>\n",
       "    </tr>\n",
       "  </thead>\n",
       "  <tbody>\n",
       "    <tr>\n",
       "      <th>0</th>\n",
       "      <td>E01000001</td>\n",
       "      <td>1,475</td>\n",
       "      <td>0.000000</td>\n",
       "    </tr>\n",
       "    <tr>\n",
       "      <th>1</th>\n",
       "      <td>E01000002</td>\n",
       "      <td>1,323</td>\n",
       "      <td>0.000000</td>\n",
       "    </tr>\n",
       "    <tr>\n",
       "      <th>2</th>\n",
       "      <td>E01000003</td>\n",
       "      <td>1,383</td>\n",
       "      <td>1.807664</td>\n",
       "    </tr>\n",
       "    <tr>\n",
       "      <th>3</th>\n",
       "      <td>E01000004</td>\n",
       "      <td>1,678</td>\n",
       "      <td>2.443385</td>\n",
       "    </tr>\n",
       "    <tr>\n",
       "      <th>4</th>\n",
       "      <td>E01000005</td>\n",
       "      <td>921</td>\n",
       "      <td>3.365907</td>\n",
       "    </tr>\n",
       "  </tbody>\n",
       "</table>\n",
       "</div>"
      ],
      "text/plain": [
       "        LSOA Population  Job_Seeker_Allowance_Proportion\n",
       "0  E01000001      1,475                         0.000000\n",
       "1  E01000002      1,323                         0.000000\n",
       "2  E01000003      1,383                         1.807664\n",
       "3  E01000004      1,678                         2.443385\n",
       "4  E01000005        921                         3.365907"
      ]
     },
     "execution_count": 62,
     "metadata": {},
     "output_type": "execute_result"
    }
   ],
   "source": [
    "# Take a look at the first 5 rows\n",
    "df_jobseeker.head()"
   ]
  },
  {
   "cell_type": "code",
   "execution_count": 63,
   "id": "ec77e91d",
   "metadata": {},
   "outputs": [
    {
     "data": {
      "text/plain": [
       "(32482, 3)"
      ]
     },
     "execution_count": 63,
     "metadata": {},
     "output_type": "execute_result"
    }
   ],
   "source": [
    "# look at the size of the dataset\n",
    "df_jobseeker.shape"
   ]
  },
  {
   "cell_type": "markdown",
   "id": "e2e13c37",
   "metadata": {},
   "source": [
    "Looks like `Population` column is a repeat of the one we already have, the the Job Seeker information is already given to us as a proportion. Note: Job Seeker Allowance counts the proportion of people who received government benefits due to unemployment."
   ]
  },
  {
   "cell_type": "markdown",
   "id": "bbffc0c3",
   "metadata": {},
   "source": [
    "We can drop the `Population` column as it's duplicate data."
   ]
  },
  {
   "cell_type": "code",
   "execution_count": 64,
   "id": "a5748571",
   "metadata": {},
   "outputs": [],
   "source": [
    "# Dropping a column\n",
    "df_jobseeker.drop(axis=0, columns='Population', inplace=True)"
   ]
  },
  {
   "cell_type": "markdown",
   "id": "f599d4e8",
   "metadata": {},
   "source": [
    "Now we can check for duplications and null values:"
   ]
  },
  {
   "cell_type": "code",
   "execution_count": 65,
   "id": "efd996a9",
   "metadata": {},
   "outputs": [
    {
     "data": {
      "text/plain": [
       "0"
      ]
     },
     "execution_count": 65,
     "metadata": {},
     "output_type": "execute_result"
    }
   ],
   "source": [
    "# Check for duplicates\n",
    "df_jobseeker.duplicated().sum()"
   ]
  },
  {
   "cell_type": "code",
   "execution_count": 66,
   "id": "06371306",
   "metadata": {},
   "outputs": [
    {
     "data": {
      "text/plain": [
       "LSOA                               0\n",
       "Job_Seeker_Allowance_Proportion    0\n",
       "dtype: int64"
      ]
     },
     "execution_count": 66,
     "metadata": {},
     "output_type": "execute_result"
    }
   ],
   "source": [
    "# Check for null values\n",
    "df_jobseeker.isnull().sum()"
   ]
  },
  {
   "cell_type": "markdown",
   "id": "13971e52",
   "metadata": {},
   "source": [
    "We can now move to merge:"
   ]
  },
  {
   "cell_type": "code",
   "execution_count": 67,
   "id": "dc2030a5",
   "metadata": {},
   "outputs": [],
   "source": [
    "# Merging on neighborhood level\n",
    "df = df.merge(df_jobseeker, how='outer', left_on='LSOA code', right_on='LSOA')"
   ]
  },
  {
   "cell_type": "markdown",
   "id": "684042b9",
   "metadata": {},
   "source": [
    "Let's see what we have:"
   ]
  },
  {
   "cell_type": "code",
   "execution_count": 68,
   "id": "bc7d528a",
   "metadata": {},
   "outputs": [
    {
     "data": {
      "text/html": [
       "<div>\n",
       "<style scoped>\n",
       "    .dataframe tbody tr th:only-of-type {\n",
       "        vertical-align: middle;\n",
       "    }\n",
       "\n",
       "    .dataframe tbody tr th {\n",
       "        vertical-align: top;\n",
       "    }\n",
       "\n",
       "    .dataframe thead th {\n",
       "        text-align: right;\n",
       "    }\n",
       "</style>\n",
       "<table border=\"1\" class=\"dataframe\">\n",
       "  <thead>\n",
       "    <tr style=\"text-align: right;\">\n",
       "      <th></th>\n",
       "      <th>Month</th>\n",
       "      <th>Police_Jurisdiction</th>\n",
       "      <th>Longitude</th>\n",
       "      <th>Latitude</th>\n",
       "      <th>LSOA code</th>\n",
       "      <th>LSOA name</th>\n",
       "      <th>Crime type</th>\n",
       "      <th>Last outcome category</th>\n",
       "      <th>Population</th>\n",
       "      <th>Proportion_Males</th>\n",
       "      <th>Proportion_0-15</th>\n",
       "      <th>Proportion_16-29</th>\n",
       "      <th>Proportion_30-44</th>\n",
       "      <th>Proportion_45-64</th>\n",
       "      <th>Proportion_65+</th>\n",
       "      <th>Proportion_0car_hhlds</th>\n",
       "      <th>#_ppl_hhld</th>\n",
       "      <th>Deprivation_Index</th>\n",
       "      <th>LSOA</th>\n",
       "      <th>Job_Seeker_Allowance_Proportion</th>\n",
       "    </tr>\n",
       "  </thead>\n",
       "  <tbody>\n",
       "    <tr>\n",
       "      <th>0</th>\n",
       "      <td>1.0</td>\n",
       "      <td>Avon and Somerset Constabulary</td>\n",
       "      <td>-2.515072</td>\n",
       "      <td>51.419357</td>\n",
       "      <td>E01014399</td>\n",
       "      <td>Bath and North East Somerset 001A</td>\n",
       "      <td>Burglary</td>\n",
       "      <td>Status update unavailable</td>\n",
       "      <td>2161.0</td>\n",
       "      <td>0.467376</td>\n",
       "      <td>0.176307</td>\n",
       "      <td>0.135585</td>\n",
       "      <td>0.210088</td>\n",
       "      <td>0.204535</td>\n",
       "      <td>0.273484</td>\n",
       "      <td>0.109399</td>\n",
       "      <td>0.300324</td>\n",
       "      <td>19195.0</td>\n",
       "      <td>E01014399</td>\n",
       "      <td>0.940975</td>\n",
       "    </tr>\n",
       "    <tr>\n",
       "      <th>1</th>\n",
       "      <td>1.0</td>\n",
       "      <td>Avon and Somerset Constabulary</td>\n",
       "      <td>-2.494870</td>\n",
       "      <td>51.422276</td>\n",
       "      <td>E01014399</td>\n",
       "      <td>Bath and North East Somerset 001A</td>\n",
       "      <td>Criminal damage and arson</td>\n",
       "      <td>Status update unavailable</td>\n",
       "      <td>2161.0</td>\n",
       "      <td>0.467376</td>\n",
       "      <td>0.176307</td>\n",
       "      <td>0.135585</td>\n",
       "      <td>0.210088</td>\n",
       "      <td>0.204535</td>\n",
       "      <td>0.273484</td>\n",
       "      <td>0.109399</td>\n",
       "      <td>0.300324</td>\n",
       "      <td>19195.0</td>\n",
       "      <td>E01014399</td>\n",
       "      <td>0.940975</td>\n",
       "    </tr>\n",
       "    <tr>\n",
       "      <th>2</th>\n",
       "      <td>1.0</td>\n",
       "      <td>Avon and Somerset Constabulary</td>\n",
       "      <td>-2.494870</td>\n",
       "      <td>51.422276</td>\n",
       "      <td>E01014399</td>\n",
       "      <td>Bath and North East Somerset 001A</td>\n",
       "      <td>Criminal damage and arson</td>\n",
       "      <td>Status update unavailable</td>\n",
       "      <td>2161.0</td>\n",
       "      <td>0.467376</td>\n",
       "      <td>0.176307</td>\n",
       "      <td>0.135585</td>\n",
       "      <td>0.210088</td>\n",
       "      <td>0.204535</td>\n",
       "      <td>0.273484</td>\n",
       "      <td>0.109399</td>\n",
       "      <td>0.300324</td>\n",
       "      <td>19195.0</td>\n",
       "      <td>E01014399</td>\n",
       "      <td>0.940975</td>\n",
       "    </tr>\n",
       "    <tr>\n",
       "      <th>3</th>\n",
       "      <td>1.0</td>\n",
       "      <td>Avon and Somerset Constabulary</td>\n",
       "      <td>-2.511927</td>\n",
       "      <td>51.409435</td>\n",
       "      <td>E01014399</td>\n",
       "      <td>Bath and North East Somerset 001A</td>\n",
       "      <td>Public order</td>\n",
       "      <td>Unable to prosecute suspect</td>\n",
       "      <td>2161.0</td>\n",
       "      <td>0.467376</td>\n",
       "      <td>0.176307</td>\n",
       "      <td>0.135585</td>\n",
       "      <td>0.210088</td>\n",
       "      <td>0.204535</td>\n",
       "      <td>0.273484</td>\n",
       "      <td>0.109399</td>\n",
       "      <td>0.300324</td>\n",
       "      <td>19195.0</td>\n",
       "      <td>E01014399</td>\n",
       "      <td>0.940975</td>\n",
       "    </tr>\n",
       "    <tr>\n",
       "      <th>4</th>\n",
       "      <td>1.0</td>\n",
       "      <td>Avon and Somerset Constabulary</td>\n",
       "      <td>-2.511761</td>\n",
       "      <td>51.409966</td>\n",
       "      <td>E01014399</td>\n",
       "      <td>Bath and North East Somerset 001A</td>\n",
       "      <td>Violence and sexual offences</td>\n",
       "      <td>Unable to prosecute suspect</td>\n",
       "      <td>2161.0</td>\n",
       "      <td>0.467376</td>\n",
       "      <td>0.176307</td>\n",
       "      <td>0.135585</td>\n",
       "      <td>0.210088</td>\n",
       "      <td>0.204535</td>\n",
       "      <td>0.273484</td>\n",
       "      <td>0.109399</td>\n",
       "      <td>0.300324</td>\n",
       "      <td>19195.0</td>\n",
       "      <td>E01014399</td>\n",
       "      <td>0.940975</td>\n",
       "    </tr>\n",
       "  </tbody>\n",
       "</table>\n",
       "</div>"
      ],
      "text/plain": [
       "   Month             Police_Jurisdiction  Longitude   Latitude  LSOA code  \\\n",
       "0    1.0  Avon and Somerset Constabulary  -2.515072  51.419357  E01014399   \n",
       "1    1.0  Avon and Somerset Constabulary  -2.494870  51.422276  E01014399   \n",
       "2    1.0  Avon and Somerset Constabulary  -2.494870  51.422276  E01014399   \n",
       "3    1.0  Avon and Somerset Constabulary  -2.511927  51.409435  E01014399   \n",
       "4    1.0  Avon and Somerset Constabulary  -2.511761  51.409966  E01014399   \n",
       "\n",
       "                           LSOA name                    Crime type  \\\n",
       "0  Bath and North East Somerset 001A                      Burglary   \n",
       "1  Bath and North East Somerset 001A     Criminal damage and arson   \n",
       "2  Bath and North East Somerset 001A     Criminal damage and arson   \n",
       "3  Bath and North East Somerset 001A                  Public order   \n",
       "4  Bath and North East Somerset 001A  Violence and sexual offences   \n",
       "\n",
       "         Last outcome category  Population  Proportion_Males  Proportion_0-15  \\\n",
       "0    Status update unavailable      2161.0          0.467376         0.176307   \n",
       "1    Status update unavailable      2161.0          0.467376         0.176307   \n",
       "2    Status update unavailable      2161.0          0.467376         0.176307   \n",
       "3  Unable to prosecute suspect      2161.0          0.467376         0.176307   \n",
       "4  Unable to prosecute suspect      2161.0          0.467376         0.176307   \n",
       "\n",
       "   Proportion_16-29  Proportion_30-44  Proportion_45-64  Proportion_65+  \\\n",
       "0          0.135585          0.210088          0.204535        0.273484   \n",
       "1          0.135585          0.210088          0.204535        0.273484   \n",
       "2          0.135585          0.210088          0.204535        0.273484   \n",
       "3          0.135585          0.210088          0.204535        0.273484   \n",
       "4          0.135585          0.210088          0.204535        0.273484   \n",
       "\n",
       "   Proportion_0car_hhlds  #_ppl_hhld  Deprivation_Index       LSOA  \\\n",
       "0               0.109399    0.300324            19195.0  E01014399   \n",
       "1               0.109399    0.300324            19195.0  E01014399   \n",
       "2               0.109399    0.300324            19195.0  E01014399   \n",
       "3               0.109399    0.300324            19195.0  E01014399   \n",
       "4               0.109399    0.300324            19195.0  E01014399   \n",
       "\n",
       "   Job_Seeker_Allowance_Proportion  \n",
       "0                         0.940975  \n",
       "1                         0.940975  \n",
       "2                         0.940975  \n",
       "3                         0.940975  \n",
       "4                         0.940975  "
      ]
     },
     "execution_count": 68,
     "metadata": {},
     "output_type": "execute_result"
    }
   ],
   "source": [
    "# Check first few rows\n",
    "df.head()"
   ]
  },
  {
   "cell_type": "code",
   "execution_count": 69,
   "id": "38ed9290",
   "metadata": {},
   "outputs": [
    {
     "data": {
      "text/plain": [
       "(4050228, 20)"
      ]
     },
     "execution_count": 69,
     "metadata": {},
     "output_type": "execute_result"
    }
   ],
   "source": [
    "# Check the size\n",
    "df.shape"
   ]
  },
  {
   "cell_type": "markdown",
   "id": "174c3947",
   "metadata": {},
   "source": [
    "Now we can drop the extra column that we don't need:"
   ]
  },
  {
   "cell_type": "code",
   "execution_count": 70,
   "id": "d52db09d",
   "metadata": {},
   "outputs": [],
   "source": [
    "# Dropping the LSOA column\n",
    "df.drop(axis=0, columns='LSOA', inplace=True)"
   ]
  },
  {
   "cell_type": "markdown",
   "id": "eea914f7",
   "metadata": {},
   "source": [
    "Now let's see if the merge introduced any null vaues:"
   ]
  },
  {
   "cell_type": "code",
   "execution_count": 71,
   "id": "71bd8fed",
   "metadata": {},
   "outputs": [
    {
     "data": {
      "text/plain": [
       "Month                              2082\n",
       "Police_Jurisdiction                2082\n",
       "Longitude                          2082\n",
       "Latitude                           2082\n",
       "LSOA code                          2082\n",
       "LSOA name                          2082\n",
       "Crime type                         2082\n",
       "Last outcome category              2082\n",
       "Population                         2082\n",
       "Proportion_Males                   2082\n",
       "Proportion_0-15                    2082\n",
       "Proportion_16-29                   2082\n",
       "Proportion_30-44                   2082\n",
       "Proportion_45-64                   2082\n",
       "Proportion_65+                     2082\n",
       "Proportion_0car_hhlds              2082\n",
       "#_ppl_hhld                         2082\n",
       "Deprivation_Index                  2082\n",
       "Job_Seeker_Allowance_Proportion       0\n",
       "dtype: int64"
      ]
     },
     "execution_count": 71,
     "metadata": {},
     "output_type": "execute_result"
    }
   ],
   "source": [
    "# Checking for nulls\n",
    "df.isnull().sum()"
   ]
  },
  {
   "cell_type": "markdown",
   "id": "b433c1b6",
   "metadata": {},
   "source": [
    "Fairly small number so we can drop them:"
   ]
  },
  {
   "cell_type": "code",
   "execution_count": 72,
   "id": "a8d30923",
   "metadata": {},
   "outputs": [],
   "source": [
    "# Dropping null values\n",
    "df.dropna(inplace=True)"
   ]
  },
  {
   "cell_type": "markdown",
   "id": "7ccf6bc0",
   "metadata": {},
   "source": [
    "Now we're ready to move to the next dataset."
   ]
  },
  {
   "cell_type": "markdown",
   "id": "5c46054a",
   "metadata": {},
   "source": [
    "<a id='2e'></a>\n",
    "### 2e) Free School Meal Allowance for Kids 11-15 (Secondary School)"
   ]
  },
  {
   "cell_type": "markdown",
   "id": "9449bd74",
   "metadata": {},
   "source": [
    "First, let's import the CSV dataset into a dataframe: "
   ]
  },
  {
   "cell_type": "code",
   "execution_count": 73,
   "id": "880fcfbb",
   "metadata": {},
   "outputs": [],
   "source": [
    "# Importing\n",
    "df_secondary = pd.read_csv('data/secondary_Schools_LSOA.csv')"
   ]
  },
  {
   "cell_type": "markdown",
   "id": "ef0065eb",
   "metadata": {},
   "source": [
    "Then let's perform some basic checks:"
   ]
  },
  {
   "cell_type": "code",
   "execution_count": 74,
   "id": "1ef588ed",
   "metadata": {},
   "outputs": [
    {
     "data": {
      "text/html": [
       "<div>\n",
       "<style scoped>\n",
       "    .dataframe tbody tr th:only-of-type {\n",
       "        vertical-align: middle;\n",
       "    }\n",
       "\n",
       "    .dataframe tbody tr th {\n",
       "        vertical-align: top;\n",
       "    }\n",
       "\n",
       "    .dataframe thead th {\n",
       "        text-align: right;\n",
       "    }\n",
       "</style>\n",
       "<table border=\"1\" class=\"dataframe\">\n",
       "  <thead>\n",
       "    <tr style=\"text-align: right;\">\n",
       "      <th></th>\n",
       "      <th>LSOA_code</th>\n",
       "      <th>Pop_age11to15</th>\n",
       "      <th>Pop_FSM11to15</th>\n",
       "    </tr>\n",
       "  </thead>\n",
       "  <tbody>\n",
       "    <tr>\n",
       "      <th>0</th>\n",
       "      <td>E01000001</td>\n",
       "      <td>2</td>\n",
       "      <td>0</td>\n",
       "    </tr>\n",
       "    <tr>\n",
       "      <th>1</th>\n",
       "      <td>E01000002</td>\n",
       "      <td>6</td>\n",
       "      <td>0</td>\n",
       "    </tr>\n",
       "    <tr>\n",
       "      <th>2</th>\n",
       "      <td>E01000003</td>\n",
       "      <td>20</td>\n",
       "      <td>1</td>\n",
       "    </tr>\n",
       "    <tr>\n",
       "      <th>3</th>\n",
       "      <td>E01000004</td>\n",
       "      <td>5</td>\n",
       "      <td>0</td>\n",
       "    </tr>\n",
       "    <tr>\n",
       "      <th>4</th>\n",
       "      <td>E01000005</td>\n",
       "      <td>46</td>\n",
       "      <td>22</td>\n",
       "    </tr>\n",
       "  </tbody>\n",
       "</table>\n",
       "</div>"
      ],
      "text/plain": [
       "   LSOA_code  Pop_age11to15  Pop_FSM11to15\n",
       "0  E01000001              2              0\n",
       "1  E01000002              6              0\n",
       "2  E01000003             20              1\n",
       "3  E01000004              5              0\n",
       "4  E01000005             46             22"
      ]
     },
     "execution_count": 74,
     "metadata": {},
     "output_type": "execute_result"
    }
   ],
   "source": [
    "# Take a look at the first 5 rows\n",
    "df_secondary.head()"
   ]
  },
  {
   "cell_type": "code",
   "execution_count": 75,
   "id": "1360cbc6",
   "metadata": {},
   "outputs": [
    {
     "data": {
      "text/plain": [
       "(32482, 3)"
      ]
     },
     "execution_count": 75,
     "metadata": {},
     "output_type": "execute_result"
    }
   ],
   "source": [
    "# look at the size of the dataset\n",
    "df_secondary.shape"
   ]
  },
  {
   "cell_type": "code",
   "execution_count": 76,
   "id": "bd6bb648",
   "metadata": {},
   "outputs": [
    {
     "name": "stdout",
     "output_type": "stream",
     "text": [
      "<class 'pandas.core.frame.DataFrame'>\n",
      "RangeIndex: 32482 entries, 0 to 32481\n",
      "Data columns (total 3 columns):\n",
      " #   Column         Non-Null Count  Dtype \n",
      "---  ------         --------------  ----- \n",
      " 0   LSOA_code      32482 non-null  object\n",
      " 1   Pop_age11to15  32482 non-null  int64 \n",
      " 2   Pop_FSM11to15  32482 non-null  int64 \n",
      "dtypes: int64(2), object(1)\n",
      "memory usage: 761.4+ KB\n"
     ]
    }
   ],
   "source": [
    "# Checking the data types\n",
    "df_secondary.info()"
   ]
  },
  {
   "cell_type": "markdown",
   "id": "7d0a29e4",
   "metadata": {},
   "source": [
    "As with some previous datasets, we will need to convert absolute numbers into proportions to be able to perform comparisons across neighborhoods. The first column is a total number of kids 11-15 in that neighborhood, and second column denotes the proportion of these kids who are getting Free School Meal allowance:"
   ]
  },
  {
   "cell_type": "code",
   "execution_count": 77,
   "id": "022db4c4",
   "metadata": {},
   "outputs": [],
   "source": [
    "# Converting absolute numbers into proportions\n",
    "df_secondary['FSM11to15Proportion'] = df_secondary['Pop_FSM11to15'] / df_secondary['Pop_age11to15']"
   ]
  },
  {
   "cell_type": "markdown",
   "id": "6de1dda9",
   "metadata": {},
   "source": [
    "We can drop the columns with absolute numbers:"
   ]
  },
  {
   "cell_type": "code",
   "execution_count": 78,
   "id": "88cbf15c",
   "metadata": {},
   "outputs": [],
   "source": [
    "# Drop population column\n",
    "df_secondary.drop(axis=1, columns='Pop_age11to15', inplace=True)"
   ]
  },
  {
   "cell_type": "code",
   "execution_count": 79,
   "id": "767b0bca",
   "metadata": {},
   "outputs": [],
   "source": [
    "# Drop the FSM column\n",
    "df_secondary.drop(axis=1, columns='Pop_FSM11to15', inplace=True)"
   ]
  },
  {
   "cell_type": "markdown",
   "id": "05b3a71c",
   "metadata": {},
   "source": [
    "Now let's check for duplicated and null values:"
   ]
  },
  {
   "cell_type": "code",
   "execution_count": 80,
   "id": "bd8db37d",
   "metadata": {},
   "outputs": [
    {
     "data": {
      "text/plain": [
       "0"
      ]
     },
     "execution_count": 80,
     "metadata": {},
     "output_type": "execute_result"
    }
   ],
   "source": [
    "# Checking for duplicated values\n",
    "df_secondary.duplicated().sum()"
   ]
  },
  {
   "cell_type": "code",
   "execution_count": 81,
   "id": "ec12b767",
   "metadata": {},
   "outputs": [
    {
     "data": {
      "text/plain": [
       "LSOA_code              0\n",
       "FSM11to15Proportion    5\n",
       "dtype: int64"
      ]
     },
     "execution_count": 81,
     "metadata": {},
     "output_type": "execute_result"
    }
   ],
   "source": [
    "# Checking for null values\n",
    "df_secondary.isna().sum()"
   ]
  },
  {
   "cell_type": "code",
   "execution_count": 82,
   "id": "830537b9",
   "metadata": {},
   "outputs": [],
   "source": [
    "# Dropping null values as they are such a small percentage of total\n",
    "df_secondary.dropna(inplace=True)"
   ]
  },
  {
   "cell_type": "markdown",
   "id": "053480ba",
   "metadata": {},
   "source": [
    "Now we're ready to merge:"
   ]
  },
  {
   "cell_type": "code",
   "execution_count": 83,
   "id": "9f1675b2",
   "metadata": {},
   "outputs": [],
   "source": [
    "# Merging based on neighborhood code\n",
    "df = df.merge(df_secondary, how='outer', left_on='LSOA code', right_on='LSOA_code')"
   ]
  },
  {
   "cell_type": "code",
   "execution_count": 84,
   "id": "ef1f6f63",
   "metadata": {},
   "outputs": [],
   "source": [
    "# Dropping the extra neighborhood code\n",
    "df.drop(axis=0, columns='LSOA_code', inplace=True)"
   ]
  },
  {
   "cell_type": "markdown",
   "id": "bc823620",
   "metadata": {},
   "source": [
    "Now we can check whether the merge introduced any new null values:"
   ]
  },
  {
   "cell_type": "code",
   "execution_count": 85,
   "id": "2a1fd9e0",
   "metadata": {},
   "outputs": [
    {
     "data": {
      "text/plain": [
       "Month                              2080\n",
       "Police_Jurisdiction                2080\n",
       "Longitude                          2080\n",
       "Latitude                           2080\n",
       "LSOA code                          2080\n",
       "LSOA name                          2080\n",
       "Crime type                         2080\n",
       "Last outcome category              2080\n",
       "Population                         2080\n",
       "Proportion_Males                   2080\n",
       "Proportion_0-15                    2080\n",
       "Proportion_16-29                   2080\n",
       "Proportion_30-44                   2080\n",
       "Proportion_45-64                   2080\n",
       "Proportion_65+                     2080\n",
       "Proportion_0car_hhlds              2080\n",
       "#_ppl_hhld                         2080\n",
       "Deprivation_Index                  2080\n",
       "Job_Seeker_Allowance_Proportion    2080\n",
       "FSM11to15Proportion                 322\n",
       "dtype: int64"
      ]
     },
     "execution_count": 85,
     "metadata": {},
     "output_type": "execute_result"
    }
   ],
   "source": [
    "# Checking for missing values\n",
    "df.isna().sum()"
   ]
  },
  {
   "cell_type": "markdown",
   "id": "d3322139",
   "metadata": {},
   "source": [
    "We can drop the duplicates as it's a small number:"
   ]
  },
  {
   "cell_type": "code",
   "execution_count": 86,
   "id": "e88d5ac4",
   "metadata": {},
   "outputs": [],
   "source": [
    "# Dropping duplicates\n",
    "df.dropna(inplace=True)"
   ]
  },
  {
   "cell_type": "markdown",
   "id": "f4b94c8e",
   "metadata": {},
   "source": [
    "Now we're ready to move on to our next dataset."
   ]
  },
  {
   "cell_type": "markdown",
   "id": "b2adb6b2",
   "metadata": {},
   "source": [
    "<a id='2f'></a>\n",
    "### 2f) Free School Meal Allowance for Kids 5-10 (Primary School)"
   ]
  },
  {
   "cell_type": "markdown",
   "id": "918e0443",
   "metadata": {},
   "source": [
    "First, let's import the CSV dataset into a dataframe: "
   ]
  },
  {
   "cell_type": "code",
   "execution_count": 87,
   "id": "2c1cdb01",
   "metadata": {},
   "outputs": [],
   "source": [
    "# Importing the dataset:\n",
    "df_primary = pd.read_csv('data/primary_LSOA.csv')"
   ]
  },
  {
   "cell_type": "markdown",
   "id": "f51367df",
   "metadata": {},
   "source": [
    "Then let's perform some basic checks:"
   ]
  },
  {
   "cell_type": "code",
   "execution_count": 88,
   "id": "052f5f78",
   "metadata": {},
   "outputs": [
    {
     "data": {
      "text/html": [
       "<div>\n",
       "<style scoped>\n",
       "    .dataframe tbody tr th:only-of-type {\n",
       "        vertical-align: middle;\n",
       "    }\n",
       "\n",
       "    .dataframe tbody tr th {\n",
       "        vertical-align: top;\n",
       "    }\n",
       "\n",
       "    .dataframe thead th {\n",
       "        text-align: right;\n",
       "    }\n",
       "</style>\n",
       "<table border=\"1\" class=\"dataframe\">\n",
       "  <thead>\n",
       "    <tr style=\"text-align: right;\">\n",
       "      <th></th>\n",
       "      <th>LSOA_code</th>\n",
       "      <th>Pop_age5to10</th>\n",
       "      <th>Pop_FreeSchoolMeal5to10</th>\n",
       "    </tr>\n",
       "  </thead>\n",
       "  <tbody>\n",
       "    <tr>\n",
       "      <th>0</th>\n",
       "      <td>E01000001</td>\n",
       "      <td>10</td>\n",
       "      <td>0</td>\n",
       "    </tr>\n",
       "    <tr>\n",
       "      <th>1</th>\n",
       "      <td>E01000002</td>\n",
       "      <td>14</td>\n",
       "      <td>0</td>\n",
       "    </tr>\n",
       "    <tr>\n",
       "      <th>2</th>\n",
       "      <td>E01000003</td>\n",
       "      <td>29</td>\n",
       "      <td>7</td>\n",
       "    </tr>\n",
       "    <tr>\n",
       "      <th>3</th>\n",
       "      <td>E01000004</td>\n",
       "      <td>5</td>\n",
       "      <td>0</td>\n",
       "    </tr>\n",
       "    <tr>\n",
       "      <th>4</th>\n",
       "      <td>E01000005</td>\n",
       "      <td>70</td>\n",
       "      <td>31</td>\n",
       "    </tr>\n",
       "  </tbody>\n",
       "</table>\n",
       "</div>"
      ],
      "text/plain": [
       "   LSOA_code  Pop_age5to10  Pop_FreeSchoolMeal5to10\n",
       "0  E01000001            10                        0\n",
       "1  E01000002            14                        0\n",
       "2  E01000003            29                        7\n",
       "3  E01000004             5                        0\n",
       "4  E01000005            70                       31"
      ]
     },
     "execution_count": 88,
     "metadata": {},
     "output_type": "execute_result"
    }
   ],
   "source": [
    "# Checking the first 5 rows\n",
    "df_primary.head()"
   ]
  },
  {
   "cell_type": "code",
   "execution_count": 89,
   "id": "91708a61",
   "metadata": {},
   "outputs": [
    {
     "data": {
      "text/plain": [
       "(32482, 3)"
      ]
     },
     "execution_count": 89,
     "metadata": {},
     "output_type": "execute_result"
    }
   ],
   "source": [
    "# Checking the size of the dataset\n",
    "df_primary.shape"
   ]
  },
  {
   "cell_type": "code",
   "execution_count": 90,
   "id": "4e6b5d5c",
   "metadata": {},
   "outputs": [
    {
     "name": "stdout",
     "output_type": "stream",
     "text": [
      "<class 'pandas.core.frame.DataFrame'>\n",
      "RangeIndex: 32482 entries, 0 to 32481\n",
      "Data columns (total 3 columns):\n",
      " #   Column                   Non-Null Count  Dtype \n",
      "---  ------                   --------------  ----- \n",
      " 0   LSOA_code                32482 non-null  object\n",
      " 1   Pop_age5to10             32482 non-null  int64 \n",
      " 2   Pop_FreeSchoolMeal5to10  32482 non-null  int64 \n",
      "dtypes: int64(2), object(1)\n",
      "memory usage: 761.4+ KB\n"
     ]
    }
   ],
   "source": [
    "# Looking at dtypes\n",
    "df_primary.info()"
   ]
  },
  {
   "cell_type": "markdown",
   "id": "1b537f8f",
   "metadata": {},
   "source": [
    "Looks like we can safely perform the operation to convert the column with the number of kids 5-10 who receive Free School Meal allowance into a proportion of total number of kids of that age, per neighborhood:"
   ]
  },
  {
   "cell_type": "code",
   "execution_count": 91,
   "id": "20bfa1fa",
   "metadata": {},
   "outputs": [],
   "source": [
    "# Converting into proportion\n",
    "df_primary['FSM5to10Proportion'] = df_primary['Pop_FreeSchoolMeal5to10'] / df_primary['Pop_age5to10']"
   ]
  },
  {
   "cell_type": "markdown",
   "id": "4c96bda9",
   "metadata": {},
   "source": [
    "Now we can drop the extra columns:"
   ]
  },
  {
   "cell_type": "code",
   "execution_count": 92,
   "id": "827c27b8",
   "metadata": {},
   "outputs": [],
   "source": [
    "# Dropping the population column\n",
    "df_primary.drop(axis=1, columns='Pop_age5to10', inplace=True)"
   ]
  },
  {
   "cell_type": "code",
   "execution_count": 93,
   "id": "02c5ce02",
   "metadata": {},
   "outputs": [],
   "source": [
    "# Dropping the FSM column\n",
    "df_primary.drop(axis=1, columns='Pop_FreeSchoolMeal5to10', inplace=True)"
   ]
  },
  {
   "cell_type": "markdown",
   "id": "472afd5c",
   "metadata": {},
   "source": [
    "Now let's check for duplicates and null values:"
   ]
  },
  {
   "cell_type": "code",
   "execution_count": 94,
   "id": "4a16af88",
   "metadata": {},
   "outputs": [
    {
     "data": {
      "text/plain": [
       "0"
      ]
     },
     "execution_count": 94,
     "metadata": {},
     "output_type": "execute_result"
    }
   ],
   "source": [
    "# Checking for duplicates:\n",
    "df_primary.duplicated().sum()"
   ]
  },
  {
   "cell_type": "code",
   "execution_count": 95,
   "id": "4e8dcb52",
   "metadata": {},
   "outputs": [
    {
     "data": {
      "text/plain": [
       "LSOA_code             0\n",
       "FSM5to10Proportion    1\n",
       "dtype: int64"
      ]
     },
     "execution_count": 95,
     "metadata": {},
     "output_type": "execute_result"
    }
   ],
   "source": [
    "# Checking for nulls:\n",
    "df_primary.isna().sum()"
   ]
  },
  {
   "cell_type": "markdown",
   "id": "c1f2d78c",
   "metadata": {},
   "source": [
    "There is one row with missing values that we can get rid of:"
   ]
  },
  {
   "cell_type": "code",
   "execution_count": 96,
   "id": "4cbd08b1",
   "metadata": {},
   "outputs": [],
   "source": [
    "df_primary.dropna(inplace=True)"
   ]
  },
  {
   "cell_type": "markdown",
   "id": "d229a9b0",
   "metadata": {},
   "source": [
    "Now we're ready to merge with our main dataset:"
   ]
  },
  {
   "cell_type": "code",
   "execution_count": 97,
   "id": "b2878685",
   "metadata": {},
   "outputs": [],
   "source": [
    "# Merging on neighborhood code\n",
    "df = df.merge(df_primary, how='outer', left_on='LSOA code', right_on='LSOA_code')"
   ]
  },
  {
   "cell_type": "markdown",
   "id": "c841d08e",
   "metadata": {},
   "source": [
    "Let's check what we have:"
   ]
  },
  {
   "cell_type": "code",
   "execution_count": 98,
   "id": "8d024ce7",
   "metadata": {},
   "outputs": [
    {
     "data": {
      "text/plain": [
       "(4049908, 22)"
      ]
     },
     "execution_count": 98,
     "metadata": {},
     "output_type": "execute_result"
    }
   ],
   "source": [
    "# Checking the size\n",
    "df.shape"
   ]
  },
  {
   "cell_type": "code",
   "execution_count": 99,
   "id": "a1cf8271",
   "metadata": {},
   "outputs": [
    {
     "data": {
      "text/html": [
       "<div>\n",
       "<style scoped>\n",
       "    .dataframe tbody tr th:only-of-type {\n",
       "        vertical-align: middle;\n",
       "    }\n",
       "\n",
       "    .dataframe tbody tr th {\n",
       "        vertical-align: top;\n",
       "    }\n",
       "\n",
       "    .dataframe thead th {\n",
       "        text-align: right;\n",
       "    }\n",
       "</style>\n",
       "<table border=\"1\" class=\"dataframe\">\n",
       "  <thead>\n",
       "    <tr style=\"text-align: right;\">\n",
       "      <th></th>\n",
       "      <th>Month</th>\n",
       "      <th>Police_Jurisdiction</th>\n",
       "      <th>Longitude</th>\n",
       "      <th>Latitude</th>\n",
       "      <th>LSOA code</th>\n",
       "      <th>LSOA name</th>\n",
       "      <th>Crime type</th>\n",
       "      <th>Last outcome category</th>\n",
       "      <th>Population</th>\n",
       "      <th>Proportion_Males</th>\n",
       "      <th>...</th>\n",
       "      <th>Proportion_30-44</th>\n",
       "      <th>Proportion_45-64</th>\n",
       "      <th>Proportion_65+</th>\n",
       "      <th>Proportion_0car_hhlds</th>\n",
       "      <th>#_ppl_hhld</th>\n",
       "      <th>Deprivation_Index</th>\n",
       "      <th>Job_Seeker_Allowance_Proportion</th>\n",
       "      <th>FSM11to15Proportion</th>\n",
       "      <th>LSOA_code</th>\n",
       "      <th>FSM5to10Proportion</th>\n",
       "    </tr>\n",
       "  </thead>\n",
       "  <tbody>\n",
       "    <tr>\n",
       "      <th>0</th>\n",
       "      <td>1.0</td>\n",
       "      <td>Avon and Somerset Constabulary</td>\n",
       "      <td>-2.515072</td>\n",
       "      <td>51.419357</td>\n",
       "      <td>E01014399</td>\n",
       "      <td>Bath and North East Somerset 001A</td>\n",
       "      <td>Burglary</td>\n",
       "      <td>Status update unavailable</td>\n",
       "      <td>2161.0</td>\n",
       "      <td>0.467376</td>\n",
       "      <td>...</td>\n",
       "      <td>0.210088</td>\n",
       "      <td>0.204535</td>\n",
       "      <td>0.273484</td>\n",
       "      <td>0.109399</td>\n",
       "      <td>0.300324</td>\n",
       "      <td>19195.0</td>\n",
       "      <td>0.940975</td>\n",
       "      <td>0.06</td>\n",
       "      <td>E01014399</td>\n",
       "      <td>0.152941</td>\n",
       "    </tr>\n",
       "    <tr>\n",
       "      <th>1</th>\n",
       "      <td>1.0</td>\n",
       "      <td>Avon and Somerset Constabulary</td>\n",
       "      <td>-2.494870</td>\n",
       "      <td>51.422276</td>\n",
       "      <td>E01014399</td>\n",
       "      <td>Bath and North East Somerset 001A</td>\n",
       "      <td>Criminal damage and arson</td>\n",
       "      <td>Status update unavailable</td>\n",
       "      <td>2161.0</td>\n",
       "      <td>0.467376</td>\n",
       "      <td>...</td>\n",
       "      <td>0.210088</td>\n",
       "      <td>0.204535</td>\n",
       "      <td>0.273484</td>\n",
       "      <td>0.109399</td>\n",
       "      <td>0.300324</td>\n",
       "      <td>19195.0</td>\n",
       "      <td>0.940975</td>\n",
       "      <td>0.06</td>\n",
       "      <td>E01014399</td>\n",
       "      <td>0.152941</td>\n",
       "    </tr>\n",
       "    <tr>\n",
       "      <th>2</th>\n",
       "      <td>1.0</td>\n",
       "      <td>Avon and Somerset Constabulary</td>\n",
       "      <td>-2.494870</td>\n",
       "      <td>51.422276</td>\n",
       "      <td>E01014399</td>\n",
       "      <td>Bath and North East Somerset 001A</td>\n",
       "      <td>Criminal damage and arson</td>\n",
       "      <td>Status update unavailable</td>\n",
       "      <td>2161.0</td>\n",
       "      <td>0.467376</td>\n",
       "      <td>...</td>\n",
       "      <td>0.210088</td>\n",
       "      <td>0.204535</td>\n",
       "      <td>0.273484</td>\n",
       "      <td>0.109399</td>\n",
       "      <td>0.300324</td>\n",
       "      <td>19195.0</td>\n",
       "      <td>0.940975</td>\n",
       "      <td>0.06</td>\n",
       "      <td>E01014399</td>\n",
       "      <td>0.152941</td>\n",
       "    </tr>\n",
       "    <tr>\n",
       "      <th>3</th>\n",
       "      <td>1.0</td>\n",
       "      <td>Avon and Somerset Constabulary</td>\n",
       "      <td>-2.511927</td>\n",
       "      <td>51.409435</td>\n",
       "      <td>E01014399</td>\n",
       "      <td>Bath and North East Somerset 001A</td>\n",
       "      <td>Public order</td>\n",
       "      <td>Unable to prosecute suspect</td>\n",
       "      <td>2161.0</td>\n",
       "      <td>0.467376</td>\n",
       "      <td>...</td>\n",
       "      <td>0.210088</td>\n",
       "      <td>0.204535</td>\n",
       "      <td>0.273484</td>\n",
       "      <td>0.109399</td>\n",
       "      <td>0.300324</td>\n",
       "      <td>19195.0</td>\n",
       "      <td>0.940975</td>\n",
       "      <td>0.06</td>\n",
       "      <td>E01014399</td>\n",
       "      <td>0.152941</td>\n",
       "    </tr>\n",
       "    <tr>\n",
       "      <th>4</th>\n",
       "      <td>1.0</td>\n",
       "      <td>Avon and Somerset Constabulary</td>\n",
       "      <td>-2.511761</td>\n",
       "      <td>51.409966</td>\n",
       "      <td>E01014399</td>\n",
       "      <td>Bath and North East Somerset 001A</td>\n",
       "      <td>Violence and sexual offences</td>\n",
       "      <td>Unable to prosecute suspect</td>\n",
       "      <td>2161.0</td>\n",
       "      <td>0.467376</td>\n",
       "      <td>...</td>\n",
       "      <td>0.210088</td>\n",
       "      <td>0.204535</td>\n",
       "      <td>0.273484</td>\n",
       "      <td>0.109399</td>\n",
       "      <td>0.300324</td>\n",
       "      <td>19195.0</td>\n",
       "      <td>0.940975</td>\n",
       "      <td>0.06</td>\n",
       "      <td>E01014399</td>\n",
       "      <td>0.152941</td>\n",
       "    </tr>\n",
       "  </tbody>\n",
       "</table>\n",
       "<p>5 rows × 22 columns</p>\n",
       "</div>"
      ],
      "text/plain": [
       "   Month             Police_Jurisdiction  Longitude   Latitude  LSOA code  \\\n",
       "0    1.0  Avon and Somerset Constabulary  -2.515072  51.419357  E01014399   \n",
       "1    1.0  Avon and Somerset Constabulary  -2.494870  51.422276  E01014399   \n",
       "2    1.0  Avon and Somerset Constabulary  -2.494870  51.422276  E01014399   \n",
       "3    1.0  Avon and Somerset Constabulary  -2.511927  51.409435  E01014399   \n",
       "4    1.0  Avon and Somerset Constabulary  -2.511761  51.409966  E01014399   \n",
       "\n",
       "                           LSOA name                    Crime type  \\\n",
       "0  Bath and North East Somerset 001A                      Burglary   \n",
       "1  Bath and North East Somerset 001A     Criminal damage and arson   \n",
       "2  Bath and North East Somerset 001A     Criminal damage and arson   \n",
       "3  Bath and North East Somerset 001A                  Public order   \n",
       "4  Bath and North East Somerset 001A  Violence and sexual offences   \n",
       "\n",
       "         Last outcome category  Population  Proportion_Males  ...  \\\n",
       "0    Status update unavailable      2161.0          0.467376  ...   \n",
       "1    Status update unavailable      2161.0          0.467376  ...   \n",
       "2    Status update unavailable      2161.0          0.467376  ...   \n",
       "3  Unable to prosecute suspect      2161.0          0.467376  ...   \n",
       "4  Unable to prosecute suspect      2161.0          0.467376  ...   \n",
       "\n",
       "   Proportion_30-44  Proportion_45-64  Proportion_65+  Proportion_0car_hhlds  \\\n",
       "0          0.210088          0.204535        0.273484               0.109399   \n",
       "1          0.210088          0.204535        0.273484               0.109399   \n",
       "2          0.210088          0.204535        0.273484               0.109399   \n",
       "3          0.210088          0.204535        0.273484               0.109399   \n",
       "4          0.210088          0.204535        0.273484               0.109399   \n",
       "\n",
       "   #_ppl_hhld  Deprivation_Index  Job_Seeker_Allowance_Proportion  \\\n",
       "0    0.300324            19195.0                         0.940975   \n",
       "1    0.300324            19195.0                         0.940975   \n",
       "2    0.300324            19195.0                         0.940975   \n",
       "3    0.300324            19195.0                         0.940975   \n",
       "4    0.300324            19195.0                         0.940975   \n",
       "\n",
       "   FSM11to15Proportion  LSOA_code  FSM5to10Proportion  \n",
       "0                 0.06  E01014399            0.152941  \n",
       "1                 0.06  E01014399            0.152941  \n",
       "2                 0.06  E01014399            0.152941  \n",
       "3                 0.06  E01014399            0.152941  \n",
       "4                 0.06  E01014399            0.152941  \n",
       "\n",
       "[5 rows x 22 columns]"
      ]
     },
     "execution_count": 99,
     "metadata": {},
     "output_type": "execute_result"
    }
   ],
   "source": [
    "# Checking the first few rows\n",
    "df.head()"
   ]
  },
  {
   "cell_type": "markdown",
   "id": "16109262",
   "metadata": {},
   "source": [
    "Everything checks out, and the new columns were successfully added. Now we can drop the extra neighborhood column that we performed the merge on:"
   ]
  },
  {
   "cell_type": "code",
   "execution_count": 100,
   "id": "03705ad6",
   "metadata": {},
   "outputs": [],
   "source": [
    "# Dropping the extra LSOA code\n",
    "df.drop(axis=0, columns='LSOA_code', inplace=True)"
   ]
  },
  {
   "cell_type": "markdown",
   "id": "457a3709",
   "metadata": {},
   "source": [
    "Now let's check if the merge has introduced any new null values:"
   ]
  },
  {
   "cell_type": "code",
   "execution_count": 101,
   "id": "c786db52",
   "metadata": {},
   "outputs": [
    {
     "data": {
      "text/plain": [
       "Month                              2084\n",
       "Police_Jurisdiction                2084\n",
       "Longitude                          2084\n",
       "Latitude                           2084\n",
       "LSOA code                          2084\n",
       "LSOA name                          2084\n",
       "Crime type                         2084\n",
       "Last outcome category              2084\n",
       "Population                         2084\n",
       "Proportion_Males                   2084\n",
       "Proportion_0-15                    2084\n",
       "Proportion_16-29                   2084\n",
       "Proportion_30-44                   2084\n",
       "Proportion_45-64                   2084\n",
       "Proportion_65+                     2084\n",
       "Proportion_0car_hhlds              2084\n",
       "#_ppl_hhld                         2084\n",
       "Deprivation_Index                  2084\n",
       "Job_Seeker_Allowance_Proportion    2084\n",
       "FSM11to15Proportion                2084\n",
       "FSM5to10Proportion                    0\n",
       "dtype: int64"
      ]
     },
     "execution_count": 101,
     "metadata": {},
     "output_type": "execute_result"
    }
   ],
   "source": [
    "# Checking null values per column\n",
    "df.isna().sum()"
   ]
  },
  {
   "cell_type": "markdown",
   "id": "7de1f057",
   "metadata": {},
   "source": [
    "There are some very small null values so we drop them:"
   ]
  },
  {
   "cell_type": "code",
   "execution_count": 102,
   "id": "25830dbf",
   "metadata": {},
   "outputs": [],
   "source": [
    "# Dropping null values\n",
    "df.dropna(inplace=True)"
   ]
  },
  {
   "cell_type": "markdown",
   "id": "025a7f50",
   "metadata": {},
   "source": [
    "We're ready to move to the next dataset."
   ]
  },
  {
   "cell_type": "markdown",
   "id": "96c0b541",
   "metadata": {},
   "source": [
    "<a id='2g'></a>\n",
    "### 2g) Ethnicity"
   ]
  },
  {
   "cell_type": "markdown",
   "id": "eddb9726",
   "metadata": {},
   "source": [
    "First, let's import the CSV dataset into a dataframe: "
   ]
  },
  {
   "cell_type": "code",
   "execution_count": 103,
   "id": "1a94768f",
   "metadata": {},
   "outputs": [],
   "source": [
    "# Importing the dataset\n",
    "df_ethnicity = pd.read_csv('data/Ethnicity.csv')"
   ]
  },
  {
   "cell_type": "markdown",
   "id": "2611101a",
   "metadata": {},
   "source": [
    "Then let's perform some basic checks:"
   ]
  },
  {
   "cell_type": "code",
   "execution_count": 104,
   "id": "6764c3ea",
   "metadata": {},
   "outputs": [
    {
     "data": {
      "text/html": [
       "<div>\n",
       "<style scoped>\n",
       "    .dataframe tbody tr th:only-of-type {\n",
       "        vertical-align: middle;\n",
       "    }\n",
       "\n",
       "    .dataframe tbody tr th {\n",
       "        vertical-align: top;\n",
       "    }\n",
       "\n",
       "    .dataframe thead th {\n",
       "        text-align: right;\n",
       "    }\n",
       "</style>\n",
       "<table border=\"1\" class=\"dataframe\">\n",
       "  <thead>\n",
       "    <tr style=\"text-align: right;\">\n",
       "      <th></th>\n",
       "      <th>LSOA Code</th>\n",
       "      <th>All categories: Ethnic group</th>\n",
       "      <th>English/Welsh/Scottish/Northern Irish/British</th>\n",
       "      <th>Irish</th>\n",
       "      <th>Gypsy or Irish Traveller</th>\n",
       "      <th>Other White</th>\n",
       "      <th>White and Black Caribbean</th>\n",
       "      <th>White and Black African</th>\n",
       "      <th>White and Asian</th>\n",
       "      <th>Other Mixed</th>\n",
       "      <th>...</th>\n",
       "      <th>Turkish</th>\n",
       "      <th>Turkish Cypriot</th>\n",
       "      <th>Venezuelan</th>\n",
       "      <th>Vietnamese</th>\n",
       "      <th>White African</th>\n",
       "      <th>White and Arab</th>\n",
       "      <th>White and East Asian</th>\n",
       "      <th>White and North African or Middle Eastern</th>\n",
       "      <th>White and South Asian</th>\n",
       "      <th>White Caribbean</th>\n",
       "    </tr>\n",
       "  </thead>\n",
       "  <tbody>\n",
       "    <tr>\n",
       "      <th>0</th>\n",
       "      <td>E01020634</td>\n",
       "      <td>1,563</td>\n",
       "      <td>1,537</td>\n",
       "      <td>3</td>\n",
       "      <td>0</td>\n",
       "      <td>0</td>\n",
       "      <td>2</td>\n",
       "      <td>0</td>\n",
       "      <td>1</td>\n",
       "      <td>0</td>\n",
       "      <td>...</td>\n",
       "      <td>1</td>\n",
       "      <td>0</td>\n",
       "      <td>0</td>\n",
       "      <td>0</td>\n",
       "      <td>0</td>\n",
       "      <td>0</td>\n",
       "      <td>0</td>\n",
       "      <td>0</td>\n",
       "      <td>0</td>\n",
       "      <td>0</td>\n",
       "    </tr>\n",
       "    <tr>\n",
       "      <th>1</th>\n",
       "      <td>E01020635</td>\n",
       "      <td>1,379</td>\n",
       "      <td>1,355</td>\n",
       "      <td>3</td>\n",
       "      <td>0</td>\n",
       "      <td>0</td>\n",
       "      <td>2</td>\n",
       "      <td>1</td>\n",
       "      <td>3</td>\n",
       "      <td>0</td>\n",
       "      <td>...</td>\n",
       "      <td>0</td>\n",
       "      <td>0</td>\n",
       "      <td>0</td>\n",
       "      <td>1</td>\n",
       "      <td>0</td>\n",
       "      <td>0</td>\n",
       "      <td>0</td>\n",
       "      <td>0</td>\n",
       "      <td>0</td>\n",
       "      <td>0</td>\n",
       "    </tr>\n",
       "    <tr>\n",
       "      <th>2</th>\n",
       "      <td>E01020636</td>\n",
       "      <td>1,698</td>\n",
       "      <td>1,662</td>\n",
       "      <td>4</td>\n",
       "      <td>0</td>\n",
       "      <td>2</td>\n",
       "      <td>4</td>\n",
       "      <td>3</td>\n",
       "      <td>2</td>\n",
       "      <td>0</td>\n",
       "      <td>...</td>\n",
       "      <td>0</td>\n",
       "      <td>0</td>\n",
       "      <td>0</td>\n",
       "      <td>0</td>\n",
       "      <td>0</td>\n",
       "      <td>0</td>\n",
       "      <td>0</td>\n",
       "      <td>0</td>\n",
       "      <td>0</td>\n",
       "      <td>0</td>\n",
       "    </tr>\n",
       "    <tr>\n",
       "      <th>3</th>\n",
       "      <td>E01020654</td>\n",
       "      <td>1,746</td>\n",
       "      <td>1,711</td>\n",
       "      <td>4</td>\n",
       "      <td>0</td>\n",
       "      <td>2</td>\n",
       "      <td>0</td>\n",
       "      <td>1</td>\n",
       "      <td>4</td>\n",
       "      <td>0</td>\n",
       "      <td>...</td>\n",
       "      <td>0</td>\n",
       "      <td>0</td>\n",
       "      <td>0</td>\n",
       "      <td>0</td>\n",
       "      <td>0</td>\n",
       "      <td>0</td>\n",
       "      <td>0</td>\n",
       "      <td>0</td>\n",
       "      <td>0</td>\n",
       "      <td>0</td>\n",
       "    </tr>\n",
       "    <tr>\n",
       "      <th>4</th>\n",
       "      <td>E01020676</td>\n",
       "      <td>1,514</td>\n",
       "      <td>1,488</td>\n",
       "      <td>6</td>\n",
       "      <td>0</td>\n",
       "      <td>1</td>\n",
       "      <td>2</td>\n",
       "      <td>2</td>\n",
       "      <td>1</td>\n",
       "      <td>0</td>\n",
       "      <td>...</td>\n",
       "      <td>0</td>\n",
       "      <td>0</td>\n",
       "      <td>0</td>\n",
       "      <td>0</td>\n",
       "      <td>0</td>\n",
       "      <td>0</td>\n",
       "      <td>0</td>\n",
       "      <td>0</td>\n",
       "      <td>0</td>\n",
       "      <td>0</td>\n",
       "    </tr>\n",
       "  </tbody>\n",
       "</table>\n",
       "<p>5 rows × 96 columns</p>\n",
       "</div>"
      ],
      "text/plain": [
       "   LSOA Code All categories: Ethnic group   \\\n",
       "0  E01020634                         1,563   \n",
       "1  E01020635                         1,379   \n",
       "2  E01020636                         1,698   \n",
       "3  E01020654                         1,746   \n",
       "4  E01020676                         1,514   \n",
       "\n",
       "  English/Welsh/Scottish/Northern Irish/British  Irish  \\\n",
       "0                                         1,537      3   \n",
       "1                                         1,355      3   \n",
       "2                                         1,662      4   \n",
       "3                                         1,711      4   \n",
       "4                                         1,488      6   \n",
       "\n",
       "   Gypsy or Irish Traveller  Other White  White and Black Caribbean  \\\n",
       "0                         0            0                          2   \n",
       "1                         0            0                          2   \n",
       "2                         0            2                          4   \n",
       "3                         0            2                          0   \n",
       "4                         0            1                          2   \n",
       "\n",
       "   White and Black African  White and Asian  Other Mixed  ... Turkish  \\\n",
       "0                        0                1            0  ...       1   \n",
       "1                        1                3            0  ...       0   \n",
       "2                        3                2            0  ...       0   \n",
       "3                        1                4            0  ...       0   \n",
       "4                        2                1            0  ...       0   \n",
       "\n",
       "  Turkish Cypriot Venezuelan  Vietnamese  White African White and Arab  \\\n",
       "0               0          0           0              0              0   \n",
       "1               0          0           1              0              0   \n",
       "2               0          0           0              0              0   \n",
       "3               0          0           0              0              0   \n",
       "4               0          0           0              0              0   \n",
       "\n",
       "   White and East Asian  White and North African or Middle Eastern  \\\n",
       "0                     0                                          0   \n",
       "1                     0                                          0   \n",
       "2                     0                                          0   \n",
       "3                     0                                          0   \n",
       "4                     0                                          0   \n",
       "\n",
       "   White and South Asian  White Caribbean  \n",
       "0                      0                0  \n",
       "1                      0                0  \n",
       "2                      0                0  \n",
       "3                      0                0  \n",
       "4                      0                0  \n",
       "\n",
       "[5 rows x 96 columns]"
      ]
     },
     "execution_count": 104,
     "metadata": {},
     "output_type": "execute_result"
    }
   ],
   "source": [
    "# Take a look at the first 5 rows\n",
    "df_ethnicity.head()"
   ]
  },
  {
   "cell_type": "code",
   "execution_count": 105,
   "id": "d9fceb5f",
   "metadata": {},
   "outputs": [
    {
     "data": {
      "text/plain": [
       "(34753, 96)"
      ]
     },
     "execution_count": 105,
     "metadata": {},
     "output_type": "execute_result"
    }
   ],
   "source": [
    "# look at the size of the dataset\n",
    "df_ethnicity.shape"
   ]
  },
  {
   "cell_type": "markdown",
   "id": "f9ade8e4",
   "metadata": {},
   "source": [
    "Let's check the type of each column:"
   ]
  },
  {
   "cell_type": "code",
   "execution_count": 106,
   "id": "70d2fd62",
   "metadata": {},
   "outputs": [
    {
     "name": "stdout",
     "output_type": "stream",
     "text": [
      "<class 'pandas.core.frame.DataFrame'>\n",
      "RangeIndex: 34753 entries, 0 to 34752\n",
      "Data columns (total 96 columns):\n",
      " #   Column                                         Non-Null Count  Dtype \n",
      "---  ------                                         --------------  ----- \n",
      " 0   LSOA Code                                      34753 non-null  object\n",
      " 1   All categories: Ethnic group                   34753 non-null  object\n",
      " 2   English/Welsh/Scottish/Northern Irish/British  34753 non-null  object\n",
      " 3   Irish                                          34753 non-null  int64 \n",
      " 4   Gypsy or Irish Traveller                       34753 non-null  int64 \n",
      " 5   Other White                                    34753 non-null  int64 \n",
      " 6   White and Black Caribbean                      34753 non-null  int64 \n",
      " 7   White and Black African                        34753 non-null  int64 \n",
      " 8   White and Asian                                34753 non-null  int64 \n",
      " 9   Other Mixed                                    34753 non-null  int64 \n",
      " 10  Indian or British Indian                       34753 non-null  object\n",
      " 11  Pakistani or British Pakistani                 34753 non-null  object\n",
      " 12  Bangladeshi, British Bangladeshi               34753 non-null  object\n",
      " 13  Chinese                                        34753 non-null  int64 \n",
      " 14  Other Asian                                    34753 non-null  int64 \n",
      " 15  African                                        34753 non-null  object\n",
      " 16  Caribbean                                      34753 non-null  int64 \n",
      " 17  Other Black                                    34753 non-null  int64 \n",
      " 18  Arab                                           34753 non-null  int64 \n",
      " 19  Any other ethnic group                         34753 non-null  int64 \n",
      " 20  Afghan                                         34753 non-null  int64 \n",
      " 21  African/Arab                                   34753 non-null  int64 \n",
      " 22  Albanian                                       34753 non-null  int64 \n",
      " 23  Anglo Indian                                   34753 non-null  int64 \n",
      " 24  Argentinian                                    34753 non-null  int64 \n",
      " 25  Australian/New Zealander                       34753 non-null  int64 \n",
      " 26  Baltic States                                  34753 non-null  int64 \n",
      " 27  Black and Asian                                34753 non-null  int64 \n",
      " 28  Black and Chinese                              34753 non-null  int64 \n",
      " 29  Black and White                                34753 non-null  int64 \n",
      " 30  Black British                                  34753 non-null  int64 \n",
      " 31  Black European                                 34753 non-null  int64 \n",
      " 32  Black/African American                         34753 non-null  int64 \n",
      " 33  Bosnian                                        34753 non-null  int64 \n",
      " 34  Brazilian                                      34753 non-null  int64 \n",
      " 35  British Asian                                  34753 non-null  int64 \n",
      " 36  Burmese                                        34753 non-null  int64 \n",
      " 37  Cambodia                                       34753 non-null  int64 \n",
      " 38  Caribbean Asian                                34753 non-null  int64 \n",
      " 39  Chilean                                        34753 non-null  int64 \n",
      " 40  Chinese and White                              34753 non-null  int64 \n",
      " 41  Colombian                                      34753 non-null  int64 \n",
      " 42  Commonwealth of (Russian) Independent States   34753 non-null  int64 \n",
      " 43  Croatian                                       34753 non-null  int64 \n",
      " 44  Cuban                                          34753 non-null  int64 \n",
      " 45  Cypriot                                        34753 non-null  int64 \n",
      " 46  East African Asian                             34753 non-null  int64 \n",
      " 47  Ecuadorian                                     34753 non-null  int64 \n",
      " 48  European Mixed                                 34753 non-null  int64 \n",
      " 49  Filipino                                       34753 non-null  int64 \n",
      " 50  Greek                                          34753 non-null  int64 \n",
      " 51  Greek Cypriot                                  34753 non-null  int64 \n",
      " 52  Indonesian                                     34753 non-null  int64 \n",
      " 53  Iranian                                        34753 non-null  int64 \n",
      " 54  Israeli                                        34753 non-null  int64 \n",
      " 55  Italian                                        34753 non-null  int64 \n",
      " 56  Japanese                                       34753 non-null  int64 \n",
      " 57  Kashmiri                                       34753 non-null  int64 \n",
      " 58  Korean                                         34753 non-null  int64 \n",
      " 59  Kosovan                                        34753 non-null  int64 \n",
      " 60  Kurdish                                        34753 non-null  int64 \n",
      " 61  Latin/South/Central American                   34753 non-null  int64 \n",
      " 62  Malaysian                                      34753 non-null  int64 \n",
      " 63  Mexican                                        34753 non-null  int64 \n",
      " 64  Moroccan                                       34753 non-null  int64 \n",
      " 65  Multi-ethnic islands                           34753 non-null  int64 \n",
      " 66  Nepalese (includes Gurkha)                     34753 non-null  int64 \n",
      " 67  Nigerian                                       34753 non-null  int64 \n",
      " 68  North African                                  34753 non-null  int64 \n",
      " 69  North American                                 34753 non-null  int64 \n",
      " 70  Other Eastern European                         34753 non-null  int64 \n",
      " 71  Other Middle East                              34753 non-null  int64 \n",
      " 72  Other Western European                         34753 non-null  int64 \n",
      " 73  Peruvian                                       34753 non-null  int64 \n",
      " 74  Polish                                         34753 non-null  int64 \n",
      " 75  Polynesia/Micronesia/Melanesia                 34753 non-null  int64 \n",
      " 76  Punjabi                                        34753 non-null  int64 \n",
      " 77  Serbian                                        34753 non-null  int64 \n",
      " 78  Sinhalese                                      34753 non-null  int64 \n",
      " 79  Somali                                         34753 non-null  int64 \n",
      " 80  Somalilander                                   34753 non-null  int64 \n",
      " 81  South Asian and Chinese                        34753 non-null  int64 \n",
      " 82  Sri Lankan                                     34753 non-null  int64 \n",
      " 83  Taiwanese                                      34753 non-null  int64 \n",
      " 84  Tamil                                          34753 non-null  int64 \n",
      " 85  Thai                                           34753 non-null  int64 \n",
      " 86  Turkish                                        34753 non-null  int64 \n",
      " 87  Turkish Cypriot                                34753 non-null  int64 \n",
      " 88  Venezuelan                                     34753 non-null  int64 \n",
      " 89  Vietnamese                                     34753 non-null  int64 \n",
      " 90  White African                                  34753 non-null  int64 \n",
      " 91  White and Arab                                 34753 non-null  int64 \n",
      " 92  White and East Asian                           34753 non-null  int64 \n",
      " 93  White and North African or Middle Eastern      34753 non-null  int64 \n",
      " 94  White and South Asian                          34753 non-null  int64 \n",
      " 95  White Caribbean                                34753 non-null  int64 \n",
      "dtypes: int64(89), object(7)\n",
      "memory usage: 25.5+ MB\n"
     ]
    }
   ],
   "source": [
    "# Checking dtype\n",
    "df_ethnicity.info()"
   ]
  },
  {
   "cell_type": "markdown",
   "id": "d29b9283",
   "metadata": {},
   "source": [
    "Here are some observations:\n",
    "\n",
    "* There are a total of 94 ethnicities so we will need to collapse them into groups\n",
    "* All Categories: Ethnic Group is a category that is the same as the Population category in the main dataset\n",
    "* Some columns are of object type, most likely because they are the most numerous and have a comma"
   ]
  },
  {
   "cell_type": "markdown",
   "id": "942e276b",
   "metadata": {},
   "source": [
    "Let's get rid of the comma and cast \"object\" columns into integers:"
   ]
  },
  {
   "cell_type": "code",
   "execution_count": 107,
   "id": "e659758b",
   "metadata": {},
   "outputs": [],
   "source": [
    "# Replacing the comma with nothing (i.e., deleting it)\n",
    "df_ethnicity.replace(',','', regex=True, inplace=True)"
   ]
  },
  {
   "cell_type": "code",
   "execution_count": 108,
   "id": "fae8dcf4",
   "metadata": {},
   "outputs": [],
   "source": [
    "df_ethnicity['English/Welsh/Scottish/Northern Irish/British'] = df_ethnicity['English/Welsh/Scottish/Northern Irish/British'].astype(int)"
   ]
  },
  {
   "cell_type": "code",
   "execution_count": 109,
   "id": "490a8813",
   "metadata": {},
   "outputs": [],
   "source": [
    "df_ethnicity['Indian or British Indian'] = df_ethnicity['Indian or British Indian'].astype(int)"
   ]
  },
  {
   "cell_type": "code",
   "execution_count": 110,
   "id": "3c4568b3",
   "metadata": {},
   "outputs": [],
   "source": [
    "df_ethnicity['Pakistani or British Pakistani'] = df_ethnicity['Pakistani or British Pakistani'].astype(int)"
   ]
  },
  {
   "cell_type": "code",
   "execution_count": 111,
   "id": "adbe9013",
   "metadata": {},
   "outputs": [],
   "source": [
    "df_ethnicity['Bangladeshi, British Bangladeshi'] = df_ethnicity['Bangladeshi, British Bangladeshi'].astype(int)"
   ]
  },
  {
   "cell_type": "code",
   "execution_count": 112,
   "id": "f7de5904",
   "metadata": {},
   "outputs": [],
   "source": [
    "df_ethnicity['African'] = df_ethnicity['African'].astype(int)"
   ]
  },
  {
   "cell_type": "code",
   "execution_count": 113,
   "id": "2c873177",
   "metadata": {},
   "outputs": [],
   "source": [
    "df_ethnicity.iloc[:, 1] = df_ethnicity.iloc[:, 1].astype(int)"
   ]
  },
  {
   "cell_type": "markdown",
   "id": "1e91ba9e",
   "metadata": {},
   "source": [
    "Let's check if this worked:"
   ]
  },
  {
   "cell_type": "code",
   "execution_count": 114,
   "id": "747bbe6c",
   "metadata": {},
   "outputs": [
    {
     "name": "stdout",
     "output_type": "stream",
     "text": [
      "<class 'pandas.core.frame.DataFrame'>\n",
      "RangeIndex: 34753 entries, 0 to 34752\n",
      "Data columns (total 96 columns):\n",
      " #   Column                                         Non-Null Count  Dtype \n",
      "---  ------                                         --------------  ----- \n",
      " 0   LSOA Code                                      34753 non-null  object\n",
      " 1   All categories: Ethnic group                   34753 non-null  int32 \n",
      " 2   English/Welsh/Scottish/Northern Irish/British  34753 non-null  int32 \n",
      " 3   Irish                                          34753 non-null  int64 \n",
      " 4   Gypsy or Irish Traveller                       34753 non-null  int64 \n",
      " 5   Other White                                    34753 non-null  int64 \n",
      " 6   White and Black Caribbean                      34753 non-null  int64 \n",
      " 7   White and Black African                        34753 non-null  int64 \n",
      " 8   White and Asian                                34753 non-null  int64 \n",
      " 9   Other Mixed                                    34753 non-null  int64 \n",
      " 10  Indian or British Indian                       34753 non-null  int32 \n",
      " 11  Pakistani or British Pakistani                 34753 non-null  int32 \n",
      " 12  Bangladeshi, British Bangladeshi               34753 non-null  int32 \n",
      " 13  Chinese                                        34753 non-null  int64 \n",
      " 14  Other Asian                                    34753 non-null  int64 \n",
      " 15  African                                        34753 non-null  int32 \n",
      " 16  Caribbean                                      34753 non-null  int64 \n",
      " 17  Other Black                                    34753 non-null  int64 \n",
      " 18  Arab                                           34753 non-null  int64 \n",
      " 19  Any other ethnic group                         34753 non-null  int64 \n",
      " 20  Afghan                                         34753 non-null  int64 \n",
      " 21  African/Arab                                   34753 non-null  int64 \n",
      " 22  Albanian                                       34753 non-null  int64 \n",
      " 23  Anglo Indian                                   34753 non-null  int64 \n",
      " 24  Argentinian                                    34753 non-null  int64 \n",
      " 25  Australian/New Zealander                       34753 non-null  int64 \n",
      " 26  Baltic States                                  34753 non-null  int64 \n",
      " 27  Black and Asian                                34753 non-null  int64 \n",
      " 28  Black and Chinese                              34753 non-null  int64 \n",
      " 29  Black and White                                34753 non-null  int64 \n",
      " 30  Black British                                  34753 non-null  int64 \n",
      " 31  Black European                                 34753 non-null  int64 \n",
      " 32  Black/African American                         34753 non-null  int64 \n",
      " 33  Bosnian                                        34753 non-null  int64 \n",
      " 34  Brazilian                                      34753 non-null  int64 \n",
      " 35  British Asian                                  34753 non-null  int64 \n",
      " 36  Burmese                                        34753 non-null  int64 \n",
      " 37  Cambodia                                       34753 non-null  int64 \n",
      " 38  Caribbean Asian                                34753 non-null  int64 \n",
      " 39  Chilean                                        34753 non-null  int64 \n",
      " 40  Chinese and White                              34753 non-null  int64 \n",
      " 41  Colombian                                      34753 non-null  int64 \n",
      " 42  Commonwealth of (Russian) Independent States   34753 non-null  int64 \n",
      " 43  Croatian                                       34753 non-null  int64 \n",
      " 44  Cuban                                          34753 non-null  int64 \n",
      " 45  Cypriot                                        34753 non-null  int64 \n",
      " 46  East African Asian                             34753 non-null  int64 \n",
      " 47  Ecuadorian                                     34753 non-null  int64 \n",
      " 48  European Mixed                                 34753 non-null  int64 \n",
      " 49  Filipino                                       34753 non-null  int64 \n",
      " 50  Greek                                          34753 non-null  int64 \n",
      " 51  Greek Cypriot                                  34753 non-null  int64 \n",
      " 52  Indonesian                                     34753 non-null  int64 \n",
      " 53  Iranian                                        34753 non-null  int64 \n",
      " 54  Israeli                                        34753 non-null  int64 \n",
      " 55  Italian                                        34753 non-null  int64 \n",
      " 56  Japanese                                       34753 non-null  int64 \n",
      " 57  Kashmiri                                       34753 non-null  int64 \n",
      " 58  Korean                                         34753 non-null  int64 \n",
      " 59  Kosovan                                        34753 non-null  int64 \n",
      " 60  Kurdish                                        34753 non-null  int64 \n",
      " 61  Latin/South/Central American                   34753 non-null  int64 \n",
      " 62  Malaysian                                      34753 non-null  int64 \n",
      " 63  Mexican                                        34753 non-null  int64 \n",
      " 64  Moroccan                                       34753 non-null  int64 \n",
      " 65  Multi-ethnic islands                           34753 non-null  int64 \n",
      " 66  Nepalese (includes Gurkha)                     34753 non-null  int64 \n",
      " 67  Nigerian                                       34753 non-null  int64 \n",
      " 68  North African                                  34753 non-null  int64 \n",
      " 69  North American                                 34753 non-null  int64 \n",
      " 70  Other Eastern European                         34753 non-null  int64 \n",
      " 71  Other Middle East                              34753 non-null  int64 \n",
      " 72  Other Western European                         34753 non-null  int64 \n",
      " 73  Peruvian                                       34753 non-null  int64 \n",
      " 74  Polish                                         34753 non-null  int64 \n",
      " 75  Polynesia/Micronesia/Melanesia                 34753 non-null  int64 \n",
      " 76  Punjabi                                        34753 non-null  int64 \n",
      " 77  Serbian                                        34753 non-null  int64 \n",
      " 78  Sinhalese                                      34753 non-null  int64 \n",
      " 79  Somali                                         34753 non-null  int64 \n",
      " 80  Somalilander                                   34753 non-null  int64 \n",
      " 81  South Asian and Chinese                        34753 non-null  int64 \n",
      " 82  Sri Lankan                                     34753 non-null  int64 \n",
      " 83  Taiwanese                                      34753 non-null  int64 \n",
      " 84  Tamil                                          34753 non-null  int64 \n",
      " 85  Thai                                           34753 non-null  int64 \n",
      " 86  Turkish                                        34753 non-null  int64 \n",
      " 87  Turkish Cypriot                                34753 non-null  int64 \n",
      " 88  Venezuelan                                     34753 non-null  int64 \n",
      " 89  Vietnamese                                     34753 non-null  int64 \n",
      " 90  White African                                  34753 non-null  int64 \n",
      " 91  White and Arab                                 34753 non-null  int64 \n",
      " 92  White and East Asian                           34753 non-null  int64 \n",
      " 93  White and North African or Middle Eastern      34753 non-null  int64 \n",
      " 94  White and South Asian                          34753 non-null  int64 \n",
      " 95  White Caribbean                                34753 non-null  int64 \n",
      "dtypes: int32(6), int64(89), object(1)\n",
      "memory usage: 24.7+ MB\n"
     ]
    }
   ],
   "source": [
    "# Checking column dtypes:\n",
    "df_ethnicity.info()"
   ]
  },
  {
   "cell_type": "markdown",
   "id": "64ef91f2",
   "metadata": {},
   "source": [
    "This worked!"
   ]
  },
  {
   "cell_type": "markdown",
   "id": "84f88dae",
   "metadata": {},
   "source": [
    "Now let's start combining ethnicities into bigger buckets, and creating proportions. This was done by looking at work which has already been done in the UK."
   ]
  },
  {
   "cell_type": "code",
   "execution_count": 115,
   "id": "1de4dfd6",
   "metadata": {},
   "outputs": [],
   "source": [
    "# Creating proportions\n",
    "df_ethnicity.insert(2, 'WBR Proportion', df_ethnicity['English/Welsh/Scottish/Northern Irish/British'] / df_ethnicity.iloc[:, 1])"
   ]
  },
  {
   "cell_type": "code",
   "execution_count": 116,
   "id": "c3dd2a23",
   "metadata": {},
   "outputs": [],
   "source": [
    "# Combining ethnicities into buckets and creating proportions:\n",
    "df_ethnicity.insert(3, 'WIR Proportion', df_ethnicity['Irish'] / df_ethnicity.iloc[:, 1])"
   ]
  },
  {
   "cell_type": "code",
   "execution_count": 117,
   "id": "13dac9db",
   "metadata": {},
   "outputs": [],
   "source": [
    "# Combining ethnicities into buckets and creating proportions:\n",
    "df_ethnicity.insert(4, 'WAO Proportion',  (df_ethnicity['Other White'] + df_ethnicity['Albanian'] + df_ethnicity['Australian/New Zealander'] + df_ethnicity['Baltic States']+ df_ethnicity['Bosnian'] + df_ethnicity['Commonwealth of (Russian) Independent States'] + df_ethnicity['Croatian'] + df_ethnicity.iloc[:, 45] + df_ethnicity['Greek'] + df_ethnicity['Greek Cypriot'] + df_ethnicity['Italian'] + df_ethnicity['Kosovan'] + df_ethnicity['North American'] + df_ethnicity['Other Eastern European'] + df_ethnicity['Other Western European'] + df_ethnicity['Polish'] + df_ethnicity['Turkish Cypriot'] + df_ethnicity['White African'] + df_ethnicity['White Caribbean'])/ df_ethnicity.iloc[:, 1])"
   ]
  },
  {
   "cell_type": "code",
   "execution_count": 118,
   "id": "568ada31",
   "metadata": {},
   "outputs": [],
   "source": [
    "# Combining ethnicities into buckets and creating proportions:\n",
    "df_ethnicity.insert(5, 'ABD Proportion', df_ethnicity['Bangladeshi, British Bangladeshi'] / df_ethnicity.iloc[:, 1])"
   ]
  },
  {
   "cell_type": "code",
   "execution_count": 119,
   "id": "d57e5ae2",
   "metadata": {},
   "outputs": [],
   "source": [
    "# Combining ethnicities into buckets and creating proportions:\n",
    "df_ethnicity.insert(6, 'ACN Proportion', df_ethnicity['Chinese'] / df_ethnicity.iloc[:, 1])"
   ]
  },
  {
   "cell_type": "code",
   "execution_count": 120,
   "id": "0e7073e0",
   "metadata": {},
   "outputs": [],
   "source": [
    "# Combining ethnicities into buckets and creating proportions:\n",
    "df_ethnicity.insert(7, 'AIN Proportion', (df_ethnicity['Indian or British Indian'] + df_ethnicity['Anglo Indian'])/ df_ethnicity.iloc[:, 1])"
   ]
  },
  {
   "cell_type": "code",
   "execution_count": 121,
   "id": "c971a642",
   "metadata": {},
   "outputs": [],
   "source": [
    "# Combining ethnicities into buckets and creating proportions:\n",
    "df_ethnicity.insert(8, 'APK Proportion', df_ethnicity['Pakistani or British Pakistani'] / df_ethnicity.iloc[:, 1])"
   ]
  },
  {
   "cell_type": "code",
   "execution_count": 122,
   "id": "164cdc1f",
   "metadata": {},
   "outputs": [],
   "source": [
    "# Combining ethnicities into buckets and creating proportions:\n",
    "df_ethnicity.insert(9, 'BAF Proportion', (df_ethnicity['African'] + df_ethnicity['Nigerian'] + df_ethnicity['Somali'] + df_ethnicity['Somalilander']) / df_ethnicity.iloc[:, 1])"
   ]
  },
  {
   "cell_type": "code",
   "execution_count": 123,
   "id": "d75ad022",
   "metadata": {},
   "outputs": [],
   "source": [
    "# Combining ethnicities into buckets and creating proportions:\n",
    "df_ethnicity.insert(10, 'BCA Proportion', (df_ethnicity['Caribbean']) / df_ethnicity.iloc[:, 1])"
   ]
  },
  {
   "cell_type": "code",
   "execution_count": 124,
   "id": "553c69f8",
   "metadata": {},
   "outputs": [],
   "source": [
    "# Combining ethnicities into buckets and creating proportions:\n",
    "df_ethnicity.insert(11, 'OXX Proportion', (df_ethnicity['Gypsy or Irish Traveller'] + df_ethnicity['Any other ethnic group'] + df_ethnicity['Multi-ethnic islands']) / df_ethnicity.iloc[:, 1])"
   ]
  },
  {
   "cell_type": "code",
   "execution_count": 125,
   "id": "ddfd0db3",
   "metadata": {},
   "outputs": [],
   "source": [
    "# Combining ethnicities into buckets and creating proportions:\n",
    "df_ethnicity.insert(12, 'MIX Proportion', (df_ethnicity['White and Black Caribbean'] + df_ethnicity['White and Black African'] + df_ethnicity['White and Asian'] + df_ethnicity['Other Mixed'] + df_ethnicity['Black and Asian'] + df_ethnicity['Black and Chinese'] + df_ethnicity['Black and White'] + df_ethnicity['Brazilian'] + df_ethnicity['Chinese and White'] + df_ethnicity['European Mixed'] + df_ethnicity['South Asian and Chinese']  + df_ethnicity['White and Arab'] + df_ethnicity['White and East Asian'] + df_ethnicity['White and North African or Middle Eastern']  + df_ethnicity['White and South Asian'] ) / df_ethnicity.iloc[:, 1])"
   ]
  },
  {
   "cell_type": "code",
   "execution_count": 126,
   "id": "db108636",
   "metadata": {},
   "outputs": [],
   "source": [
    "# Combining ethnicities into buckets and creating proportions:\n",
    "df_ethnicity.insert(13, 'BBO Proportion', (df_ethnicity['Other Black'] + df_ethnicity['Black British'] + df_ethnicity['Black European'] + df_ethnicity['Black/African American']) / df_ethnicity.iloc[:, 1])"
   ]
  },
  {
   "cell_type": "code",
   "execution_count": 127,
   "id": "53810ad1",
   "metadata": {},
   "outputs": [],
   "source": [
    "# Combining ethnicities into buckets and creating proportions:\n",
    "df_ethnicity.insert(14, 'MEA Proportion', (df_ethnicity['Arab'] + df_ethnicity['Afghan'] + df_ethnicity['Iranian'] + df_ethnicity['Israeli'] + df_ethnicity['African/Arab'] + df_ethnicity['Kurdish'] + df_ethnicity['Moroccan'] + df_ethnicity['North African'] + df_ethnicity['Other Middle East']) / df_ethnicity.iloc[:, 1])"
   ]
  },
  {
   "cell_type": "code",
   "execution_count": 128,
   "id": "40e1060e",
   "metadata": {},
   "outputs": [],
   "source": [
    "# Combining ethnicities into buckets and creating proportions:\n",
    "df_ethnicity.insert(15, 'SAO Proportion', (df_ethnicity['Burmese'] + df_ethnicity['Filipino'] + df_ethnicity['Indonesian'] + df_ethnicity['Kashmiri'] + df_ethnicity['Nepalese (includes Gurkha)'] + df_ethnicity['Punjabi'] + df_ethnicity['Sinhalese'] + df_ethnicity['Sri Lankan'] + df_ethnicity['Tamil']) / df_ethnicity.iloc[:, 1])"
   ]
  },
  {
   "cell_type": "code",
   "execution_count": 129,
   "id": "46cafb52",
   "metadata": {},
   "outputs": [],
   "source": [
    "# Combining ethnicities into buckets and creating proportions:\n",
    "df_ethnicity.insert(16, 'EAO Proportion', (df_ethnicity['Cambodia'] + df_ethnicity['Japanese'] + df_ethnicity['Korean'] + df_ethnicity['Taiwanese'] + df_ethnicity['Thai'] + df_ethnicity['Vietnamese']) / df_ethnicity.iloc[:, 1])"
   ]
  },
  {
   "cell_type": "code",
   "execution_count": 130,
   "id": "91048b0e",
   "metadata": {},
   "outputs": [],
   "source": [
    "# Combining ethnicities into buckets and creating proportions:\n",
    "df_ethnicity.insert(17, 'CSA Proportion', (df_ethnicity['Chilean'] + df_ethnicity['Colombian'] + df_ethnicity['Cuban'] + df_ethnicity['Ecuadorian'] + df_ethnicity['Latin/South/Central American'] + df_ethnicity['Mexican'] + df_ethnicity['Peruvian'] + df_ethnicity['Venezuelan']) / df_ethnicity.iloc[:, 1])"
   ]
  },
  {
   "cell_type": "code",
   "execution_count": 131,
   "id": "b463f420",
   "metadata": {},
   "outputs": [],
   "source": [
    "# Combining ethnicities into buckets and creating proportions:\n",
    "df_ethnicity.insert(18, 'AAO Proportion', (df_ethnicity['Other Asian'] + df_ethnicity['British Asian'] + df_ethnicity['Caribbean Asian'] + df_ethnicity['East African Asian'] + df_ethnicity['Polynesia/Micronesia/Melanesia']) / df_ethnicity.iloc[:, 1])"
   ]
  },
  {
   "cell_type": "code",
   "execution_count": 132,
   "id": "f4b1be52",
   "metadata": {},
   "outputs": [],
   "source": [
    "# Selecting proportions only\n",
    "df_ethnicity = df_ethnicity.iloc[:, np.r_[0:19]].copy()"
   ]
  },
  {
   "cell_type": "markdown",
   "id": "85081f79",
   "metadata": {},
   "source": [
    "Let's check if this worked:"
   ]
  },
  {
   "cell_type": "code",
   "execution_count": 133,
   "id": "4a7b8bf0",
   "metadata": {
    "scrolled": true
   },
   "outputs": [
    {
     "data": {
      "text/html": [
       "<div>\n",
       "<style scoped>\n",
       "    .dataframe tbody tr th:only-of-type {\n",
       "        vertical-align: middle;\n",
       "    }\n",
       "\n",
       "    .dataframe tbody tr th {\n",
       "        vertical-align: top;\n",
       "    }\n",
       "\n",
       "    .dataframe thead th {\n",
       "        text-align: right;\n",
       "    }\n",
       "</style>\n",
       "<table border=\"1\" class=\"dataframe\">\n",
       "  <thead>\n",
       "    <tr style=\"text-align: right;\">\n",
       "      <th></th>\n",
       "      <th>LSOA Code</th>\n",
       "      <th>All categories: Ethnic group</th>\n",
       "      <th>WBR Proportion</th>\n",
       "      <th>WIR Proportion</th>\n",
       "      <th>WAO Proportion</th>\n",
       "      <th>ABD Proportion</th>\n",
       "      <th>ACN Proportion</th>\n",
       "      <th>AIN Proportion</th>\n",
       "      <th>APK Proportion</th>\n",
       "      <th>BAF Proportion</th>\n",
       "      <th>BCA Proportion</th>\n",
       "      <th>OXX Proportion</th>\n",
       "      <th>MIX Proportion</th>\n",
       "      <th>BBO Proportion</th>\n",
       "      <th>MEA Proportion</th>\n",
       "      <th>SAO Proportion</th>\n",
       "      <th>EAO Proportion</th>\n",
       "      <th>CSA Proportion</th>\n",
       "      <th>AAO Proportion</th>\n",
       "    </tr>\n",
       "  </thead>\n",
       "  <tbody>\n",
       "    <tr>\n",
       "      <th>0</th>\n",
       "      <td>E01020634</td>\n",
       "      <td>1563</td>\n",
       "      <td>0.983365</td>\n",
       "      <td>0.001919</td>\n",
       "      <td>0.004479</td>\n",
       "      <td>0.0</td>\n",
       "      <td>0.000640</td>\n",
       "      <td>0.0</td>\n",
       "      <td>0.000000</td>\n",
       "      <td>0.001280</td>\n",
       "      <td>0.000000</td>\n",
       "      <td>0.000000</td>\n",
       "      <td>0.004479</td>\n",
       "      <td>0.0</td>\n",
       "      <td>0.000000</td>\n",
       "      <td>0.000000</td>\n",
       "      <td>0.000640</td>\n",
       "      <td>0.002559</td>\n",
       "      <td>0.000000</td>\n",
       "    </tr>\n",
       "    <tr>\n",
       "      <th>1</th>\n",
       "      <td>E01020635</td>\n",
       "      <td>1379</td>\n",
       "      <td>0.982596</td>\n",
       "      <td>0.002175</td>\n",
       "      <td>0.002175</td>\n",
       "      <td>0.0</td>\n",
       "      <td>0.005076</td>\n",
       "      <td>0.0</td>\n",
       "      <td>0.000000</td>\n",
       "      <td>0.000000</td>\n",
       "      <td>0.000000</td>\n",
       "      <td>0.000000</td>\n",
       "      <td>0.006526</td>\n",
       "      <td>0.0</td>\n",
       "      <td>0.000000</td>\n",
       "      <td>0.000000</td>\n",
       "      <td>0.000725</td>\n",
       "      <td>0.000000</td>\n",
       "      <td>0.000725</td>\n",
       "    </tr>\n",
       "    <tr>\n",
       "      <th>2</th>\n",
       "      <td>E01020636</td>\n",
       "      <td>1698</td>\n",
       "      <td>0.978799</td>\n",
       "      <td>0.002356</td>\n",
       "      <td>0.005889</td>\n",
       "      <td>0.0</td>\n",
       "      <td>0.000000</td>\n",
       "      <td>0.0</td>\n",
       "      <td>0.000000</td>\n",
       "      <td>0.000589</td>\n",
       "      <td>0.000589</td>\n",
       "      <td>0.000000</td>\n",
       "      <td>0.005889</td>\n",
       "      <td>0.0</td>\n",
       "      <td>0.001767</td>\n",
       "      <td>0.002356</td>\n",
       "      <td>0.000589</td>\n",
       "      <td>0.000000</td>\n",
       "      <td>0.000589</td>\n",
       "    </tr>\n",
       "    <tr>\n",
       "      <th>3</th>\n",
       "      <td>E01020654</td>\n",
       "      <td>1746</td>\n",
       "      <td>0.979954</td>\n",
       "      <td>0.002291</td>\n",
       "      <td>0.008018</td>\n",
       "      <td>0.0</td>\n",
       "      <td>0.002864</td>\n",
       "      <td>0.0</td>\n",
       "      <td>0.000000</td>\n",
       "      <td>0.001145</td>\n",
       "      <td>0.000000</td>\n",
       "      <td>0.000000</td>\n",
       "      <td>0.003436</td>\n",
       "      <td>0.0</td>\n",
       "      <td>0.001145</td>\n",
       "      <td>0.000000</td>\n",
       "      <td>0.001145</td>\n",
       "      <td>0.000000</td>\n",
       "      <td>0.000000</td>\n",
       "    </tr>\n",
       "    <tr>\n",
       "      <th>4</th>\n",
       "      <td>E01020676</td>\n",
       "      <td>1514</td>\n",
       "      <td>0.982827</td>\n",
       "      <td>0.003963</td>\n",
       "      <td>0.003303</td>\n",
       "      <td>0.0</td>\n",
       "      <td>0.000661</td>\n",
       "      <td>0.0</td>\n",
       "      <td>0.001982</td>\n",
       "      <td>0.000661</td>\n",
       "      <td>0.000000</td>\n",
       "      <td>0.000661</td>\n",
       "      <td>0.003963</td>\n",
       "      <td>0.0</td>\n",
       "      <td>0.000000</td>\n",
       "      <td>0.000000</td>\n",
       "      <td>0.001982</td>\n",
       "      <td>0.000000</td>\n",
       "      <td>0.000000</td>\n",
       "    </tr>\n",
       "  </tbody>\n",
       "</table>\n",
       "</div>"
      ],
      "text/plain": [
       "   LSOA Code  All categories: Ethnic group   WBR Proportion  WIR Proportion  \\\n",
       "0  E01020634                           1563        0.983365        0.001919   \n",
       "1  E01020635                           1379        0.982596        0.002175   \n",
       "2  E01020636                           1698        0.978799        0.002356   \n",
       "3  E01020654                           1746        0.979954        0.002291   \n",
       "4  E01020676                           1514        0.982827        0.003963   \n",
       "\n",
       "   WAO Proportion  ABD Proportion  ACN Proportion  AIN Proportion  \\\n",
       "0        0.004479             0.0        0.000640             0.0   \n",
       "1        0.002175             0.0        0.005076             0.0   \n",
       "2        0.005889             0.0        0.000000             0.0   \n",
       "3        0.008018             0.0        0.002864             0.0   \n",
       "4        0.003303             0.0        0.000661             0.0   \n",
       "\n",
       "   APK Proportion  BAF Proportion  BCA Proportion  OXX Proportion  \\\n",
       "0        0.000000        0.001280        0.000000        0.000000   \n",
       "1        0.000000        0.000000        0.000000        0.000000   \n",
       "2        0.000000        0.000589        0.000589        0.000000   \n",
       "3        0.000000        0.001145        0.000000        0.000000   \n",
       "4        0.001982        0.000661        0.000000        0.000661   \n",
       "\n",
       "   MIX Proportion  BBO Proportion  MEA Proportion  SAO Proportion  \\\n",
       "0        0.004479             0.0        0.000000        0.000000   \n",
       "1        0.006526             0.0        0.000000        0.000000   \n",
       "2        0.005889             0.0        0.001767        0.002356   \n",
       "3        0.003436             0.0        0.001145        0.000000   \n",
       "4        0.003963             0.0        0.000000        0.000000   \n",
       "\n",
       "   EAO Proportion  CSA Proportion  AAO Proportion  \n",
       "0        0.000640        0.002559        0.000000  \n",
       "1        0.000725        0.000000        0.000725  \n",
       "2        0.000589        0.000000        0.000589  \n",
       "3        0.001145        0.000000        0.000000  \n",
       "4        0.001982        0.000000        0.000000  "
      ]
     },
     "execution_count": 133,
     "metadata": {},
     "output_type": "execute_result"
    }
   ],
   "source": [
    "# Checking the first 5 rows\n",
    "df_ethnicity.head()"
   ]
  },
  {
   "cell_type": "markdown",
   "id": "fbeab4bc",
   "metadata": {},
   "source": [
    "Check if this is corect:"
   ]
  },
  {
   "cell_type": "markdown",
   "id": "8d8ea93d",
   "metadata": {
    "scrolled": true
   },
   "source": [
    "Now let's check for duplicates and nulls:"
   ]
  },
  {
   "cell_type": "code",
   "execution_count": 134,
   "id": "78f7a0e5",
   "metadata": {},
   "outputs": [
    {
     "data": {
      "text/plain": [
       "0"
      ]
     },
     "execution_count": 134,
     "metadata": {},
     "output_type": "execute_result"
    }
   ],
   "source": [
    "# Check for duplicates:\n",
    "df_ethnicity.duplicated().sum()"
   ]
  },
  {
   "cell_type": "code",
   "execution_count": 135,
   "id": "36e485b8",
   "metadata": {},
   "outputs": [
    {
     "data": {
      "text/plain": [
       "LSOA Code                        0\n",
       "All categories: Ethnic group     0\n",
       "WBR Proportion                   0\n",
       "WIR Proportion                   0\n",
       "WAO Proportion                   0\n",
       "ABD Proportion                   0\n",
       "ACN Proportion                   0\n",
       "AIN Proportion                   0\n",
       "APK Proportion                   0\n",
       "BAF Proportion                   0\n",
       "BCA Proportion                   0\n",
       "OXX Proportion                   0\n",
       "MIX Proportion                   0\n",
       "BBO Proportion                   0\n",
       "MEA Proportion                   0\n",
       "SAO Proportion                   0\n",
       "EAO Proportion                   0\n",
       "CSA Proportion                   0\n",
       "AAO Proportion                   0\n",
       "dtype: int64"
      ]
     },
     "execution_count": 135,
     "metadata": {},
     "output_type": "execute_result"
    }
   ],
   "source": [
    "# Checking for nulls\n",
    "df_ethnicity.isnull().sum()"
   ]
  },
  {
   "cell_type": "markdown",
   "id": "fd30c132",
   "metadata": {},
   "source": [
    "Now we can drop the first column ('All categories') as it is duplicative of the Population column we have in the main dataset:"
   ]
  },
  {
   "cell_type": "code",
   "execution_count": 136,
   "id": "54094366",
   "metadata": {},
   "outputs": [],
   "source": [
    "# Dropping the column\n",
    "df_ethnicity.drop(df_ethnicity.iloc[:, [1]], axis=1, inplace=True)"
   ]
  },
  {
   "cell_type": "markdown",
   "id": "91b3e9a3",
   "metadata": {},
   "source": [
    "While this looks good, we still have too many columns. We can check the distribution of the columns to see which ones we may need to pay more attention to:"
   ]
  },
  {
   "cell_type": "code",
   "execution_count": 137,
   "id": "39fd1775",
   "metadata": {},
   "outputs": [
    {
     "data": {
      "text/html": [
       "<div>\n",
       "<style scoped>\n",
       "    .dataframe tbody tr th:only-of-type {\n",
       "        vertical-align: middle;\n",
       "    }\n",
       "\n",
       "    .dataframe tbody tr th {\n",
       "        vertical-align: top;\n",
       "    }\n",
       "\n",
       "    .dataframe thead th {\n",
       "        text-align: right;\n",
       "    }\n",
       "</style>\n",
       "<table border=\"1\" class=\"dataframe\">\n",
       "  <thead>\n",
       "    <tr style=\"text-align: right;\">\n",
       "      <th></th>\n",
       "      <th>WBR Proportion</th>\n",
       "      <th>WIR Proportion</th>\n",
       "      <th>WAO Proportion</th>\n",
       "      <th>ABD Proportion</th>\n",
       "      <th>ACN Proportion</th>\n",
       "      <th>AIN Proportion</th>\n",
       "      <th>APK Proportion</th>\n",
       "      <th>BAF Proportion</th>\n",
       "      <th>BCA Proportion</th>\n",
       "      <th>OXX Proportion</th>\n",
       "      <th>MIX Proportion</th>\n",
       "      <th>BBO Proportion</th>\n",
       "      <th>MEA Proportion</th>\n",
       "      <th>SAO Proportion</th>\n",
       "      <th>EAO Proportion</th>\n",
       "      <th>CSA Proportion</th>\n",
       "      <th>AAO Proportion</th>\n",
       "    </tr>\n",
       "  </thead>\n",
       "  <tbody>\n",
       "    <tr>\n",
       "      <th>count</th>\n",
       "      <td>34753.000000</td>\n",
       "      <td>34753.000000</td>\n",
       "      <td>34753.000000</td>\n",
       "      <td>34753.000000</td>\n",
       "      <td>34753.000000</td>\n",
       "      <td>34753.000000</td>\n",
       "      <td>34753.000000</td>\n",
       "      <td>34753.000000</td>\n",
       "      <td>34753.000000</td>\n",
       "      <td>34753.000000</td>\n",
       "      <td>34753.000000</td>\n",
       "      <td>34753.000000</td>\n",
       "      <td>34753.000000</td>\n",
       "      <td>34753.000000</td>\n",
       "      <td>34753.000000</td>\n",
       "      <td>34753.000000</td>\n",
       "      <td>34753.000000</td>\n",
       "    </tr>\n",
       "    <tr>\n",
       "      <th>mean</th>\n",
       "      <td>0.815168</td>\n",
       "      <td>0.009427</td>\n",
       "      <td>0.034828</td>\n",
       "      <td>0.007367</td>\n",
       "      <td>0.006730</td>\n",
       "      <td>0.024220</td>\n",
       "      <td>0.018406</td>\n",
       "      <td>0.018999</td>\n",
       "      <td>0.010280</td>\n",
       "      <td>0.002898</td>\n",
       "      <td>0.024499</td>\n",
       "      <td>0.003314</td>\n",
       "      <td>0.008508</td>\n",
       "      <td>0.007048</td>\n",
       "      <td>0.002148</td>\n",
       "      <td>0.001440</td>\n",
       "      <td>0.002258</td>\n",
       "    </tr>\n",
       "    <tr>\n",
       "      <th>std</th>\n",
       "      <td>0.217919</td>\n",
       "      <td>0.009234</td>\n",
       "      <td>0.041775</td>\n",
       "      <td>0.031981</td>\n",
       "      <td>0.012239</td>\n",
       "      <td>0.058505</td>\n",
       "      <td>0.061726</td>\n",
       "      <td>0.038879</td>\n",
       "      <td>0.023200</td>\n",
       "      <td>0.005582</td>\n",
       "      <td>0.021772</td>\n",
       "      <td>0.008085</td>\n",
       "      <td>0.018387</td>\n",
       "      <td>0.015628</td>\n",
       "      <td>0.005139</td>\n",
       "      <td>0.003731</td>\n",
       "      <td>0.004776</td>\n",
       "    </tr>\n",
       "    <tr>\n",
       "      <th>min</th>\n",
       "      <td>0.009264</td>\n",
       "      <td>0.000000</td>\n",
       "      <td>0.000000</td>\n",
       "      <td>0.000000</td>\n",
       "      <td>0.000000</td>\n",
       "      <td>0.000000</td>\n",
       "      <td>0.000000</td>\n",
       "      <td>0.000000</td>\n",
       "      <td>0.000000</td>\n",
       "      <td>0.000000</td>\n",
       "      <td>0.000000</td>\n",
       "      <td>0.000000</td>\n",
       "      <td>0.000000</td>\n",
       "      <td>0.000000</td>\n",
       "      <td>0.000000</td>\n",
       "      <td>0.000000</td>\n",
       "      <td>0.000000</td>\n",
       "    </tr>\n",
       "    <tr>\n",
       "      <th>25%</th>\n",
       "      <td>0.767776</td>\n",
       "      <td>0.003506</td>\n",
       "      <td>0.009818</td>\n",
       "      <td>0.000000</td>\n",
       "      <td>0.001110</td>\n",
       "      <td>0.001938</td>\n",
       "      <td>0.000000</td>\n",
       "      <td>0.001325</td>\n",
       "      <td>0.000567</td>\n",
       "      <td>0.000000</td>\n",
       "      <td>0.009044</td>\n",
       "      <td>0.000000</td>\n",
       "      <td>0.000561</td>\n",
       "      <td>0.000592</td>\n",
       "      <td>0.000000</td>\n",
       "      <td>0.000000</td>\n",
       "      <td>0.000000</td>\n",
       "    </tr>\n",
       "    <tr>\n",
       "      <th>50%</th>\n",
       "      <td>0.915483</td>\n",
       "      <td>0.006527</td>\n",
       "      <td>0.018987</td>\n",
       "      <td>0.000610</td>\n",
       "      <td>0.003322</td>\n",
       "      <td>0.006609</td>\n",
       "      <td>0.001905</td>\n",
       "      <td>0.004665</td>\n",
       "      <td>0.001860</td>\n",
       "      <td>0.001213</td>\n",
       "      <td>0.016440</td>\n",
       "      <td>0.000565</td>\n",
       "      <td>0.002039</td>\n",
       "      <td>0.002183</td>\n",
       "      <td>0.000700</td>\n",
       "      <td>0.000000</td>\n",
       "      <td>0.000614</td>\n",
       "    </tr>\n",
       "    <tr>\n",
       "      <th>75%</th>\n",
       "      <td>0.957803</td>\n",
       "      <td>0.011917</td>\n",
       "      <td>0.041611</td>\n",
       "      <td>0.004101</td>\n",
       "      <td>0.007740</td>\n",
       "      <td>0.020874</td>\n",
       "      <td>0.008929</td>\n",
       "      <td>0.016690</td>\n",
       "      <td>0.007634</td>\n",
       "      <td>0.003421</td>\n",
       "      <td>0.033016</td>\n",
       "      <td>0.002443</td>\n",
       "      <td>0.007955</td>\n",
       "      <td>0.006811</td>\n",
       "      <td>0.002138</td>\n",
       "      <td>0.001236</td>\n",
       "      <td>0.002486</td>\n",
       "    </tr>\n",
       "    <tr>\n",
       "      <th>max</th>\n",
       "      <td>0.997189</td>\n",
       "      <td>0.112187</td>\n",
       "      <td>0.393672</td>\n",
       "      <td>0.903465</td>\n",
       "      <td>0.327745</td>\n",
       "      <td>0.855960</td>\n",
       "      <td>0.853187</td>\n",
       "      <td>0.489696</td>\n",
       "      <td>0.279257</td>\n",
       "      <td>0.282663</td>\n",
       "      <td>0.185548</td>\n",
       "      <td>0.106232</td>\n",
       "      <td>0.398954</td>\n",
       "      <td>0.307778</td>\n",
       "      <td>0.263190</td>\n",
       "      <td>0.081059</td>\n",
       "      <td>0.076923</td>\n",
       "    </tr>\n",
       "  </tbody>\n",
       "</table>\n",
       "</div>"
      ],
      "text/plain": [
       "       WBR Proportion  WIR Proportion  WAO Proportion  ABD Proportion  \\\n",
       "count    34753.000000    34753.000000    34753.000000    34753.000000   \n",
       "mean         0.815168        0.009427        0.034828        0.007367   \n",
       "std          0.217919        0.009234        0.041775        0.031981   \n",
       "min          0.009264        0.000000        0.000000        0.000000   \n",
       "25%          0.767776        0.003506        0.009818        0.000000   \n",
       "50%          0.915483        0.006527        0.018987        0.000610   \n",
       "75%          0.957803        0.011917        0.041611        0.004101   \n",
       "max          0.997189        0.112187        0.393672        0.903465   \n",
       "\n",
       "       ACN Proportion  AIN Proportion  APK Proportion  BAF Proportion  \\\n",
       "count    34753.000000    34753.000000    34753.000000    34753.000000   \n",
       "mean         0.006730        0.024220        0.018406        0.018999   \n",
       "std          0.012239        0.058505        0.061726        0.038879   \n",
       "min          0.000000        0.000000        0.000000        0.000000   \n",
       "25%          0.001110        0.001938        0.000000        0.001325   \n",
       "50%          0.003322        0.006609        0.001905        0.004665   \n",
       "75%          0.007740        0.020874        0.008929        0.016690   \n",
       "max          0.327745        0.855960        0.853187        0.489696   \n",
       "\n",
       "       BCA Proportion  OXX Proportion  MIX Proportion  BBO Proportion  \\\n",
       "count    34753.000000    34753.000000    34753.000000    34753.000000   \n",
       "mean         0.010280        0.002898        0.024499        0.003314   \n",
       "std          0.023200        0.005582        0.021772        0.008085   \n",
       "min          0.000000        0.000000        0.000000        0.000000   \n",
       "25%          0.000567        0.000000        0.009044        0.000000   \n",
       "50%          0.001860        0.001213        0.016440        0.000565   \n",
       "75%          0.007634        0.003421        0.033016        0.002443   \n",
       "max          0.279257        0.282663        0.185548        0.106232   \n",
       "\n",
       "       MEA Proportion  SAO Proportion  EAO Proportion  CSA Proportion  \\\n",
       "count    34753.000000    34753.000000    34753.000000    34753.000000   \n",
       "mean         0.008508        0.007048        0.002148        0.001440   \n",
       "std          0.018387        0.015628        0.005139        0.003731   \n",
       "min          0.000000        0.000000        0.000000        0.000000   \n",
       "25%          0.000561        0.000592        0.000000        0.000000   \n",
       "50%          0.002039        0.002183        0.000700        0.000000   \n",
       "75%          0.007955        0.006811        0.002138        0.001236   \n",
       "max          0.398954        0.307778        0.263190        0.081059   \n",
       "\n",
       "       AAO Proportion  \n",
       "count    34753.000000  \n",
       "mean         0.002258  \n",
       "std          0.004776  \n",
       "min          0.000000  \n",
       "25%          0.000000  \n",
       "50%          0.000614  \n",
       "75%          0.002486  \n",
       "max          0.076923  "
      ]
     },
     "execution_count": 137,
     "metadata": {},
     "output_type": "execute_result"
    }
   ],
   "source": [
    "# Looking at some basic stats\n",
    "df_ethnicity.describe()"
   ]
  },
  {
   "cell_type": "markdown",
   "id": "c5b3813c",
   "metadata": {},
   "source": [
    "Looks like standard deviations of some columns are pretty small which may pose a challenge for us. Let's check the distribution:"
   ]
  },
  {
   "cell_type": "code",
   "execution_count": 138,
   "id": "c1379ce2",
   "metadata": {},
   "outputs": [],
   "source": [
    "# Selecing numeric columns only\n",
    "df_ethnicity_numeric = df_ethnicity[df_ethnicity.select_dtypes(\"number\").columns].copy()"
   ]
  },
  {
   "cell_type": "code",
   "execution_count": 139,
   "id": "4b6bccf5",
   "metadata": {
    "code_folding": []
   },
   "outputs": [
    {
     "data": {
      "image/png": "[encoded data removed]",
      "text/plain": [
       "<Figure size 360x360 with 1 Axes>"
      ]
     },
     "metadata": {
      "needs_background": "light"
     },
     "output_type": "display_data"
    },
    {
     "data": {
      "image/png": "[encoded data removed]",
      "text/plain": [
       "<Figure size 360x360 with 1 Axes>"
      ]
     },
     "metadata": {
      "needs_background": "light"
     },
     "output_type": "display_data"
    },
    {
     "data": {
      "image/png": "[encoded data removed]",
      "text/plain": [
       "<Figure size 360x360 with 1 Axes>"
      ]
     },
     "metadata": {
      "needs_background": "light"
     },
     "output_type": "display_data"
    },
    {
     "data": {
      "image/png": "[encoded data removed]",
      "text/plain": [
       "<Figure size 360x360 with 1 Axes>"
      ]
     },
     "metadata": {
      "needs_background": "light"
     },
     "output_type": "display_data"
    },
    {
     "data": {
      "image/png": "[encoded data removed]",
      "text/plain": [
       "<Figure size 360x360 with 1 Axes>"
      ]
     },
     "metadata": {
      "needs_background": "light"
     },
     "output_type": "display_data"
    },
    {
     "data": {
      "image/png": "[encoded data removed]",
      "text/plain": [
       "<Figure size 360x360 with 1 Axes>"
      ]
     },
     "metadata": {
      "needs_background": "light"
     },
     "output_type": "display_data"
    },
    {
     "data": {
      "image/png": "[encoded data removed]",
      "text/plain": [
       "<Figure size 360x360 with 1 Axes>"
      ]
     },
     "metadata": {
      "needs_background": "light"
     },
     "output_type": "display_data"
    },
    {
     "data": {
      "image/png": "[encoded data removed]",
      "text/plain": [
       "<Figure size 360x360 with 1 Axes>"
      ]
     },
     "metadata": {
      "needs_background": "light"
     },
     "output_type": "display_data"
    },
    {
     "data": {
      "image/png": "[encoded data removed]",
      "text/plain": [
       "<Figure size 360x360 with 1 Axes>"
      ]
     },
     "metadata": {
      "needs_background": "light"
     },
     "output_type": "display_data"
    },
    {
     "data": {
      "image/png": "[encoded data removed]",
      "text/plain": [
       "<Figure size 360x360 with 1 Axes>"
      ]
     },
     "metadata": {
      "needs_background": "light"
     },
     "output_type": "display_data"
    },
    {
     "data": {
      "image/png": "[encoded data removed]",
      "text/plain": [
       "<Figure size 360x360 with 1 Axes>"
      ]
     },
     "metadata": {
      "needs_background": "light"
     },
     "output_type": "display_data"
    },
    {
     "data": {
      "image/png": "[encoded data removed]",
      "text/plain": [
       "<Figure size 360x360 with 1 Axes>"
      ]
     },
     "metadata": {
      "needs_background": "light"
     },
     "output_type": "display_data"
    },
    {
     "data": {
      "image/png": "[encoded data removed]",
      "text/plain": [
       "<Figure size 360x360 with 1 Axes>"
      ]
     },
     "metadata": {
      "needs_background": "light"
     },
     "output_type": "display_data"
    },
    {
     "data": {
      "image/png": "[encoded data removed]",
      "text/plain": [
       "<Figure size 360x360 with 1 Axes>"
      ]
     },
     "metadata": {
      "needs_background": "light"
     },
     "output_type": "display_data"
    },
    {
     "data": {
      "image/png": "[encoded data removed]",
      "text/plain": [
       "<Figure size 360x360 with 1 Axes>"
      ]
     },
     "metadata": {
      "needs_background": "light"
     },
     "output_type": "display_data"
    },
    {
     "data": {
      "image/png": "[encoded data removed]",
      "text/plain": [
       "<Figure size 360x360 with 1 Axes>"
      ]
     },
     "metadata": {
      "needs_background": "light"
     },
     "output_type": "display_data"
    },
    {
     "data": {
      "image/png": "[encoded data removed]",
      "text/plain": [
       "<Figure size 360x360 with 1 Axes>"
      ]
     },
     "metadata": {
      "needs_background": "light"
     },
     "output_type": "display_data"
    }
   ],
   "source": [
    "# Looking at histograms for each numeric column:\n",
    "for column in df_ethnicity_numeric.columns:\n",
    "    plt.figure(figsize=(5, 5))\n",
    "    sns.histplot(x=column, data=df_ethnicity)\n",
    "    plt.title(f\"{column} Distribution\")\n",
    "    plt.show()"
   ]
  },
  {
   "cell_type": "markdown",
   "id": "411f5f90",
   "metadata": {},
   "source": [
    "We notice that most distributions are not normal and resemble a log function; something to keep in mind for feature engineering. There are also some columns that have very little variation.\n",
    "\n",
    "We decided to use variance thresholder in order to identify which columns have so little variance that they will have no impact on our dependent variable, and will therefore need to be merged with other columns."
   ]
  },
  {
   "cell_type": "code",
   "execution_count": 140,
   "id": "90d203b5",
   "metadata": {},
   "outputs": [
    {
     "data": {
      "text/plain": [
       "VarianceThreshold(threshold=0.0004)"
      ]
     },
     "execution_count": 140,
     "metadata": {},
     "output_type": "execute_result"
    }
   ],
   "source": [
    "# Import the VarianceThresholder\n",
    "from sklearn.feature_selection import VarianceThreshold\n",
    "\n",
    "# Instantiate the VarianceThresholder, we need to set a threshold variance. We're setting it as 0.0004\n",
    "my_vt = VarianceThreshold(threshold=0.0004)\n",
    "\n",
    "# Fit to the data and calculate the variances per column\n",
    "my_vt.fit(df_ethnicity_numeric)"
   ]
  },
  {
   "cell_type": "markdown",
   "id": "c7ed319c",
   "metadata": {},
   "source": [
    "From here we can plot variances in a graph:"
   ]
  },
  {
   "cell_type": "code",
   "execution_count": 141,
   "id": "d7a7f0fe",
   "metadata": {},
   "outputs": [
    {
     "data": {
      "image/png": "[encoded data removed]",
      "text/plain": [
       "<Figure size 1440x720 with 1 Axes>"
      ]
     },
     "metadata": {
      "needs_background": "light"
     },
     "output_type": "display_data"
    }
   ],
   "source": [
    "# Extract the variances per column\n",
    "column_variances = my_vt.variances_\n",
    "\n",
    "# Plot with the threshold\n",
    "plt.figure(figsize=(20,10))\n",
    "plt.barh(np.flip(df_ethnicity_numeric.columns), np.flip(column_variances))\n",
    "plt.xlabel('Variance')\n",
    "plt.ylabel('Feature')\n",
    "plt.axvline(0.0004, color='red', linestyle='--')\n",
    "plt.title('Variances per Column', fontsize=15)\n",
    "plt.show()"
   ]
  },
  {
   "cell_type": "markdown",
   "id": "6f25c402",
   "metadata": {},
   "source": [
    "We can see that many columns do not make the cut. Let's see what we're left with:"
   ]
  },
  {
   "cell_type": "code",
   "execution_count": 142,
   "id": "d497556c",
   "metadata": {},
   "outputs": [
    {
     "data": {
      "text/plain": [
       "array([ True, False,  True,  True, False,  True,  True,  True,  True,\n",
       "       False,  True, False, False, False, False, False, False])"
      ]
     },
     "execution_count": 142,
     "metadata": {},
     "output_type": "execute_result"
    }
   ],
   "source": [
    "# Get the columns which are retained, this returns an array of boolean values\n",
    "my_vt.get_support()"
   ]
  },
  {
   "cell_type": "code",
   "execution_count": 143,
   "id": "8376e561",
   "metadata": {},
   "outputs": [
    {
     "data": {
      "text/plain": [
       "Index(['WBR Proportion', 'WAO Proportion', 'ABD Proportion', 'AIN Proportion',\n",
       "       'APK Proportion', 'BAF Proportion', 'BCA Proportion', 'MIX Proportion'],\n",
       "      dtype='object')"
      ]
     },
     "execution_count": 143,
     "metadata": {},
     "output_type": "execute_result"
    }
   ],
   "source": [
    "# Let's see the names of retained columns \n",
    "df_ethnicity_numeric.columns[my_vt.get_support()]"
   ]
  },
  {
   "cell_type": "markdown",
   "id": "4f9d73c6",
   "metadata": {},
   "source": [
    "This means that we will need to merge some columns that are outside of this line:"
   ]
  },
  {
   "cell_type": "code",
   "execution_count": 144,
   "id": "83efb031",
   "metadata": {},
   "outputs": [],
   "source": [
    "# Merging columns\n",
    "df_ethnicity['WAO Proportion'] = df_ethnicity['WIR Proportion'] + df_ethnicity['WAO Proportion']"
   ]
  },
  {
   "cell_type": "code",
   "execution_count": 145,
   "id": "7d20cb28",
   "metadata": {},
   "outputs": [],
   "source": [
    "# Merging columns\n",
    "df_ethnicity.drop(axis=0, columns='WIR Proportion', inplace=True)"
   ]
  },
  {
   "cell_type": "code",
   "execution_count": 146,
   "id": "46e736b6",
   "metadata": {},
   "outputs": [],
   "source": [
    "# Merging columns\n",
    "df_ethnicity['AAB Proportion'] = df_ethnicity['ACN Proportion'] + df_ethnicity['EAO Proportion'] + df_ethnicity['AAO Proportion'] + df_ethnicity['SAO Proportion']"
   ]
  },
  {
   "cell_type": "code",
   "execution_count": 147,
   "id": "a4f67c63",
   "metadata": {},
   "outputs": [],
   "source": [
    "# Merging columns\n",
    "df_ethnicity.drop(axis=0, columns='ACN Proportion', inplace=True)"
   ]
  },
  {
   "cell_type": "code",
   "execution_count": 148,
   "id": "0391db83",
   "metadata": {},
   "outputs": [],
   "source": [
    "# Merging columns\n",
    "df_ethnicity.drop(axis=0, columns='EAO Proportion', inplace=True)"
   ]
  },
  {
   "cell_type": "code",
   "execution_count": 149,
   "id": "1800d24d",
   "metadata": {},
   "outputs": [],
   "source": [
    "# Merging columns\n",
    "df_ethnicity.drop(axis=0, columns='AAO Proportion', inplace=True)"
   ]
  },
  {
   "cell_type": "code",
   "execution_count": 150,
   "id": "31ba202a",
   "metadata": {},
   "outputs": [],
   "source": [
    "# Merging columns\n",
    "df_ethnicity.drop(axis=0, columns='SAO Proportion', inplace=True)"
   ]
  },
  {
   "cell_type": "code",
   "execution_count": 151,
   "id": "eb72703c",
   "metadata": {},
   "outputs": [],
   "source": [
    "# Merging columns\n",
    "df_ethnicity['OXX Proportion'] = df_ethnicity['OXX Proportion'] + df_ethnicity['MEA Proportion'] + df_ethnicity['CSA Proportion'] + df_ethnicity['BBO Proportion']"
   ]
  },
  {
   "cell_type": "markdown",
   "id": "875f81d0",
   "metadata": {},
   "source": [
    "Now we will drop some old columns that were merged:"
   ]
  },
  {
   "cell_type": "code",
   "execution_count": 152,
   "id": "280ac4a8",
   "metadata": {},
   "outputs": [],
   "source": [
    "# Dropping merged columns\n",
    "df_ethnicity.drop(axis=0, columns='MEA Proportion', inplace=True)"
   ]
  },
  {
   "cell_type": "code",
   "execution_count": 153,
   "id": "7f62b6f2",
   "metadata": {},
   "outputs": [],
   "source": [
    "# Dropping merged columns\n",
    "df_ethnicity.drop(axis=0, columns='CSA Proportion', inplace=True)"
   ]
  },
  {
   "cell_type": "code",
   "execution_count": 154,
   "id": "69a8be0b",
   "metadata": {},
   "outputs": [],
   "source": [
    "# Dropping merged columns\n",
    "df_ethnicity.drop(axis=0, columns='BBO Proportion', inplace=True)"
   ]
  },
  {
   "cell_type": "markdown",
   "id": "984861dc",
   "metadata": {},
   "source": [
    "Let's take a look now:"
   ]
  },
  {
   "cell_type": "code",
   "execution_count": 155,
   "id": "a047b451",
   "metadata": {},
   "outputs": [],
   "source": [
    "# Selecing numeric columns only in the new dataset\n",
    "df_ethnicity_numeric = df_ethnicity[df_ethnicity.select_dtypes(\"number\").columns].copy()"
   ]
  },
  {
   "cell_type": "code",
   "execution_count": 156,
   "id": "f903b378",
   "metadata": {},
   "outputs": [
    {
     "data": {
      "text/plain": [
       "VarianceThreshold(threshold=0.0004)"
      ]
     },
     "execution_count": 156,
     "metadata": {},
     "output_type": "execute_result"
    }
   ],
   "source": [
    "# Instantiate the VarianceThresholder, we need to set a threshold variance\n",
    "my_vt = VarianceThreshold(threshold=0.0004)\n",
    "\n",
    "# Fit to the data and calculate the variances per column\n",
    "my_vt.fit(df_ethnicity_numeric)"
   ]
  },
  {
   "cell_type": "code",
   "execution_count": 157,
   "id": "013a0731",
   "metadata": {},
   "outputs": [
    {
     "data": {
      "image/png": "[encoded data removed]",
      "text/plain": [
       "<Figure size 1440x720 with 1 Axes>"
      ]
     },
     "metadata": {
      "needs_background": "light"
     },
     "output_type": "display_data"
    }
   ],
   "source": [
    "# Extract the variances per column\n",
    "column_variances = my_vt.variances_\n",
    "\n",
    "# Plot with the threshold\n",
    "plt.figure(figsize=(20,10))\n",
    "plt.barh(np.flip(df_ethnicity_numeric.columns), np.flip(column_variances))\n",
    "plt.xlabel('Variance')\n",
    "plt.ylabel('Feature')\n",
    "plt.axvline(0.0004, color='red', linestyle='--')\n",
    "plt.title('Variances per Column', fontsize=15)\n",
    "plt.show()"
   ]
  },
  {
   "cell_type": "markdown",
   "id": "6a04cc60",
   "metadata": {},
   "source": [
    "It is a bit hard to tell on the graph so let's look at the get_support feature of Threshold Variance:"
   ]
  },
  {
   "cell_type": "code",
   "execution_count": 158,
   "id": "50c41db1",
   "metadata": {},
   "outputs": [
    {
     "data": {
      "text/plain": [
       "array([ True,  True,  True,  True,  True,  True,  True,  True,  True,\n",
       "        True])"
      ]
     },
     "execution_count": 158,
     "metadata": {},
     "output_type": "execute_result"
    }
   ],
   "source": [
    "# Get the columns which are retained\n",
    "my_vt.get_support()"
   ]
  },
  {
   "cell_type": "markdown",
   "id": "20f33d97",
   "metadata": {},
   "source": [
    "This is great! Looks like all new columns are retained. Here's the legend for the final abbreviations:"
   ]
  },
  {
   "cell_type": "markdown",
   "id": "028f7645",
   "metadata": {},
   "source": [
    "Abbreviations:\n",
    "    \n",
    "* **WBR** - White: British (including English/Welsh/Scottish/Northern Irish)\n",
    "* **WAO** - White: Any Other (including Irish)\n",
    "* **ABD** - Asian/Asian British: Bangladeshi\n",
    "* **AIN** - Asian/Asian British: Indian\n",
    "* **APK** - Asian/Asian British: Pakistani\n",
    "* **BAF** - Black/Black British: African\n",
    "* **BCA** - Black/Black British: Caribbean\n",
    "* **OXX** - Any Other Ethnic Group (All Other Ethnicities, Middle Eastern, Central & Sout America, etc)\n",
    "* **MIX** - Mixed ethnicities\n",
    "* **AAB** - Other Asian (East Asian, Chinese, etc.)"
   ]
  },
  {
   "cell_type": "markdown",
   "id": "a7f75088",
   "metadata": {},
   "source": [
    "Now we're ready to merge with our main dataset:"
   ]
  },
  {
   "cell_type": "code",
   "execution_count": 159,
   "id": "2ece0cbb",
   "metadata": {},
   "outputs": [],
   "source": [
    "# Merging on neighborhood code\n",
    "df = df.merge(df_ethnicity, how='outer', left_on='LSOA code', right_on='LSOA Code')"
   ]
  },
  {
   "cell_type": "markdown",
   "id": "ed3200fe",
   "metadata": {},
   "source": [
    "Let's see if it worked:"
   ]
  },
  {
   "cell_type": "code",
   "execution_count": 160,
   "id": "205ce9bf",
   "metadata": {},
   "outputs": [
    {
     "data": {
      "text/html": [
       "<div>\n",
       "<style scoped>\n",
       "    .dataframe tbody tr th:only-of-type {\n",
       "        vertical-align: middle;\n",
       "    }\n",
       "\n",
       "    .dataframe tbody tr th {\n",
       "        vertical-align: top;\n",
       "    }\n",
       "\n",
       "    .dataframe thead th {\n",
       "        text-align: right;\n",
       "    }\n",
       "</style>\n",
       "<table border=\"1\" class=\"dataframe\">\n",
       "  <thead>\n",
       "    <tr style=\"text-align: right;\">\n",
       "      <th></th>\n",
       "      <th>Month</th>\n",
       "      <th>Police_Jurisdiction</th>\n",
       "      <th>Longitude</th>\n",
       "      <th>Latitude</th>\n",
       "      <th>LSOA code</th>\n",
       "      <th>LSOA name</th>\n",
       "      <th>Crime type</th>\n",
       "      <th>Last outcome category</th>\n",
       "      <th>Population</th>\n",
       "      <th>Proportion_Males</th>\n",
       "      <th>...</th>\n",
       "      <th>WBR Proportion</th>\n",
       "      <th>WAO Proportion</th>\n",
       "      <th>ABD Proportion</th>\n",
       "      <th>AIN Proportion</th>\n",
       "      <th>APK Proportion</th>\n",
       "      <th>BAF Proportion</th>\n",
       "      <th>BCA Proportion</th>\n",
       "      <th>OXX Proportion</th>\n",
       "      <th>MIX Proportion</th>\n",
       "      <th>AAB Proportion</th>\n",
       "    </tr>\n",
       "  </thead>\n",
       "  <tbody>\n",
       "    <tr>\n",
       "      <th>0</th>\n",
       "      <td>1.0</td>\n",
       "      <td>Avon and Somerset Constabulary</td>\n",
       "      <td>-2.515072</td>\n",
       "      <td>51.419357</td>\n",
       "      <td>E01014399</td>\n",
       "      <td>Bath and North East Somerset 001A</td>\n",
       "      <td>Burglary</td>\n",
       "      <td>Status update unavailable</td>\n",
       "      <td>2161.0</td>\n",
       "      <td>0.467376</td>\n",
       "      <td>...</td>\n",
       "      <td>0.955665</td>\n",
       "      <td>0.014778</td>\n",
       "      <td>0.0</td>\n",
       "      <td>0.001847</td>\n",
       "      <td>0.0</td>\n",
       "      <td>0.00431</td>\n",
       "      <td>0.000616</td>\n",
       "      <td>0.001232</td>\n",
       "      <td>0.01601</td>\n",
       "      <td>0.005542</td>\n",
       "    </tr>\n",
       "    <tr>\n",
       "      <th>1</th>\n",
       "      <td>1.0</td>\n",
       "      <td>Avon and Somerset Constabulary</td>\n",
       "      <td>-2.494870</td>\n",
       "      <td>51.422276</td>\n",
       "      <td>E01014399</td>\n",
       "      <td>Bath and North East Somerset 001A</td>\n",
       "      <td>Criminal damage and arson</td>\n",
       "      <td>Status update unavailable</td>\n",
       "      <td>2161.0</td>\n",
       "      <td>0.467376</td>\n",
       "      <td>...</td>\n",
       "      <td>0.955665</td>\n",
       "      <td>0.014778</td>\n",
       "      <td>0.0</td>\n",
       "      <td>0.001847</td>\n",
       "      <td>0.0</td>\n",
       "      <td>0.00431</td>\n",
       "      <td>0.000616</td>\n",
       "      <td>0.001232</td>\n",
       "      <td>0.01601</td>\n",
       "      <td>0.005542</td>\n",
       "    </tr>\n",
       "    <tr>\n",
       "      <th>2</th>\n",
       "      <td>1.0</td>\n",
       "      <td>Avon and Somerset Constabulary</td>\n",
       "      <td>-2.494870</td>\n",
       "      <td>51.422276</td>\n",
       "      <td>E01014399</td>\n",
       "      <td>Bath and North East Somerset 001A</td>\n",
       "      <td>Criminal damage and arson</td>\n",
       "      <td>Status update unavailable</td>\n",
       "      <td>2161.0</td>\n",
       "      <td>0.467376</td>\n",
       "      <td>...</td>\n",
       "      <td>0.955665</td>\n",
       "      <td>0.014778</td>\n",
       "      <td>0.0</td>\n",
       "      <td>0.001847</td>\n",
       "      <td>0.0</td>\n",
       "      <td>0.00431</td>\n",
       "      <td>0.000616</td>\n",
       "      <td>0.001232</td>\n",
       "      <td>0.01601</td>\n",
       "      <td>0.005542</td>\n",
       "    </tr>\n",
       "    <tr>\n",
       "      <th>3</th>\n",
       "      <td>1.0</td>\n",
       "      <td>Avon and Somerset Constabulary</td>\n",
       "      <td>-2.511927</td>\n",
       "      <td>51.409435</td>\n",
       "      <td>E01014399</td>\n",
       "      <td>Bath and North East Somerset 001A</td>\n",
       "      <td>Public order</td>\n",
       "      <td>Unable to prosecute suspect</td>\n",
       "      <td>2161.0</td>\n",
       "      <td>0.467376</td>\n",
       "      <td>...</td>\n",
       "      <td>0.955665</td>\n",
       "      <td>0.014778</td>\n",
       "      <td>0.0</td>\n",
       "      <td>0.001847</td>\n",
       "      <td>0.0</td>\n",
       "      <td>0.00431</td>\n",
       "      <td>0.000616</td>\n",
       "      <td>0.001232</td>\n",
       "      <td>0.01601</td>\n",
       "      <td>0.005542</td>\n",
       "    </tr>\n",
       "    <tr>\n",
       "      <th>4</th>\n",
       "      <td>1.0</td>\n",
       "      <td>Avon and Somerset Constabulary</td>\n",
       "      <td>-2.511761</td>\n",
       "      <td>51.409966</td>\n",
       "      <td>E01014399</td>\n",
       "      <td>Bath and North East Somerset 001A</td>\n",
       "      <td>Violence and sexual offences</td>\n",
       "      <td>Unable to prosecute suspect</td>\n",
       "      <td>2161.0</td>\n",
       "      <td>0.467376</td>\n",
       "      <td>...</td>\n",
       "      <td>0.955665</td>\n",
       "      <td>0.014778</td>\n",
       "      <td>0.0</td>\n",
       "      <td>0.001847</td>\n",
       "      <td>0.0</td>\n",
       "      <td>0.00431</td>\n",
       "      <td>0.000616</td>\n",
       "      <td>0.001232</td>\n",
       "      <td>0.01601</td>\n",
       "      <td>0.005542</td>\n",
       "    </tr>\n",
       "  </tbody>\n",
       "</table>\n",
       "<p>5 rows × 32 columns</p>\n",
       "</div>"
      ],
      "text/plain": [
       "   Month             Police_Jurisdiction  Longitude   Latitude  LSOA code  \\\n",
       "0    1.0  Avon and Somerset Constabulary  -2.515072  51.419357  E01014399   \n",
       "1    1.0  Avon and Somerset Constabulary  -2.494870  51.422276  E01014399   \n",
       "2    1.0  Avon and Somerset Constabulary  -2.494870  51.422276  E01014399   \n",
       "3    1.0  Avon and Somerset Constabulary  -2.511927  51.409435  E01014399   \n",
       "4    1.0  Avon and Somerset Constabulary  -2.511761  51.409966  E01014399   \n",
       "\n",
       "                           LSOA name                    Crime type  \\\n",
       "0  Bath and North East Somerset 001A                      Burglary   \n",
       "1  Bath and North East Somerset 001A     Criminal damage and arson   \n",
       "2  Bath and North East Somerset 001A     Criminal damage and arson   \n",
       "3  Bath and North East Somerset 001A                  Public order   \n",
       "4  Bath and North East Somerset 001A  Violence and sexual offences   \n",
       "\n",
       "         Last outcome category  Population  Proportion_Males  ...  \\\n",
       "0    Status update unavailable      2161.0          0.467376  ...   \n",
       "1    Status update unavailable      2161.0          0.467376  ...   \n",
       "2    Status update unavailable      2161.0          0.467376  ...   \n",
       "3  Unable to prosecute suspect      2161.0          0.467376  ...   \n",
       "4  Unable to prosecute suspect      2161.0          0.467376  ...   \n",
       "\n",
       "   WBR Proportion  WAO Proportion  ABD Proportion  AIN Proportion  \\\n",
       "0        0.955665        0.014778             0.0        0.001847   \n",
       "1        0.955665        0.014778             0.0        0.001847   \n",
       "2        0.955665        0.014778             0.0        0.001847   \n",
       "3        0.955665        0.014778             0.0        0.001847   \n",
       "4        0.955665        0.014778             0.0        0.001847   \n",
       "\n",
       "   APK Proportion  BAF Proportion  BCA Proportion  OXX Proportion  \\\n",
       "0             0.0         0.00431        0.000616        0.001232   \n",
       "1             0.0         0.00431        0.000616        0.001232   \n",
       "2             0.0         0.00431        0.000616        0.001232   \n",
       "3             0.0         0.00431        0.000616        0.001232   \n",
       "4             0.0         0.00431        0.000616        0.001232   \n",
       "\n",
       "   MIX Proportion  AAB Proportion  \n",
       "0         0.01601        0.005542  \n",
       "1         0.01601        0.005542  \n",
       "2         0.01601        0.005542  \n",
       "3         0.01601        0.005542  \n",
       "4         0.01601        0.005542  \n",
       "\n",
       "[5 rows x 32 columns]"
      ]
     },
     "execution_count": 160,
     "metadata": {},
     "output_type": "execute_result"
    }
   ],
   "source": [
    "# Taking a look at the first few rows\n",
    "df.head()"
   ]
  },
  {
   "cell_type": "code",
   "execution_count": 161,
   "id": "a115ba6a",
   "metadata": {},
   "outputs": [
    {
     "data": {
      "text/plain": [
       "(4052180, 32)"
      ]
     },
     "execution_count": 161,
     "metadata": {},
     "output_type": "execute_result"
    }
   ],
   "source": [
    "# Checking the size\n",
    "df.shape"
   ]
  },
  {
   "cell_type": "code",
   "execution_count": 162,
   "id": "706c572b",
   "metadata": {},
   "outputs": [],
   "source": [
    "# Removing extra column\n",
    "df.drop(axis=0, columns='LSOA Code', inplace=True)"
   ]
  },
  {
   "cell_type": "markdown",
   "id": "33c432bf",
   "metadata": {},
   "source": [
    "Let's check if the merge introduced any nulls:"
   ]
  },
  {
   "cell_type": "code",
   "execution_count": 163,
   "id": "c84cdb3d",
   "metadata": {},
   "outputs": [
    {
     "data": {
      "text/plain": [
       "Month                              4356\n",
       "Police_Jurisdiction                4356\n",
       "Longitude                          4356\n",
       "Latitude                           4356\n",
       "LSOA code                          4356\n",
       "LSOA name                          4356\n",
       "Crime type                         4356\n",
       "Last outcome category              4356\n",
       "Population                         4356\n",
       "Proportion_Males                   4356\n",
       "Proportion_0-15                    4356\n",
       "Proportion_16-29                   4356\n",
       "Proportion_30-44                   4356\n",
       "Proportion_45-64                   4356\n",
       "Proportion_65+                     4356\n",
       "Proportion_0car_hhlds              4356\n",
       "#_ppl_hhld                         4356\n",
       "Deprivation_Index                  4356\n",
       "Job_Seeker_Allowance_Proportion    4356\n",
       "FSM11to15Proportion                4356\n",
       "FSM5to10Proportion                 4356\n",
       "WBR Proportion                        0\n",
       "WAO Proportion                        0\n",
       "ABD Proportion                        0\n",
       "AIN Proportion                        0\n",
       "APK Proportion                        0\n",
       "BAF Proportion                        0\n",
       "BCA Proportion                        0\n",
       "OXX Proportion                        0\n",
       "MIX Proportion                        0\n",
       "AAB Proportion                        0\n",
       "dtype: int64"
      ]
     },
     "execution_count": 163,
     "metadata": {},
     "output_type": "execute_result"
    }
   ],
   "source": [
    "# Checking nulls\n",
    "df.isna().sum()"
   ]
  },
  {
   "cell_type": "markdown",
   "id": "30571c28",
   "metadata": {},
   "source": [
    "These are relatively small values so we can safely drop them:"
   ]
  },
  {
   "cell_type": "code",
   "execution_count": 164,
   "id": "551befc3",
   "metadata": {},
   "outputs": [],
   "source": [
    "# Dropping nulls\n",
    "df.dropna(inplace=True)"
   ]
  },
  {
   "cell_type": "markdown",
   "id": "c0844cf4",
   "metadata": {},
   "source": [
    "Finally let's check the column types:"
   ]
  },
  {
   "cell_type": "code",
   "execution_count": 165,
   "id": "f1cb6156",
   "metadata": {},
   "outputs": [
    {
     "name": "stdout",
     "output_type": "stream",
     "text": [
      "<class 'pandas.core.frame.DataFrame'>\n",
      "Int64Index: 4047824 entries, 0 to 4047823\n",
      "Data columns (total 31 columns):\n",
      " #   Column                           Dtype  \n",
      "---  ------                           -----  \n",
      " 0   Month                            float64\n",
      " 1   Police_Jurisdiction              object \n",
      " 2   Longitude                        float64\n",
      " 3   Latitude                         float64\n",
      " 4   LSOA code                        object \n",
      " 5   LSOA name                        object \n",
      " 6   Crime type                       object \n",
      " 7   Last outcome category            object \n",
      " 8   Population                       float64\n",
      " 9   Proportion_Males                 float64\n",
      " 10  Proportion_0-15                  float64\n",
      " 11  Proportion_16-29                 float64\n",
      " 12  Proportion_30-44                 float64\n",
      " 13  Proportion_45-64                 float64\n",
      " 14  Proportion_65+                   float64\n",
      " 15  Proportion_0car_hhlds            float64\n",
      " 16  #_ppl_hhld                       float64\n",
      " 17  Deprivation_Index                float64\n",
      " 18  Job_Seeker_Allowance_Proportion  float64\n",
      " 19  FSM11to15Proportion              float64\n",
      " 20  FSM5to10Proportion               float64\n",
      " 21  WBR Proportion                   float64\n",
      " 22  WAO Proportion                   float64\n",
      " 23  ABD Proportion                   float64\n",
      " 24  AIN Proportion                   float64\n",
      " 25  APK Proportion                   float64\n",
      " 26  BAF Proportion                   float64\n",
      " 27  BCA Proportion                   float64\n",
      " 28  OXX Proportion                   float64\n",
      " 29  MIX Proportion                   float64\n",
      " 30  AAB Proportion                   float64\n",
      "dtypes: float64(26), object(5)\n",
      "memory usage: 988.2+ MB\n"
     ]
    }
   ],
   "source": [
    "# Checking dtypes\n",
    "df.info()"
   ]
  },
  {
   "cell_type": "markdown",
   "id": "65b97261",
   "metadata": {},
   "source": [
    "Everything is how we expected so we can move on to the next dataset."
   ]
  },
  {
   "cell_type": "markdown",
   "id": "afc5f580",
   "metadata": {},
   "source": [
    "<a id='2h'></a>\n",
    "### 2h) Population Density"
   ]
  },
  {
   "cell_type": "markdown",
   "id": "aa52dcdf",
   "metadata": {},
   "source": [
    "First, let's import the CSV dataset into a dataframe: "
   ]
  },
  {
   "cell_type": "code",
   "execution_count": 166,
   "id": "7e09d11c",
   "metadata": {},
   "outputs": [],
   "source": [
    "# Importing the dataset\n",
    "df_density = pd.read_csv('data/sape23dt11mid2020lsoapopulationdensity.csv')"
   ]
  },
  {
   "cell_type": "markdown",
   "id": "417538eb",
   "metadata": {},
   "source": [
    "Then let's perform some basic checks:"
   ]
  },
  {
   "cell_type": "code",
   "execution_count": 167,
   "id": "cf404041",
   "metadata": {},
   "outputs": [
    {
     "data": {
      "text/html": [
       "<div>\n",
       "<style scoped>\n",
       "    .dataframe tbody tr th:only-of-type {\n",
       "        vertical-align: middle;\n",
       "    }\n",
       "\n",
       "    .dataframe tbody tr th {\n",
       "        vertical-align: top;\n",
       "    }\n",
       "\n",
       "    .dataframe thead th {\n",
       "        text-align: right;\n",
       "    }\n",
       "</style>\n",
       "<table border=\"1\" class=\"dataframe\">\n",
       "  <thead>\n",
       "    <tr style=\"text-align: right;\">\n",
       "      <th></th>\n",
       "      <th>LSOA Code</th>\n",
       "      <th>Mid-2020 population</th>\n",
       "      <th>Area Sq Km</th>\n",
       "      <th>People per Sq Km</th>\n",
       "    </tr>\n",
       "  </thead>\n",
       "  <tbody>\n",
       "    <tr>\n",
       "      <th>0</th>\n",
       "      <td>E01011949</td>\n",
       "      <td>1,944</td>\n",
       "      <td>0.52</td>\n",
       "      <td>3,746</td>\n",
       "    </tr>\n",
       "    <tr>\n",
       "      <th>1</th>\n",
       "      <td>E01011950</td>\n",
       "      <td>1,298</td>\n",
       "      <td>0.13</td>\n",
       "      <td>9,796</td>\n",
       "    </tr>\n",
       "    <tr>\n",
       "      <th>2</th>\n",
       "      <td>E01011951</td>\n",
       "      <td>1,208</td>\n",
       "      <td>0.21</td>\n",
       "      <td>5,791</td>\n",
       "    </tr>\n",
       "    <tr>\n",
       "      <th>3</th>\n",
       "      <td>E01011952</td>\n",
       "      <td>1,724</td>\n",
       "      <td>0.46</td>\n",
       "      <td>3,715</td>\n",
       "    </tr>\n",
       "    <tr>\n",
       "      <th>4</th>\n",
       "      <td>E01011953</td>\n",
       "      <td>2,026</td>\n",
       "      <td>0.88</td>\n",
       "      <td>2,294</td>\n",
       "    </tr>\n",
       "  </tbody>\n",
       "</table>\n",
       "</div>"
      ],
      "text/plain": [
       "   LSOA Code Mid-2020 population  Area Sq Km People per Sq Km\n",
       "0  E01011949               1,944        0.52            3,746\n",
       "1  E01011950               1,298        0.13            9,796\n",
       "2  E01011951               1,208        0.21            5,791\n",
       "3  E01011952               1,724        0.46            3,715\n",
       "4  E01011953               2,026        0.88            2,294"
      ]
     },
     "execution_count": 167,
     "metadata": {},
     "output_type": "execute_result"
    }
   ],
   "source": [
    "# Take a look at the first 5 rows\n",
    "df_density.head()"
   ]
  },
  {
   "cell_type": "code",
   "execution_count": 168,
   "id": "00337710",
   "metadata": {},
   "outputs": [
    {
     "data": {
      "text/html": [
       "<div>\n",
       "<style scoped>\n",
       "    .dataframe tbody tr th:only-of-type {\n",
       "        vertical-align: middle;\n",
       "    }\n",
       "\n",
       "    .dataframe tbody tr th {\n",
       "        vertical-align: top;\n",
       "    }\n",
       "\n",
       "    .dataframe thead th {\n",
       "        text-align: right;\n",
       "    }\n",
       "</style>\n",
       "<table border=\"1\" class=\"dataframe\">\n",
       "  <thead>\n",
       "    <tr style=\"text-align: right;\">\n",
       "      <th></th>\n",
       "      <th>LSOA Code</th>\n",
       "      <th>Mid-2020 population</th>\n",
       "      <th>Area Sq Km</th>\n",
       "      <th>People per Sq Km</th>\n",
       "    </tr>\n",
       "  </thead>\n",
       "  <tbody>\n",
       "    <tr>\n",
       "      <th>0</th>\n",
       "      <td>E01011949</td>\n",
       "      <td>1,944</td>\n",
       "      <td>0.52</td>\n",
       "      <td>3,746</td>\n",
       "    </tr>\n",
       "    <tr>\n",
       "      <th>1</th>\n",
       "      <td>E01011950</td>\n",
       "      <td>1,298</td>\n",
       "      <td>0.13</td>\n",
       "      <td>9,796</td>\n",
       "    </tr>\n",
       "    <tr>\n",
       "      <th>2</th>\n",
       "      <td>E01011951</td>\n",
       "      <td>1,208</td>\n",
       "      <td>0.21</td>\n",
       "      <td>5,791</td>\n",
       "    </tr>\n",
       "    <tr>\n",
       "      <th>3</th>\n",
       "      <td>E01011952</td>\n",
       "      <td>1,724</td>\n",
       "      <td>0.46</td>\n",
       "      <td>3,715</td>\n",
       "    </tr>\n",
       "    <tr>\n",
       "      <th>4</th>\n",
       "      <td>E01011953</td>\n",
       "      <td>2,026</td>\n",
       "      <td>0.88</td>\n",
       "      <td>2,294</td>\n",
       "    </tr>\n",
       "  </tbody>\n",
       "</table>\n",
       "</div>"
      ],
      "text/plain": [
       "   LSOA Code Mid-2020 population  Area Sq Km People per Sq Km\n",
       "0  E01011949               1,944        0.52            3,746\n",
       "1  E01011950               1,298        0.13            9,796\n",
       "2  E01011951               1,208        0.21            5,791\n",
       "3  E01011952               1,724        0.46            3,715\n",
       "4  E01011953               2,026        0.88            2,294"
      ]
     },
     "execution_count": 168,
     "metadata": {},
     "output_type": "execute_result"
    }
   ],
   "source": [
    "# look at the size of the dataset\n",
    "df_density.head()"
   ]
  },
  {
   "cell_type": "markdown",
   "id": "6fa30f71",
   "metadata": {},
   "source": [
    "We can already see that:\n",
    "* We will need to remove the comma and cast columns as floats\n",
    "* Number of people per Square Km is already a relative number so can be left as is (we can rename it to be more intuitive)\n",
    "* The Mid-2020 population column is a duplicate of our Population column in the main dataset"
   ]
  },
  {
   "cell_type": "code",
   "execution_count": 169,
   "id": "dab8098f",
   "metadata": {},
   "outputs": [],
   "source": [
    "# Removing commas\n",
    "df_density.replace(',','', regex=True, inplace=True)"
   ]
  },
  {
   "cell_type": "code",
   "execution_count": 170,
   "id": "c7c232ce",
   "metadata": {},
   "outputs": [],
   "source": [
    "# Dropping the duplicate column\n",
    "df_density.drop(axis=0, columns='Mid-2020 population', inplace=True)"
   ]
  },
  {
   "cell_type": "code",
   "execution_count": 171,
   "id": "89072613",
   "metadata": {},
   "outputs": [],
   "source": [
    "# Creating float type\n",
    "df_density['People per Sq Km'] = df_density['People per Sq Km'].astype(float)"
   ]
  },
  {
   "cell_type": "code",
   "execution_count": 172,
   "id": "c0d1dc85",
   "metadata": {},
   "outputs": [],
   "source": [
    "# Renaming the column\n",
    "df_density.rename(inplace=True, columns={'People per Sq Km' : 'Population_Density'})"
   ]
  },
  {
   "cell_type": "markdown",
   "id": "366f53cb",
   "metadata": {},
   "source": [
    "Now let's check if there are duplicates or nulls:"
   ]
  },
  {
   "cell_type": "code",
   "execution_count": 173,
   "id": "213e8270",
   "metadata": {},
   "outputs": [
    {
     "data": {
      "text/plain": [
       "0"
      ]
     },
     "execution_count": 173,
     "metadata": {},
     "output_type": "execute_result"
    }
   ],
   "source": [
    "# Checking for duplicates\n",
    "df_density.duplicated().sum()"
   ]
  },
  {
   "cell_type": "code",
   "execution_count": 174,
   "id": "09923713",
   "metadata": {},
   "outputs": [
    {
     "data": {
      "text/plain": [
       "LSOA Code             0\n",
       "Area Sq Km            0\n",
       "Population_Density    0\n",
       "dtype: int64"
      ]
     },
     "execution_count": 174,
     "metadata": {},
     "output_type": "execute_result"
    }
   ],
   "source": [
    "# Checking for nulls\n",
    "df_density.isnull().sum()"
   ]
  },
  {
   "cell_type": "markdown",
   "id": "b7648da0",
   "metadata": {},
   "source": [
    "Now ready to merge!"
   ]
  },
  {
   "cell_type": "code",
   "execution_count": 175,
   "id": "753f69de",
   "metadata": {},
   "outputs": [],
   "source": [
    "# Merging on neighborhood code\n",
    "df = df.merge(df_density, how='outer', left_on='LSOA code', right_on='LSOA Code')"
   ]
  },
  {
   "cell_type": "markdown",
   "id": "e5707a9b",
   "metadata": {},
   "source": [
    "Let's check what we have:"
   ]
  },
  {
   "cell_type": "code",
   "execution_count": 176,
   "id": "6e6b97e3",
   "metadata": {},
   "outputs": [
    {
     "data": {
      "text/plain": [
       "(4052180, 34)"
      ]
     },
     "execution_count": 176,
     "metadata": {},
     "output_type": "execute_result"
    }
   ],
   "source": [
    "# Checking the size\n",
    "df.shape"
   ]
  },
  {
   "cell_type": "code",
   "execution_count": 177,
   "id": "53ecf52d",
   "metadata": {},
   "outputs": [
    {
     "data": {
      "text/html": [
       "<div>\n",
       "<style scoped>\n",
       "    .dataframe tbody tr th:only-of-type {\n",
       "        vertical-align: middle;\n",
       "    }\n",
       "\n",
       "    .dataframe tbody tr th {\n",
       "        vertical-align: top;\n",
       "    }\n",
       "\n",
       "    .dataframe thead th {\n",
       "        text-align: right;\n",
       "    }\n",
       "</style>\n",
       "<table border=\"1\" class=\"dataframe\">\n",
       "  <thead>\n",
       "    <tr style=\"text-align: right;\">\n",
       "      <th></th>\n",
       "      <th>Month</th>\n",
       "      <th>Police_Jurisdiction</th>\n",
       "      <th>Longitude</th>\n",
       "      <th>Latitude</th>\n",
       "      <th>LSOA code</th>\n",
       "      <th>LSOA name</th>\n",
       "      <th>Crime type</th>\n",
       "      <th>Last outcome category</th>\n",
       "      <th>Population</th>\n",
       "      <th>Proportion_Males</th>\n",
       "      <th>...</th>\n",
       "      <th>AIN Proportion</th>\n",
       "      <th>APK Proportion</th>\n",
       "      <th>BAF Proportion</th>\n",
       "      <th>BCA Proportion</th>\n",
       "      <th>OXX Proportion</th>\n",
       "      <th>MIX Proportion</th>\n",
       "      <th>AAB Proportion</th>\n",
       "      <th>LSOA Code</th>\n",
       "      <th>Area Sq Km</th>\n",
       "      <th>Population_Density</th>\n",
       "    </tr>\n",
       "  </thead>\n",
       "  <tbody>\n",
       "    <tr>\n",
       "      <th>0</th>\n",
       "      <td>1.0</td>\n",
       "      <td>Avon and Somerset Constabulary</td>\n",
       "      <td>-2.515072</td>\n",
       "      <td>51.419357</td>\n",
       "      <td>E01014399</td>\n",
       "      <td>Bath and North East Somerset 001A</td>\n",
       "      <td>Burglary</td>\n",
       "      <td>Status update unavailable</td>\n",
       "      <td>2161.0</td>\n",
       "      <td>0.467376</td>\n",
       "      <td>...</td>\n",
       "      <td>0.001847</td>\n",
       "      <td>0.0</td>\n",
       "      <td>0.00431</td>\n",
       "      <td>0.000616</td>\n",
       "      <td>0.001232</td>\n",
       "      <td>0.01601</td>\n",
       "      <td>0.005542</td>\n",
       "      <td>E01014399</td>\n",
       "      <td>4.12</td>\n",
       "      <td>524.0</td>\n",
       "    </tr>\n",
       "    <tr>\n",
       "      <th>1</th>\n",
       "      <td>1.0</td>\n",
       "      <td>Avon and Somerset Constabulary</td>\n",
       "      <td>-2.494870</td>\n",
       "      <td>51.422276</td>\n",
       "      <td>E01014399</td>\n",
       "      <td>Bath and North East Somerset 001A</td>\n",
       "      <td>Criminal damage and arson</td>\n",
       "      <td>Status update unavailable</td>\n",
       "      <td>2161.0</td>\n",
       "      <td>0.467376</td>\n",
       "      <td>...</td>\n",
       "      <td>0.001847</td>\n",
       "      <td>0.0</td>\n",
       "      <td>0.00431</td>\n",
       "      <td>0.000616</td>\n",
       "      <td>0.001232</td>\n",
       "      <td>0.01601</td>\n",
       "      <td>0.005542</td>\n",
       "      <td>E01014399</td>\n",
       "      <td>4.12</td>\n",
       "      <td>524.0</td>\n",
       "    </tr>\n",
       "    <tr>\n",
       "      <th>2</th>\n",
       "      <td>1.0</td>\n",
       "      <td>Avon and Somerset Constabulary</td>\n",
       "      <td>-2.494870</td>\n",
       "      <td>51.422276</td>\n",
       "      <td>E01014399</td>\n",
       "      <td>Bath and North East Somerset 001A</td>\n",
       "      <td>Criminal damage and arson</td>\n",
       "      <td>Status update unavailable</td>\n",
       "      <td>2161.0</td>\n",
       "      <td>0.467376</td>\n",
       "      <td>...</td>\n",
       "      <td>0.001847</td>\n",
       "      <td>0.0</td>\n",
       "      <td>0.00431</td>\n",
       "      <td>0.000616</td>\n",
       "      <td>0.001232</td>\n",
       "      <td>0.01601</td>\n",
       "      <td>0.005542</td>\n",
       "      <td>E01014399</td>\n",
       "      <td>4.12</td>\n",
       "      <td>524.0</td>\n",
       "    </tr>\n",
       "    <tr>\n",
       "      <th>3</th>\n",
       "      <td>1.0</td>\n",
       "      <td>Avon and Somerset Constabulary</td>\n",
       "      <td>-2.511927</td>\n",
       "      <td>51.409435</td>\n",
       "      <td>E01014399</td>\n",
       "      <td>Bath and North East Somerset 001A</td>\n",
       "      <td>Public order</td>\n",
       "      <td>Unable to prosecute suspect</td>\n",
       "      <td>2161.0</td>\n",
       "      <td>0.467376</td>\n",
       "      <td>...</td>\n",
       "      <td>0.001847</td>\n",
       "      <td>0.0</td>\n",
       "      <td>0.00431</td>\n",
       "      <td>0.000616</td>\n",
       "      <td>0.001232</td>\n",
       "      <td>0.01601</td>\n",
       "      <td>0.005542</td>\n",
       "      <td>E01014399</td>\n",
       "      <td>4.12</td>\n",
       "      <td>524.0</td>\n",
       "    </tr>\n",
       "    <tr>\n",
       "      <th>4</th>\n",
       "      <td>1.0</td>\n",
       "      <td>Avon and Somerset Constabulary</td>\n",
       "      <td>-2.511761</td>\n",
       "      <td>51.409966</td>\n",
       "      <td>E01014399</td>\n",
       "      <td>Bath and North East Somerset 001A</td>\n",
       "      <td>Violence and sexual offences</td>\n",
       "      <td>Unable to prosecute suspect</td>\n",
       "      <td>2161.0</td>\n",
       "      <td>0.467376</td>\n",
       "      <td>...</td>\n",
       "      <td>0.001847</td>\n",
       "      <td>0.0</td>\n",
       "      <td>0.00431</td>\n",
       "      <td>0.000616</td>\n",
       "      <td>0.001232</td>\n",
       "      <td>0.01601</td>\n",
       "      <td>0.005542</td>\n",
       "      <td>E01014399</td>\n",
       "      <td>4.12</td>\n",
       "      <td>524.0</td>\n",
       "    </tr>\n",
       "  </tbody>\n",
       "</table>\n",
       "<p>5 rows × 34 columns</p>\n",
       "</div>"
      ],
      "text/plain": [
       "   Month             Police_Jurisdiction  Longitude   Latitude  LSOA code  \\\n",
       "0    1.0  Avon and Somerset Constabulary  -2.515072  51.419357  E01014399   \n",
       "1    1.0  Avon and Somerset Constabulary  -2.494870  51.422276  E01014399   \n",
       "2    1.0  Avon and Somerset Constabulary  -2.494870  51.422276  E01014399   \n",
       "3    1.0  Avon and Somerset Constabulary  -2.511927  51.409435  E01014399   \n",
       "4    1.0  Avon and Somerset Constabulary  -2.511761  51.409966  E01014399   \n",
       "\n",
       "                           LSOA name                    Crime type  \\\n",
       "0  Bath and North East Somerset 001A                      Burglary   \n",
       "1  Bath and North East Somerset 001A     Criminal damage and arson   \n",
       "2  Bath and North East Somerset 001A     Criminal damage and arson   \n",
       "3  Bath and North East Somerset 001A                  Public order   \n",
       "4  Bath and North East Somerset 001A  Violence and sexual offences   \n",
       "\n",
       "         Last outcome category  Population  Proportion_Males  ...  \\\n",
       "0    Status update unavailable      2161.0          0.467376  ...   \n",
       "1    Status update unavailable      2161.0          0.467376  ...   \n",
       "2    Status update unavailable      2161.0          0.467376  ...   \n",
       "3  Unable to prosecute suspect      2161.0          0.467376  ...   \n",
       "4  Unable to prosecute suspect      2161.0          0.467376  ...   \n",
       "\n",
       "   AIN Proportion  APK Proportion  BAF Proportion  BCA Proportion  \\\n",
       "0        0.001847             0.0         0.00431        0.000616   \n",
       "1        0.001847             0.0         0.00431        0.000616   \n",
       "2        0.001847             0.0         0.00431        0.000616   \n",
       "3        0.001847             0.0         0.00431        0.000616   \n",
       "4        0.001847             0.0         0.00431        0.000616   \n",
       "\n",
       "   OXX Proportion  MIX Proportion  AAB Proportion  LSOA Code  Area Sq Km  \\\n",
       "0        0.001232         0.01601        0.005542  E01014399        4.12   \n",
       "1        0.001232         0.01601        0.005542  E01014399        4.12   \n",
       "2        0.001232         0.01601        0.005542  E01014399        4.12   \n",
       "3        0.001232         0.01601        0.005542  E01014399        4.12   \n",
       "4        0.001232         0.01601        0.005542  E01014399        4.12   \n",
       "\n",
       "   Population_Density  \n",
       "0               524.0  \n",
       "1               524.0  \n",
       "2               524.0  \n",
       "3               524.0  \n",
       "4               524.0  \n",
       "\n",
       "[5 rows x 34 columns]"
      ]
     },
     "execution_count": 177,
     "metadata": {},
     "output_type": "execute_result"
    }
   ],
   "source": [
    "# Checking the first few rows\n",
    "df.head()"
   ]
  },
  {
   "cell_type": "markdown",
   "id": "4b514f1f",
   "metadata": {},
   "source": [
    "Everything checks out, and the new columns were successfully added. Now we can drop the extra neighborhood column that we performed the merge on:"
   ]
  },
  {
   "cell_type": "code",
   "execution_count": 178,
   "id": "b10956df",
   "metadata": {},
   "outputs": [],
   "source": [
    "# Dropping the extra LSOA code\n",
    "df.drop(axis=0, columns=['LSOA Code'], inplace=True)"
   ]
  },
  {
   "cell_type": "markdown",
   "id": "f638f318",
   "metadata": {},
   "source": [
    "Now let's check if the merge has introduced any new null values:"
   ]
  },
  {
   "cell_type": "code",
   "execution_count": 179,
   "id": "e9804c6f",
   "metadata": {},
   "outputs": [
    {
     "data": {
      "text/plain": [
       "Month                              4356\n",
       "Police_Jurisdiction                4356\n",
       "Longitude                          4356\n",
       "Latitude                           4356\n",
       "LSOA code                          4356\n",
       "LSOA name                          4356\n",
       "Crime type                         4356\n",
       "Last outcome category              4356\n",
       "Population                         4356\n",
       "Proportion_Males                   4356\n",
       "Proportion_0-15                    4356\n",
       "Proportion_16-29                   4356\n",
       "Proportion_30-44                   4356\n",
       "Proportion_45-64                   4356\n",
       "Proportion_65+                     4356\n",
       "Proportion_0car_hhlds              4356\n",
       "#_ppl_hhld                         4356\n",
       "Deprivation_Index                  4356\n",
       "Job_Seeker_Allowance_Proportion    4356\n",
       "FSM11to15Proportion                4356\n",
       "FSM5to10Proportion                 4356\n",
       "WBR Proportion                     4356\n",
       "WAO Proportion                     4356\n",
       "ABD Proportion                     4356\n",
       "AIN Proportion                     4356\n",
       "APK Proportion                     4356\n",
       "BAF Proportion                     4356\n",
       "BCA Proportion                     4356\n",
       "OXX Proportion                     4356\n",
       "MIX Proportion                     4356\n",
       "AAB Proportion                     4356\n",
       "Area Sq Km                            0\n",
       "Population_Density                    0\n",
       "dtype: int64"
      ]
     },
     "execution_count": 179,
     "metadata": {},
     "output_type": "execute_result"
    }
   ],
   "source": [
    "# Checking null values per column\n",
    "df.isnull().sum()"
   ]
  },
  {
   "cell_type": "markdown",
   "id": "80330bea",
   "metadata": {},
   "source": [
    "There are some very small null values so we drop them:"
   ]
  },
  {
   "cell_type": "code",
   "execution_count": 180,
   "id": "58a8c85f",
   "metadata": {},
   "outputs": [],
   "source": [
    "# Dropping null values\n",
    "df.dropna(inplace=True)"
   ]
  },
  {
   "cell_type": "markdown",
   "id": "94255850",
   "metadata": {},
   "source": [
    "Finally let's check that all information is the right dtype:"
   ]
  },
  {
   "cell_type": "code",
   "execution_count": 181,
   "id": "78a0a6aa",
   "metadata": {
    "scrolled": true
   },
   "outputs": [
    {
     "name": "stdout",
     "output_type": "stream",
     "text": [
      "<class 'pandas.core.frame.DataFrame'>\n",
      "Int64Index: 4047824 entries, 0 to 4047823\n",
      "Data columns (total 33 columns):\n",
      " #   Column                           Dtype  \n",
      "---  ------                           -----  \n",
      " 0   Month                            float64\n",
      " 1   Police_Jurisdiction              object \n",
      " 2   Longitude                        float64\n",
      " 3   Latitude                         float64\n",
      " 4   LSOA code                        object \n",
      " 5   LSOA name                        object \n",
      " 6   Crime type                       object \n",
      " 7   Last outcome category            object \n",
      " 8   Population                       float64\n",
      " 9   Proportion_Males                 float64\n",
      " 10  Proportion_0-15                  float64\n",
      " 11  Proportion_16-29                 float64\n",
      " 12  Proportion_30-44                 float64\n",
      " 13  Proportion_45-64                 float64\n",
      " 14  Proportion_65+                   float64\n",
      " 15  Proportion_0car_hhlds            float64\n",
      " 16  #_ppl_hhld                       float64\n",
      " 17  Deprivation_Index                float64\n",
      " 18  Job_Seeker_Allowance_Proportion  float64\n",
      " 19  FSM11to15Proportion              float64\n",
      " 20  FSM5to10Proportion               float64\n",
      " 21  WBR Proportion                   float64\n",
      " 22  WAO Proportion                   float64\n",
      " 23  ABD Proportion                   float64\n",
      " 24  AIN Proportion                   float64\n",
      " 25  APK Proportion                   float64\n",
      " 26  BAF Proportion                   float64\n",
      " 27  BCA Proportion                   float64\n",
      " 28  OXX Proportion                   float64\n",
      " 29  MIX Proportion                   float64\n",
      " 30  AAB Proportion                   float64\n",
      " 31  Area Sq Km                       float64\n",
      " 32  Population_Density               float64\n",
      "dtypes: float64(28), object(5)\n",
      "memory usage: 1.0+ GB\n"
     ]
    }
   ],
   "source": [
    "# Checking the type of each column\n",
    "df.info()"
   ]
  },
  {
   "cell_type": "markdown",
   "id": "d39b4ef7",
   "metadata": {},
   "source": [
    "Everything checks out so we can move on to the next dataset."
   ]
  },
  {
   "cell_type": "markdown",
   "id": "3e1753b7",
   "metadata": {},
   "source": [
    "<a id='2i'></a>\n",
    "### 2i) Median House Price"
   ]
  },
  {
   "cell_type": "markdown",
   "id": "d1a29181",
   "metadata": {},
   "source": [
    "First, let's import the CSV dataset into a dataframe: "
   ]
  },
  {
   "cell_type": "code",
   "execution_count": 182,
   "id": "7dbdc15a",
   "metadata": {},
   "outputs": [],
   "source": [
    "# Importing the dataset\n",
    "df_house = pd.read_csv('data/hpssadataset46medianpricepaidforresidentialpropertiesbylsoa.csv')"
   ]
  },
  {
   "cell_type": "markdown",
   "id": "e9e147c6",
   "metadata": {},
   "source": [
    "Then let's perform some basic checks:"
   ]
  },
  {
   "cell_type": "code",
   "execution_count": 183,
   "id": "a0c8a133",
   "metadata": {},
   "outputs": [
    {
     "data": {
      "text/html": [
       "<div>\n",
       "<style scoped>\n",
       "    .dataframe tbody tr th:only-of-type {\n",
       "        vertical-align: middle;\n",
       "    }\n",
       "\n",
       "    .dataframe tbody tr th {\n",
       "        vertical-align: top;\n",
       "    }\n",
       "\n",
       "    .dataframe thead th {\n",
       "        text-align: right;\n",
       "    }\n",
       "</style>\n",
       "<table border=\"1\" class=\"dataframe\">\n",
       "  <thead>\n",
       "    <tr style=\"text-align: right;\">\n",
       "      <th></th>\n",
       "      <th>LSOA code</th>\n",
       "      <th>Year ending Dec 1995</th>\n",
       "      <th>Year ending Sep 2021</th>\n",
       "      <th>Unnamed: 3</th>\n",
       "    </tr>\n",
       "  </thead>\n",
       "  <tbody>\n",
       "    <tr>\n",
       "      <th>0</th>\n",
       "      <td>E01011949</td>\n",
       "      <td>34,750</td>\n",
       "      <td>81,500</td>\n",
       "      <td>NaN</td>\n",
       "    </tr>\n",
       "    <tr>\n",
       "      <th>1</th>\n",
       "      <td>E01011950</td>\n",
       "      <td>25,000</td>\n",
       "      <td>50,159</td>\n",
       "      <td>NaN</td>\n",
       "    </tr>\n",
       "    <tr>\n",
       "      <th>2</th>\n",
       "      <td>E01011951</td>\n",
       "      <td>27,000</td>\n",
       "      <td>58,574</td>\n",
       "      <td>NaN</td>\n",
       "    </tr>\n",
       "    <tr>\n",
       "      <th>3</th>\n",
       "      <td>E01011952</td>\n",
       "      <td>44,500</td>\n",
       "      <td>84,000</td>\n",
       "      <td>NaN</td>\n",
       "    </tr>\n",
       "    <tr>\n",
       "      <th>4</th>\n",
       "      <td>E01011953</td>\n",
       "      <td>22,000</td>\n",
       "      <td>:</td>\n",
       "      <td>NaN</td>\n",
       "    </tr>\n",
       "  </tbody>\n",
       "</table>\n",
       "</div>"
      ],
      "text/plain": [
       "   LSOA code Year ending Dec 1995 Year ending Sep 2021  Unnamed: 3\n",
       "0  E01011949               34,750               81,500         NaN\n",
       "1  E01011950               25,000               50,159         NaN\n",
       "2  E01011951               27,000               58,574         NaN\n",
       "3  E01011952               44,500               84,000         NaN\n",
       "4  E01011953               22,000                    :         NaN"
      ]
     },
     "execution_count": 183,
     "metadata": {},
     "output_type": "execute_result"
    }
   ],
   "source": [
    "# Take a look at the first 5 rows\n",
    "df_house.head()"
   ]
  },
  {
   "cell_type": "code",
   "execution_count": 184,
   "id": "6e49a059",
   "metadata": {},
   "outputs": [
    {
     "data": {
      "text/plain": [
       "(34856, 4)"
      ]
     },
     "execution_count": 184,
     "metadata": {},
     "output_type": "execute_result"
    }
   ],
   "source": [
    "# look at the size of the dataset\n",
    "df_house.shape"
   ]
  },
  {
   "cell_type": "markdown",
   "id": "2cf9668a",
   "metadata": {},
   "source": [
    "Observations:\n",
    "\n",
    "* Looks like we have two columns: one from 1995 and second from 2021\n",
    "* Some rows have missing values denoted by a colon\n",
    "* There is an extra unnamed column\n",
    "* There are commas in the values columns"
   ]
  },
  {
   "cell_type": "code",
   "execution_count": 185,
   "id": "3237b166",
   "metadata": {},
   "outputs": [],
   "source": [
    "# First let's dropped the unnamed column\n",
    "df_house.drop(axis=0, columns = 'Unnamed: 3', inplace=True)"
   ]
  },
  {
   "cell_type": "markdown",
   "id": "9da8ec05",
   "metadata": {},
   "source": [
    "Now let's remove the commas and colons:"
   ]
  },
  {
   "cell_type": "code",
   "execution_count": 186,
   "id": "7272c97c",
   "metadata": {},
   "outputs": [],
   "source": [
    "# Replacing commas with nothing (i.e., removing them)\n",
    "df_house.replace(',','', regex=True, inplace=True)"
   ]
  },
  {
   "cell_type": "code",
   "execution_count": 187,
   "id": "35156789",
   "metadata": {},
   "outputs": [
    {
     "data": {
      "text/plain": [
       "1599"
      ]
     },
     "execution_count": 187,
     "metadata": {},
     "output_type": "execute_result"
    }
   ],
   "source": [
    "# Checking the number of colons in the first column\n",
    "(df_house['Year ending Dec 1995'] == \":\").sum()"
   ]
  },
  {
   "cell_type": "code",
   "execution_count": 188,
   "id": "985ce320",
   "metadata": {},
   "outputs": [
    {
     "data": {
      "text/plain": [
       "899"
      ]
     },
     "execution_count": 188,
     "metadata": {},
     "output_type": "execute_result"
    }
   ],
   "source": [
    "# Checking the number of colons in the second column\n",
    "(df_house['Year ending Sep 2021'] == \":\").sum()"
   ]
  },
  {
   "cell_type": "markdown",
   "id": "4c02a858",
   "metadata": {},
   "source": [
    "These are fairly small numbers so we can safely drop these observations:"
   ]
  },
  {
   "cell_type": "code",
   "execution_count": 189,
   "id": "2bcd33c5",
   "metadata": {},
   "outputs": [],
   "source": [
    "# Dropping rows that have colons\n",
    "df_house.drop(df_house.index[df_house['Year ending Dec 1995'] == \":\"], inplace=True)"
   ]
  },
  {
   "cell_type": "code",
   "execution_count": 190,
   "id": "4ce5bbf6",
   "metadata": {},
   "outputs": [],
   "source": [
    "# Dropping rows that have colons\n",
    "df_house.drop(df_house.index[df_house['Year ending Sep 2021'] == \":\"], inplace=True)"
   ]
  },
  {
   "cell_type": "markdown",
   "id": "ec453fe7",
   "metadata": {},
   "source": [
    "Now that the comma has been removed we can case the columns as floats:"
   ]
  },
  {
   "cell_type": "code",
   "execution_count": 191,
   "id": "706e16bb",
   "metadata": {},
   "outputs": [],
   "source": [
    "# Changing dtype to float\n",
    "df_house['Year ending Sep 2021'] = df_house['Year ending Sep 2021'].astype(float)"
   ]
  },
  {
   "cell_type": "code",
   "execution_count": 192,
   "id": "0887afeb",
   "metadata": {
    "scrolled": true
   },
   "outputs": [],
   "source": [
    "# Changing dtype to float\n",
    "df_house['Year ending Dec 1995'] = df_house['Year ending Dec 1995'].astype(float)"
   ]
  },
  {
   "cell_type": "markdown",
   "id": "3189f6ae",
   "metadata": {},
   "source": [
    "We can also calculate the CAGR (Compound Annual Growth Rate) between 1995 and 2021 as an extra feature: "
   ]
  },
  {
   "cell_type": "code",
   "execution_count": 193,
   "id": "326eb343",
   "metadata": {},
   "outputs": [],
   "source": [
    "# Creating a CAGR feature\n",
    "df_house['Median_house_price_CAGR_1995-2021'] = (df_house['Year ending Sep 2021'] / df_house['Year ending Dec 1995'])**(1/26)-1"
   ]
  },
  {
   "cell_type": "markdown",
   "id": "50b3a977",
   "metadata": {},
   "source": [
    "Now we can just keep the most recent median price, and drop the old price"
   ]
  },
  {
   "cell_type": "code",
   "execution_count": 194,
   "id": "ce30ff2b",
   "metadata": {},
   "outputs": [],
   "source": [
    "# Renaming the column\n",
    "df_house.rename(inplace=True, columns={'Year ending Sep 2021': 'Median_House_Price'})"
   ]
  },
  {
   "cell_type": "code",
   "execution_count": 195,
   "id": "bf4cf82c",
   "metadata": {},
   "outputs": [],
   "source": [
    "# Dropping the column with old price\n",
    "df_house.drop(axis=0, columns = 'Year ending Dec 1995', inplace=True)"
   ]
  },
  {
   "cell_type": "markdown",
   "id": "d47201e4",
   "metadata": {},
   "source": [
    "We can also check for any nulls and duplicates:"
   ]
  },
  {
   "cell_type": "code",
   "execution_count": 196,
   "id": "5ae221e8",
   "metadata": {},
   "outputs": [
    {
     "data": {
      "text/plain": [
       "LSOA code                            103\n",
       "Median_House_Price                   103\n",
       "Median_house_price_CAGR_1995-2021    103\n",
       "dtype: int64"
      ]
     },
     "execution_count": 196,
     "metadata": {},
     "output_type": "execute_result"
    }
   ],
   "source": [
    "# Checking for nulls\n",
    "df_house.isnull().sum()"
   ]
  },
  {
   "cell_type": "markdown",
   "id": "9a472151",
   "metadata": {},
   "source": [
    "There aren't that many so we can safely drop them:"
   ]
  },
  {
   "cell_type": "code",
   "execution_count": 197,
   "id": "2d3084ed",
   "metadata": {},
   "outputs": [],
   "source": [
    "# Dropping nulls\n",
    "df_house.dropna(inplace=True)"
   ]
  },
  {
   "cell_type": "code",
   "execution_count": 198,
   "id": "a697d6fb",
   "metadata": {},
   "outputs": [
    {
     "data": {
      "text/plain": [
       "0"
      ]
     },
     "execution_count": 198,
     "metadata": {},
     "output_type": "execute_result"
    }
   ],
   "source": [
    "# Checking for duplicates\n",
    "df_house.duplicated().sum()"
   ]
  },
  {
   "cell_type": "markdown",
   "id": "ac93f5a7",
   "metadata": {},
   "source": [
    "It's a small number so we can get rid of duplicates:"
   ]
  },
  {
   "cell_type": "code",
   "execution_count": 199,
   "id": "af7a4c6d",
   "metadata": {},
   "outputs": [],
   "source": [
    "# Removing duplicates\n",
    "df_house.drop_duplicates(inplace=True)"
   ]
  },
  {
   "cell_type": "markdown",
   "id": "37958d6a",
   "metadata": {},
   "source": [
    "Now we're ready to merge with our main dataset:"
   ]
  },
  {
   "cell_type": "code",
   "execution_count": 200,
   "id": "9a3cfe8e",
   "metadata": {},
   "outputs": [],
   "source": [
    "# Merging on the neighborhood code\n",
    "df = df.merge(df_house, how='outer', on='LSOA code')"
   ]
  },
  {
   "cell_type": "markdown",
   "id": "5693b4fc",
   "metadata": {},
   "source": [
    "The name of the column containing the neighborhood code was the same so no need to drop columns"
   ]
  },
  {
   "cell_type": "markdown",
   "id": "9e3c5b11",
   "metadata": {},
   "source": [
    "Let's check what we have:"
   ]
  },
  {
   "cell_type": "code",
   "execution_count": 201,
   "id": "2242340e",
   "metadata": {},
   "outputs": [
    {
     "data": {
      "text/html": [
       "<div>\n",
       "<style scoped>\n",
       "    .dataframe tbody tr th:only-of-type {\n",
       "        vertical-align: middle;\n",
       "    }\n",
       "\n",
       "    .dataframe tbody tr th {\n",
       "        vertical-align: top;\n",
       "    }\n",
       "\n",
       "    .dataframe thead th {\n",
       "        text-align: right;\n",
       "    }\n",
       "</style>\n",
       "<table border=\"1\" class=\"dataframe\">\n",
       "  <thead>\n",
       "    <tr style=\"text-align: right;\">\n",
       "      <th></th>\n",
       "      <th>Month</th>\n",
       "      <th>Police_Jurisdiction</th>\n",
       "      <th>Longitude</th>\n",
       "      <th>Latitude</th>\n",
       "      <th>LSOA code</th>\n",
       "      <th>LSOA name</th>\n",
       "      <th>Crime type</th>\n",
       "      <th>Last outcome category</th>\n",
       "      <th>Population</th>\n",
       "      <th>Proportion_Males</th>\n",
       "      <th>...</th>\n",
       "      <th>APK Proportion</th>\n",
       "      <th>BAF Proportion</th>\n",
       "      <th>BCA Proportion</th>\n",
       "      <th>OXX Proportion</th>\n",
       "      <th>MIX Proportion</th>\n",
       "      <th>AAB Proportion</th>\n",
       "      <th>Area Sq Km</th>\n",
       "      <th>Population_Density</th>\n",
       "      <th>Median_House_Price</th>\n",
       "      <th>Median_house_price_CAGR_1995-2021</th>\n",
       "    </tr>\n",
       "  </thead>\n",
       "  <tbody>\n",
       "    <tr>\n",
       "      <th>0</th>\n",
       "      <td>1.0</td>\n",
       "      <td>Avon and Somerset Constabulary</td>\n",
       "      <td>-2.515072</td>\n",
       "      <td>51.419357</td>\n",
       "      <td>E01014399</td>\n",
       "      <td>Bath and North East Somerset 001A</td>\n",
       "      <td>Burglary</td>\n",
       "      <td>Status update unavailable</td>\n",
       "      <td>2161.0</td>\n",
       "      <td>0.467376</td>\n",
       "      <td>...</td>\n",
       "      <td>0.0</td>\n",
       "      <td>0.00431</td>\n",
       "      <td>0.000616</td>\n",
       "      <td>0.001232</td>\n",
       "      <td>0.01601</td>\n",
       "      <td>0.005542</td>\n",
       "      <td>4.12</td>\n",
       "      <td>524.0</td>\n",
       "      <td>370000.0</td>\n",
       "      <td>0.078015</td>\n",
       "    </tr>\n",
       "    <tr>\n",
       "      <th>1</th>\n",
       "      <td>1.0</td>\n",
       "      <td>Avon and Somerset Constabulary</td>\n",
       "      <td>-2.494870</td>\n",
       "      <td>51.422276</td>\n",
       "      <td>E01014399</td>\n",
       "      <td>Bath and North East Somerset 001A</td>\n",
       "      <td>Criminal damage and arson</td>\n",
       "      <td>Status update unavailable</td>\n",
       "      <td>2161.0</td>\n",
       "      <td>0.467376</td>\n",
       "      <td>...</td>\n",
       "      <td>0.0</td>\n",
       "      <td>0.00431</td>\n",
       "      <td>0.000616</td>\n",
       "      <td>0.001232</td>\n",
       "      <td>0.01601</td>\n",
       "      <td>0.005542</td>\n",
       "      <td>4.12</td>\n",
       "      <td>524.0</td>\n",
       "      <td>370000.0</td>\n",
       "      <td>0.078015</td>\n",
       "    </tr>\n",
       "    <tr>\n",
       "      <th>2</th>\n",
       "      <td>1.0</td>\n",
       "      <td>Avon and Somerset Constabulary</td>\n",
       "      <td>-2.494870</td>\n",
       "      <td>51.422276</td>\n",
       "      <td>E01014399</td>\n",
       "      <td>Bath and North East Somerset 001A</td>\n",
       "      <td>Criminal damage and arson</td>\n",
       "      <td>Status update unavailable</td>\n",
       "      <td>2161.0</td>\n",
       "      <td>0.467376</td>\n",
       "      <td>...</td>\n",
       "      <td>0.0</td>\n",
       "      <td>0.00431</td>\n",
       "      <td>0.000616</td>\n",
       "      <td>0.001232</td>\n",
       "      <td>0.01601</td>\n",
       "      <td>0.005542</td>\n",
       "      <td>4.12</td>\n",
       "      <td>524.0</td>\n",
       "      <td>370000.0</td>\n",
       "      <td>0.078015</td>\n",
       "    </tr>\n",
       "    <tr>\n",
       "      <th>3</th>\n",
       "      <td>1.0</td>\n",
       "      <td>Avon and Somerset Constabulary</td>\n",
       "      <td>-2.511927</td>\n",
       "      <td>51.409435</td>\n",
       "      <td>E01014399</td>\n",
       "      <td>Bath and North East Somerset 001A</td>\n",
       "      <td>Public order</td>\n",
       "      <td>Unable to prosecute suspect</td>\n",
       "      <td>2161.0</td>\n",
       "      <td>0.467376</td>\n",
       "      <td>...</td>\n",
       "      <td>0.0</td>\n",
       "      <td>0.00431</td>\n",
       "      <td>0.000616</td>\n",
       "      <td>0.001232</td>\n",
       "      <td>0.01601</td>\n",
       "      <td>0.005542</td>\n",
       "      <td>4.12</td>\n",
       "      <td>524.0</td>\n",
       "      <td>370000.0</td>\n",
       "      <td>0.078015</td>\n",
       "    </tr>\n",
       "    <tr>\n",
       "      <th>4</th>\n",
       "      <td>1.0</td>\n",
       "      <td>Avon and Somerset Constabulary</td>\n",
       "      <td>-2.511761</td>\n",
       "      <td>51.409966</td>\n",
       "      <td>E01014399</td>\n",
       "      <td>Bath and North East Somerset 001A</td>\n",
       "      <td>Violence and sexual offences</td>\n",
       "      <td>Unable to prosecute suspect</td>\n",
       "      <td>2161.0</td>\n",
       "      <td>0.467376</td>\n",
       "      <td>...</td>\n",
       "      <td>0.0</td>\n",
       "      <td>0.00431</td>\n",
       "      <td>0.000616</td>\n",
       "      <td>0.001232</td>\n",
       "      <td>0.01601</td>\n",
       "      <td>0.005542</td>\n",
       "      <td>4.12</td>\n",
       "      <td>524.0</td>\n",
       "      <td>370000.0</td>\n",
       "      <td>0.078015</td>\n",
       "    </tr>\n",
       "  </tbody>\n",
       "</table>\n",
       "<p>5 rows × 35 columns</p>\n",
       "</div>"
      ],
      "text/plain": [
       "   Month             Police_Jurisdiction  Longitude   Latitude  LSOA code  \\\n",
       "0    1.0  Avon and Somerset Constabulary  -2.515072  51.419357  E01014399   \n",
       "1    1.0  Avon and Somerset Constabulary  -2.494870  51.422276  E01014399   \n",
       "2    1.0  Avon and Somerset Constabulary  -2.494870  51.422276  E01014399   \n",
       "3    1.0  Avon and Somerset Constabulary  -2.511927  51.409435  E01014399   \n",
       "4    1.0  Avon and Somerset Constabulary  -2.511761  51.409966  E01014399   \n",
       "\n",
       "                           LSOA name                    Crime type  \\\n",
       "0  Bath and North East Somerset 001A                      Burglary   \n",
       "1  Bath and North East Somerset 001A     Criminal damage and arson   \n",
       "2  Bath and North East Somerset 001A     Criminal damage and arson   \n",
       "3  Bath and North East Somerset 001A                  Public order   \n",
       "4  Bath and North East Somerset 001A  Violence and sexual offences   \n",
       "\n",
       "         Last outcome category  Population  Proportion_Males  ...  \\\n",
       "0    Status update unavailable      2161.0          0.467376  ...   \n",
       "1    Status update unavailable      2161.0          0.467376  ...   \n",
       "2    Status update unavailable      2161.0          0.467376  ...   \n",
       "3  Unable to prosecute suspect      2161.0          0.467376  ...   \n",
       "4  Unable to prosecute suspect      2161.0          0.467376  ...   \n",
       "\n",
       "   APK Proportion  BAF Proportion  BCA Proportion  OXX Proportion  \\\n",
       "0             0.0         0.00431        0.000616        0.001232   \n",
       "1             0.0         0.00431        0.000616        0.001232   \n",
       "2             0.0         0.00431        0.000616        0.001232   \n",
       "3             0.0         0.00431        0.000616        0.001232   \n",
       "4             0.0         0.00431        0.000616        0.001232   \n",
       "\n",
       "   MIX Proportion  AAB Proportion  Area Sq Km  Population_Density  \\\n",
       "0         0.01601        0.005542        4.12               524.0   \n",
       "1         0.01601        0.005542        4.12               524.0   \n",
       "2         0.01601        0.005542        4.12               524.0   \n",
       "3         0.01601        0.005542        4.12               524.0   \n",
       "4         0.01601        0.005542        4.12               524.0   \n",
       "\n",
       "   Median_House_Price  Median_house_price_CAGR_1995-2021  \n",
       "0            370000.0                           0.078015  \n",
       "1            370000.0                           0.078015  \n",
       "2            370000.0                           0.078015  \n",
       "3            370000.0                           0.078015  \n",
       "4            370000.0                           0.078015  \n",
       "\n",
       "[5 rows x 35 columns]"
      ]
     },
     "execution_count": 201,
     "metadata": {},
     "output_type": "execute_result"
    }
   ],
   "source": [
    "# Checking first five rows\n",
    "df.head()"
   ]
  },
  {
   "cell_type": "code",
   "execution_count": 202,
   "id": "db4eb7bb",
   "metadata": {},
   "outputs": [
    {
     "data": {
      "text/plain": [
       "(4051546, 35)"
      ]
     },
     "execution_count": 202,
     "metadata": {},
     "output_type": "execute_result"
    }
   ],
   "source": [
    "# Checking the size\n",
    "df.shape"
   ]
  },
  {
   "cell_type": "markdown",
   "id": "21682751",
   "metadata": {},
   "source": [
    "Making sure we didn't introduce any null values:"
   ]
  },
  {
   "cell_type": "code",
   "execution_count": 203,
   "id": "fde4bc3e",
   "metadata": {},
   "outputs": [
    {
     "data": {
      "text/plain": [
       "Month                                  3722\n",
       "Police_Jurisdiction                    3722\n",
       "Longitude                              3722\n",
       "Latitude                               3722\n",
       "LSOA code                                 0\n",
       "LSOA name                              3722\n",
       "Crime type                             3722\n",
       "Last outcome category                  3722\n",
       "Population                             3722\n",
       "Proportion_Males                       3722\n",
       "Proportion_0-15                        3722\n",
       "Proportion_16-29                       3722\n",
       "Proportion_30-44                       3722\n",
       "Proportion_45-64                       3722\n",
       "Proportion_65+                         3722\n",
       "Proportion_0car_hhlds                  3722\n",
       "#_ppl_hhld                             3722\n",
       "Deprivation_Index                      3722\n",
       "Job_Seeker_Allowance_Proportion        3722\n",
       "FSM11to15Proportion                    3722\n",
       "FSM5to10Proportion                     3722\n",
       "WBR Proportion                         3722\n",
       "WAO Proportion                         3722\n",
       "ABD Proportion                         3722\n",
       "AIN Proportion                         3722\n",
       "APK Proportion                         3722\n",
       "BAF Proportion                         3722\n",
       "BCA Proportion                         3722\n",
       "OXX Proportion                         3722\n",
       "MIX Proportion                         3722\n",
       "AAB Proportion                         3722\n",
       "Area Sq Km                             3722\n",
       "Population_Density                     3722\n",
       "Median_House_Price                   317380\n",
       "Median_house_price_CAGR_1995-2021    317380\n",
       "dtype: int64"
      ]
     },
     "execution_count": 203,
     "metadata": {},
     "output_type": "execute_result"
    }
   ],
   "source": [
    "# Checking for nulls\n",
    "df.isnull().sum()"
   ]
  },
  {
   "cell_type": "markdown",
   "id": "5b230286",
   "metadata": {},
   "source": [
    "Let's look at the proportion of nulls in terms of percentages:"
   ]
  },
  {
   "cell_type": "code",
   "execution_count": 204,
   "id": "8db1e3ea",
   "metadata": {},
   "outputs": [
    {
     "name": "stdout",
     "output_type": "stream",
     "text": [
      "The percentage of null rows:  Month                                0.081253\n",
      "Police_Jurisdiction                  0.081253\n",
      "Longitude                            0.081253\n",
      "Latitude                             0.081253\n",
      "LSOA code                            0.000000\n",
      "LSOA name                            0.081253\n",
      "Crime type                           0.081253\n",
      "Last outcome category                0.081253\n",
      "Population                           0.081253\n",
      "Proportion_Males                     0.081253\n",
      "Proportion_0-15                      0.081253\n",
      "Proportion_16-29                     0.081253\n",
      "Proportion_30-44                     0.081253\n",
      "Proportion_45-64                     0.081253\n",
      "Proportion_65+                       0.081253\n",
      "Proportion_0car_hhlds                0.081253\n",
      "#_ppl_hhld                           0.081253\n",
      "Deprivation_Index                    0.081253\n",
      "Job_Seeker_Allowance_Proportion      0.081253\n",
      "FSM11to15Proportion                  0.081253\n",
      "FSM5to10Proportion                   0.081253\n",
      "WBR Proportion                       0.081253\n",
      "WAO Proportion                       0.081253\n",
      "ABD Proportion                       0.081253\n",
      "AIN Proportion                       0.081253\n",
      "APK Proportion                       0.081253\n",
      "BAF Proportion                       0.081253\n",
      "BCA Proportion                       0.081253\n",
      "OXX Proportion                       0.081253\n",
      "MIX Proportion                       0.081253\n",
      "AAB Proportion                       0.081253\n",
      "Area Sq Km                           0.081253\n",
      "Population_Density                   0.081253\n",
      "Median_House_Price                   6.928585\n",
      "Median_house_price_CAGR_1995-2021    6.928585\n",
      "dtype: float64\n"
     ]
    }
   ],
   "source": [
    "print(\"The percentage of null rows: \", df.isnull().sum() / len(df_crime) * 100)"
   ]
  },
  {
   "cell_type": "markdown",
   "id": "7db76f85",
   "metadata": {},
   "source": [
    "While 6.8% is not an unsignificant number, we believe that our dataset is large enough that we can remove these values."
   ]
  },
  {
   "cell_type": "code",
   "execution_count": 205,
   "id": "b660d7a0",
   "metadata": {},
   "outputs": [],
   "source": [
    "# Removing nulls\n",
    "df.dropna(inplace=True)"
   ]
  },
  {
   "cell_type": "markdown",
   "id": "65ca254e",
   "metadata": {},
   "source": [
    "Now we can move to the next dataset."
   ]
  },
  {
   "cell_type": "markdown",
   "id": "4a90e924",
   "metadata": {},
   "source": [
    "<a id='2j'></a>\n",
    "### 2j) Median Age"
   ]
  },
  {
   "cell_type": "markdown",
   "id": "a2521e4d",
   "metadata": {},
   "source": [
    "First, let's import the CSV file into a Pandas dataframe:"
   ]
  },
  {
   "cell_type": "code",
   "execution_count": 206,
   "id": "bf33b5d6",
   "metadata": {},
   "outputs": [],
   "source": [
    "# Importing the dataset\n",
    "df_medianage = pd.read_csv('data/Median Age Population Estimate.csv')"
   ]
  },
  {
   "cell_type": "markdown",
   "id": "98836e25",
   "metadata": {},
   "source": [
    "Then let's perform some basic checks:"
   ]
  },
  {
   "cell_type": "code",
   "execution_count": 207,
   "id": "69734c92",
   "metadata": {},
   "outputs": [
    {
     "data": {
      "text/html": [
       "<div>\n",
       "<style scoped>\n",
       "    .dataframe tbody tr th:only-of-type {\n",
       "        vertical-align: middle;\n",
       "    }\n",
       "\n",
       "    .dataframe tbody tr th {\n",
       "        vertical-align: top;\n",
       "    }\n",
       "\n",
       "    .dataframe thead th {\n",
       "        text-align: right;\n",
       "    }\n",
       "</style>\n",
       "<table border=\"1\" class=\"dataframe\">\n",
       "  <thead>\n",
       "    <tr style=\"text-align: right;\">\n",
       "      <th></th>\n",
       "      <th>LSOA_CODE_2011</th>\n",
       "      <th>LSO11ANM</th>\n",
       "      <th>Median Age</th>\n",
       "    </tr>\n",
       "  </thead>\n",
       "  <tbody>\n",
       "    <tr>\n",
       "      <th>0</th>\n",
       "      <td>E01020634</td>\n",
       "      <td>County Durham 001A</td>\n",
       "      <td>46.3</td>\n",
       "    </tr>\n",
       "    <tr>\n",
       "      <th>1</th>\n",
       "      <td>E01020635</td>\n",
       "      <td>County Durham 001B</td>\n",
       "      <td>47.5</td>\n",
       "    </tr>\n",
       "    <tr>\n",
       "      <th>2</th>\n",
       "      <td>E01020636</td>\n",
       "      <td>County Durham 001C</td>\n",
       "      <td>42.9</td>\n",
       "    </tr>\n",
       "    <tr>\n",
       "      <th>3</th>\n",
       "      <td>E01020654</td>\n",
       "      <td>County Durham 001D</td>\n",
       "      <td>44.9</td>\n",
       "    </tr>\n",
       "    <tr>\n",
       "      <th>4</th>\n",
       "      <td>E01020676</td>\n",
       "      <td>County Durham 001E</td>\n",
       "      <td>47.5</td>\n",
       "    </tr>\n",
       "  </tbody>\n",
       "</table>\n",
       "</div>"
      ],
      "text/plain": [
       "  LSOA_CODE_2011            LSO11ANM  Median Age\n",
       "0      E01020634  County Durham 001A        46.3\n",
       "1      E01020635  County Durham 001B        47.5\n",
       "2      E01020636  County Durham 001C        42.9\n",
       "3      E01020654  County Durham 001D        44.9\n",
       "4      E01020676  County Durham 001E        47.5"
      ]
     },
     "execution_count": 207,
     "metadata": {},
     "output_type": "execute_result"
    }
   ],
   "source": [
    "# Take a look at the first 5 rows\n",
    "df_medianage.head()"
   ]
  },
  {
   "cell_type": "code",
   "execution_count": 208,
   "id": "0b5c14bc",
   "metadata": {},
   "outputs": [
    {
     "data": {
      "text/plain": [
       "(34753, 3)"
      ]
     },
     "execution_count": 208,
     "metadata": {},
     "output_type": "execute_result"
    }
   ],
   "source": [
    "# look at the size of the dataset\n",
    "df_medianage.shape"
   ]
  },
  {
   "cell_type": "code",
   "execution_count": 209,
   "id": "d7d53519",
   "metadata": {},
   "outputs": [
    {
     "name": "stdout",
     "output_type": "stream",
     "text": [
      "<class 'pandas.core.frame.DataFrame'>\n",
      "RangeIndex: 34753 entries, 0 to 34752\n",
      "Data columns (total 3 columns):\n",
      " #   Column          Non-Null Count  Dtype  \n",
      "---  ------          --------------  -----  \n",
      " 0   LSOA_CODE_2011  34753 non-null  object \n",
      " 1   LSO11ANM        34753 non-null  object \n",
      " 2   Median Age      34753 non-null  float64\n",
      "dtypes: float64(1), object(2)\n",
      "memory usage: 814.6+ KB\n"
     ]
    }
   ],
   "source": [
    "# Check dtypes\n",
    "df_medianage.info()"
   ]
  },
  {
   "cell_type": "markdown",
   "id": "43de9e3d",
   "metadata": {},
   "source": [
    "Observations:\n",
    "\n",
    "* No concerns with the column with the age, it's already denoted as a float\n",
    "* Can drop the LSOA name column as it's a duplicate with our main dataset"
   ]
  },
  {
   "cell_type": "code",
   "execution_count": 210,
   "id": "ea06975b",
   "metadata": {},
   "outputs": [],
   "source": [
    "# Dropping the duplicate column\n",
    "df_medianage.drop(axis=0, columns='LSO11ANM', inplace=True)"
   ]
  },
  {
   "cell_type": "markdown",
   "id": "f6ff589d",
   "metadata": {},
   "source": [
    "Let's check for nulls and duplicates"
   ]
  },
  {
   "cell_type": "code",
   "execution_count": 211,
   "id": "9913a3c8",
   "metadata": {},
   "outputs": [
    {
     "data": {
      "text/plain": [
       "LSOA_CODE_2011    0\n",
       "Median Age        0\n",
       "dtype: int64"
      ]
     },
     "execution_count": 211,
     "metadata": {},
     "output_type": "execute_result"
    }
   ],
   "source": [
    "# Checking nulls\n",
    "df_medianage.isnull().sum()"
   ]
  },
  {
   "cell_type": "code",
   "execution_count": 212,
   "id": "29d958ef",
   "metadata": {},
   "outputs": [
    {
     "data": {
      "text/plain": [
       "0"
      ]
     },
     "execution_count": 212,
     "metadata": {},
     "output_type": "execute_result"
    }
   ],
   "source": [
    "# Checking duplicates\n",
    "df_medianage.duplicated().sum()"
   ]
  },
  {
   "cell_type": "markdown",
   "id": "c9cac1e8",
   "metadata": {},
   "source": [
    "This looks great, now we can move to the merging stage:"
   ]
  },
  {
   "cell_type": "code",
   "execution_count": 213,
   "id": "3e49789f",
   "metadata": {},
   "outputs": [],
   "source": [
    "# Merging with the main dataset based on the neighborhood code\n",
    "df = df.merge(df_medianage, how='outer', left_on='LSOA code', right_on='LSOA_CODE_2011')"
   ]
  },
  {
   "cell_type": "code",
   "execution_count": 214,
   "id": "6e6e66a0",
   "metadata": {},
   "outputs": [],
   "source": [
    "# Dropping the extra code column\n",
    "df.drop(axis=0, columns='LSOA_CODE_2011', inplace=True)"
   ]
  },
  {
   "cell_type": "markdown",
   "id": "cc23f757",
   "metadata": {},
   "source": [
    "Checking the main dataset:"
   ]
  },
  {
   "cell_type": "code",
   "execution_count": 215,
   "id": "2ca865df",
   "metadata": {},
   "outputs": [
    {
     "data": {
      "text/plain": [
       "(3736323, 36)"
      ]
     },
     "execution_count": 215,
     "metadata": {},
     "output_type": "execute_result"
    }
   ],
   "source": [
    "# Checking the size\n",
    "df.shape"
   ]
  },
  {
   "cell_type": "code",
   "execution_count": 216,
   "id": "d97e4a3a",
   "metadata": {},
   "outputs": [
    {
     "data": {
      "text/html": [
       "<div>\n",
       "<style scoped>\n",
       "    .dataframe tbody tr th:only-of-type {\n",
       "        vertical-align: middle;\n",
       "    }\n",
       "\n",
       "    .dataframe tbody tr th {\n",
       "        vertical-align: top;\n",
       "    }\n",
       "\n",
       "    .dataframe thead th {\n",
       "        text-align: right;\n",
       "    }\n",
       "</style>\n",
       "<table border=\"1\" class=\"dataframe\">\n",
       "  <thead>\n",
       "    <tr style=\"text-align: right;\">\n",
       "      <th></th>\n",
       "      <th>Month</th>\n",
       "      <th>Police_Jurisdiction</th>\n",
       "      <th>Longitude</th>\n",
       "      <th>Latitude</th>\n",
       "      <th>LSOA code</th>\n",
       "      <th>LSOA name</th>\n",
       "      <th>Crime type</th>\n",
       "      <th>Last outcome category</th>\n",
       "      <th>Population</th>\n",
       "      <th>Proportion_Males</th>\n",
       "      <th>...</th>\n",
       "      <th>BAF Proportion</th>\n",
       "      <th>BCA Proportion</th>\n",
       "      <th>OXX Proportion</th>\n",
       "      <th>MIX Proportion</th>\n",
       "      <th>AAB Proportion</th>\n",
       "      <th>Area Sq Km</th>\n",
       "      <th>Population_Density</th>\n",
       "      <th>Median_House_Price</th>\n",
       "      <th>Median_house_price_CAGR_1995-2021</th>\n",
       "      <th>Median Age</th>\n",
       "    </tr>\n",
       "  </thead>\n",
       "  <tbody>\n",
       "    <tr>\n",
       "      <th>0</th>\n",
       "      <td>1.0</td>\n",
       "      <td>Avon and Somerset Constabulary</td>\n",
       "      <td>-2.515072</td>\n",
       "      <td>51.419357</td>\n",
       "      <td>E01014399</td>\n",
       "      <td>Bath and North East Somerset 001A</td>\n",
       "      <td>Burglary</td>\n",
       "      <td>Status update unavailable</td>\n",
       "      <td>2161.0</td>\n",
       "      <td>0.467376</td>\n",
       "      <td>...</td>\n",
       "      <td>0.00431</td>\n",
       "      <td>0.000616</td>\n",
       "      <td>0.001232</td>\n",
       "      <td>0.01601</td>\n",
       "      <td>0.005542</td>\n",
       "      <td>4.12</td>\n",
       "      <td>524.0</td>\n",
       "      <td>370000.0</td>\n",
       "      <td>0.078015</td>\n",
       "      <td>41.6</td>\n",
       "    </tr>\n",
       "    <tr>\n",
       "      <th>1</th>\n",
       "      <td>1.0</td>\n",
       "      <td>Avon and Somerset Constabulary</td>\n",
       "      <td>-2.494870</td>\n",
       "      <td>51.422276</td>\n",
       "      <td>E01014399</td>\n",
       "      <td>Bath and North East Somerset 001A</td>\n",
       "      <td>Criminal damage and arson</td>\n",
       "      <td>Status update unavailable</td>\n",
       "      <td>2161.0</td>\n",
       "      <td>0.467376</td>\n",
       "      <td>...</td>\n",
       "      <td>0.00431</td>\n",
       "      <td>0.000616</td>\n",
       "      <td>0.001232</td>\n",
       "      <td>0.01601</td>\n",
       "      <td>0.005542</td>\n",
       "      <td>4.12</td>\n",
       "      <td>524.0</td>\n",
       "      <td>370000.0</td>\n",
       "      <td>0.078015</td>\n",
       "      <td>41.6</td>\n",
       "    </tr>\n",
       "    <tr>\n",
       "      <th>2</th>\n",
       "      <td>1.0</td>\n",
       "      <td>Avon and Somerset Constabulary</td>\n",
       "      <td>-2.494870</td>\n",
       "      <td>51.422276</td>\n",
       "      <td>E01014399</td>\n",
       "      <td>Bath and North East Somerset 001A</td>\n",
       "      <td>Criminal damage and arson</td>\n",
       "      <td>Status update unavailable</td>\n",
       "      <td>2161.0</td>\n",
       "      <td>0.467376</td>\n",
       "      <td>...</td>\n",
       "      <td>0.00431</td>\n",
       "      <td>0.000616</td>\n",
       "      <td>0.001232</td>\n",
       "      <td>0.01601</td>\n",
       "      <td>0.005542</td>\n",
       "      <td>4.12</td>\n",
       "      <td>524.0</td>\n",
       "      <td>370000.0</td>\n",
       "      <td>0.078015</td>\n",
       "      <td>41.6</td>\n",
       "    </tr>\n",
       "    <tr>\n",
       "      <th>3</th>\n",
       "      <td>1.0</td>\n",
       "      <td>Avon and Somerset Constabulary</td>\n",
       "      <td>-2.511927</td>\n",
       "      <td>51.409435</td>\n",
       "      <td>E01014399</td>\n",
       "      <td>Bath and North East Somerset 001A</td>\n",
       "      <td>Public order</td>\n",
       "      <td>Unable to prosecute suspect</td>\n",
       "      <td>2161.0</td>\n",
       "      <td>0.467376</td>\n",
       "      <td>...</td>\n",
       "      <td>0.00431</td>\n",
       "      <td>0.000616</td>\n",
       "      <td>0.001232</td>\n",
       "      <td>0.01601</td>\n",
       "      <td>0.005542</td>\n",
       "      <td>4.12</td>\n",
       "      <td>524.0</td>\n",
       "      <td>370000.0</td>\n",
       "      <td>0.078015</td>\n",
       "      <td>41.6</td>\n",
       "    </tr>\n",
       "    <tr>\n",
       "      <th>4</th>\n",
       "      <td>1.0</td>\n",
       "      <td>Avon and Somerset Constabulary</td>\n",
       "      <td>-2.511761</td>\n",
       "      <td>51.409966</td>\n",
       "      <td>E01014399</td>\n",
       "      <td>Bath and North East Somerset 001A</td>\n",
       "      <td>Violence and sexual offences</td>\n",
       "      <td>Unable to prosecute suspect</td>\n",
       "      <td>2161.0</td>\n",
       "      <td>0.467376</td>\n",
       "      <td>...</td>\n",
       "      <td>0.00431</td>\n",
       "      <td>0.000616</td>\n",
       "      <td>0.001232</td>\n",
       "      <td>0.01601</td>\n",
       "      <td>0.005542</td>\n",
       "      <td>4.12</td>\n",
       "      <td>524.0</td>\n",
       "      <td>370000.0</td>\n",
       "      <td>0.078015</td>\n",
       "      <td>41.6</td>\n",
       "    </tr>\n",
       "  </tbody>\n",
       "</table>\n",
       "<p>5 rows × 36 columns</p>\n",
       "</div>"
      ],
      "text/plain": [
       "   Month             Police_Jurisdiction  Longitude   Latitude  LSOA code  \\\n",
       "0    1.0  Avon and Somerset Constabulary  -2.515072  51.419357  E01014399   \n",
       "1    1.0  Avon and Somerset Constabulary  -2.494870  51.422276  E01014399   \n",
       "2    1.0  Avon and Somerset Constabulary  -2.494870  51.422276  E01014399   \n",
       "3    1.0  Avon and Somerset Constabulary  -2.511927  51.409435  E01014399   \n",
       "4    1.0  Avon and Somerset Constabulary  -2.511761  51.409966  E01014399   \n",
       "\n",
       "                           LSOA name                    Crime type  \\\n",
       "0  Bath and North East Somerset 001A                      Burglary   \n",
       "1  Bath and North East Somerset 001A     Criminal damage and arson   \n",
       "2  Bath and North East Somerset 001A     Criminal damage and arson   \n",
       "3  Bath and North East Somerset 001A                  Public order   \n",
       "4  Bath and North East Somerset 001A  Violence and sexual offences   \n",
       "\n",
       "         Last outcome category  Population  Proportion_Males  ...  \\\n",
       "0    Status update unavailable      2161.0          0.467376  ...   \n",
       "1    Status update unavailable      2161.0          0.467376  ...   \n",
       "2    Status update unavailable      2161.0          0.467376  ...   \n",
       "3  Unable to prosecute suspect      2161.0          0.467376  ...   \n",
       "4  Unable to prosecute suspect      2161.0          0.467376  ...   \n",
       "\n",
       "   BAF Proportion  BCA Proportion  OXX Proportion  MIX Proportion  \\\n",
       "0         0.00431        0.000616        0.001232         0.01601   \n",
       "1         0.00431        0.000616        0.001232         0.01601   \n",
       "2         0.00431        0.000616        0.001232         0.01601   \n",
       "3         0.00431        0.000616        0.001232         0.01601   \n",
       "4         0.00431        0.000616        0.001232         0.01601   \n",
       "\n",
       "   AAB Proportion  Area Sq Km  Population_Density  Median_House_Price  \\\n",
       "0        0.005542        4.12               524.0            370000.0   \n",
       "1        0.005542        4.12               524.0            370000.0   \n",
       "2        0.005542        4.12               524.0            370000.0   \n",
       "3        0.005542        4.12               524.0            370000.0   \n",
       "4        0.005542        4.12               524.0            370000.0   \n",
       "\n",
       "   Median_house_price_CAGR_1995-2021  Median Age  \n",
       "0                           0.078015        41.6  \n",
       "1                           0.078015        41.6  \n",
       "2                           0.078015        41.6  \n",
       "3                           0.078015        41.6  \n",
       "4                           0.078015        41.6  \n",
       "\n",
       "[5 rows x 36 columns]"
      ]
     },
     "execution_count": 216,
     "metadata": {},
     "output_type": "execute_result"
    }
   ],
   "source": [
    "# Checking the first few rows\n",
    "df.head()"
   ]
  },
  {
   "cell_type": "code",
   "execution_count": 217,
   "id": "f1e25059",
   "metadata": {},
   "outputs": [
    {
     "data": {
      "text/plain": [
       "Month                                5879\n",
       "Police_Jurisdiction                  5879\n",
       "Longitude                            5879\n",
       "Latitude                             5879\n",
       "LSOA code                            5879\n",
       "LSOA name                            5879\n",
       "Crime type                           5879\n",
       "Last outcome category                5879\n",
       "Population                           5879\n",
       "Proportion_Males                     5879\n",
       "Proportion_0-15                      5879\n",
       "Proportion_16-29                     5879\n",
       "Proportion_30-44                     5879\n",
       "Proportion_45-64                     5879\n",
       "Proportion_65+                       5879\n",
       "Proportion_0car_hhlds                5879\n",
       "#_ppl_hhld                           5879\n",
       "Deprivation_Index                    5879\n",
       "Job_Seeker_Allowance_Proportion      5879\n",
       "FSM11to15Proportion                  5879\n",
       "FSM5to10Proportion                   5879\n",
       "WBR Proportion                       5879\n",
       "WAO Proportion                       5879\n",
       "ABD Proportion                       5879\n",
       "AIN Proportion                       5879\n",
       "APK Proportion                       5879\n",
       "BAF Proportion                       5879\n",
       "BCA Proportion                       5879\n",
       "OXX Proportion                       5879\n",
       "MIX Proportion                       5879\n",
       "AAB Proportion                       5879\n",
       "Area Sq Km                           5879\n",
       "Population_Density                   5879\n",
       "Median_House_Price                   5879\n",
       "Median_house_price_CAGR_1995-2021    5879\n",
       "Median Age                              0\n",
       "dtype: int64"
      ]
     },
     "execution_count": 217,
     "metadata": {},
     "output_type": "execute_result"
    }
   ],
   "source": [
    "# Checking for nulls\n",
    "df.isna().sum()"
   ]
  },
  {
   "cell_type": "markdown",
   "id": "23985075",
   "metadata": {},
   "source": [
    "Relatively small values so we just drop them"
   ]
  },
  {
   "cell_type": "code",
   "execution_count": 218,
   "id": "4097db56",
   "metadata": {},
   "outputs": [],
   "source": [
    "# Dropping nulls\n",
    "df.dropna(inplace=True)"
   ]
  },
  {
   "cell_type": "markdown",
   "id": "1d9065e4",
   "metadata": {},
   "source": [
    "Finally let's check that all information is the right dtype:"
   ]
  },
  {
   "cell_type": "code",
   "execution_count": 219,
   "id": "164f87ac",
   "metadata": {},
   "outputs": [
    {
     "name": "stdout",
     "output_type": "stream",
     "text": [
      "<class 'pandas.core.frame.DataFrame'>\n",
      "Int64Index: 3730444 entries, 0 to 3730443\n",
      "Data columns (total 36 columns):\n",
      " #   Column                             Dtype  \n",
      "---  ------                             -----  \n",
      " 0   Month                              float64\n",
      " 1   Police_Jurisdiction                object \n",
      " 2   Longitude                          float64\n",
      " 3   Latitude                           float64\n",
      " 4   LSOA code                          object \n",
      " 5   LSOA name                          object \n",
      " 6   Crime type                         object \n",
      " 7   Last outcome category              object \n",
      " 8   Population                         float64\n",
      " 9   Proportion_Males                   float64\n",
      " 10  Proportion_0-15                    float64\n",
      " 11  Proportion_16-29                   float64\n",
      " 12  Proportion_30-44                   float64\n",
      " 13  Proportion_45-64                   float64\n",
      " 14  Proportion_65+                     float64\n",
      " 15  Proportion_0car_hhlds              float64\n",
      " 16  #_ppl_hhld                         float64\n",
      " 17  Deprivation_Index                  float64\n",
      " 18  Job_Seeker_Allowance_Proportion    float64\n",
      " 19  FSM11to15Proportion                float64\n",
      " 20  FSM5to10Proportion                 float64\n",
      " 21  WBR Proportion                     float64\n",
      " 22  WAO Proportion                     float64\n",
      " 23  ABD Proportion                     float64\n",
      " 24  AIN Proportion                     float64\n",
      " 25  APK Proportion                     float64\n",
      " 26  BAF Proportion                     float64\n",
      " 27  BCA Proportion                     float64\n",
      " 28  OXX Proportion                     float64\n",
      " 29  MIX Proportion                     float64\n",
      " 30  AAB Proportion                     float64\n",
      " 31  Area Sq Km                         float64\n",
      " 32  Population_Density                 float64\n",
      " 33  Median_House_Price                 float64\n",
      " 34  Median_house_price_CAGR_1995-2021  float64\n",
      " 35  Median Age                         float64\n",
      "dtypes: float64(31), object(5)\n",
      "memory usage: 1.0+ GB\n"
     ]
    }
   ],
   "source": [
    "# Checking the type of each column\n",
    "df.info()"
   ]
  },
  {
   "cell_type": "markdown",
   "id": "0e883804",
   "metadata": {},
   "source": [
    "Everything is good, now let's move to our last dataset."
   ]
  },
  {
   "cell_type": "markdown",
   "id": "f38b8e07",
   "metadata": {},
   "source": [
    "<a id='2k'></a>\n",
    "### 2k) Religion"
   ]
  },
  {
   "cell_type": "markdown",
   "id": "acba8d9f",
   "metadata": {},
   "source": [
    "First, let's import the CSV dataset into a dataframe: "
   ]
  },
  {
   "cell_type": "code",
   "execution_count": 220,
   "id": "9a256dc3",
   "metadata": {},
   "outputs": [],
   "source": [
    "# Importing the dataset\n",
    "df_religion = pd.read_csv('data/Religion.csv')"
   ]
  },
  {
   "cell_type": "markdown",
   "id": "94c67283",
   "metadata": {},
   "source": [
    "Then let's perform some basic checks:"
   ]
  },
  {
   "cell_type": "code",
   "execution_count": 221,
   "id": "a0dec941",
   "metadata": {},
   "outputs": [
    {
     "data": {
      "text/html": [
       "<div>\n",
       "<style scoped>\n",
       "    .dataframe tbody tr th:only-of-type {\n",
       "        vertical-align: middle;\n",
       "    }\n",
       "\n",
       "    .dataframe tbody tr th {\n",
       "        vertical-align: top;\n",
       "    }\n",
       "\n",
       "    .dataframe thead th {\n",
       "        text-align: right;\n",
       "    }\n",
       "</style>\n",
       "<table border=\"1\" class=\"dataframe\">\n",
       "  <thead>\n",
       "    <tr style=\"text-align: right;\">\n",
       "      <th></th>\n",
       "      <th>LSOA Code</th>\n",
       "      <th>LSOA Name</th>\n",
       "      <th>All categories: Religion</th>\n",
       "      <th>Religion: total</th>\n",
       "      <th>Christian</th>\n",
       "      <th>Buddhist</th>\n",
       "      <th>Hindu</th>\n",
       "      <th>Jewish</th>\n",
       "      <th>Muslim (Islam)</th>\n",
       "      <th>Sikh</th>\n",
       "      <th>...</th>\n",
       "      <th>No religion: Total</th>\n",
       "      <th>No religion: No religion</th>\n",
       "      <th>No religion: Agnostic</th>\n",
       "      <th>No religion: Atheist</th>\n",
       "      <th>No religion: Free Thinker</th>\n",
       "      <th>No religion: Heavy Metal</th>\n",
       "      <th>No religion: Humanist</th>\n",
       "      <th>No religion: Jedi Knight</th>\n",
       "      <th>No religion: Realist</th>\n",
       "      <th>Religion not stated</th>\n",
       "    </tr>\n",
       "  </thead>\n",
       "  <tbody>\n",
       "    <tr>\n",
       "      <th>0</th>\n",
       "      <td>E01020634</td>\n",
       "      <td>County Durham 001A</td>\n",
       "      <td>1,563</td>\n",
       "      <td>1,148</td>\n",
       "      <td>1,140</td>\n",
       "      <td>1</td>\n",
       "      <td>0</td>\n",
       "      <td>1</td>\n",
       "      <td>2</td>\n",
       "      <td>0</td>\n",
       "      <td>...</td>\n",
       "      <td>336</td>\n",
       "      <td>331</td>\n",
       "      <td>1</td>\n",
       "      <td>1</td>\n",
       "      <td>0</td>\n",
       "      <td>0</td>\n",
       "      <td>2</td>\n",
       "      <td>1</td>\n",
       "      <td>0</td>\n",
       "      <td>79</td>\n",
       "    </tr>\n",
       "    <tr>\n",
       "      <th>1</th>\n",
       "      <td>E01020635</td>\n",
       "      <td>County Durham 001B</td>\n",
       "      <td>1,379</td>\n",
       "      <td>945</td>\n",
       "      <td>938</td>\n",
       "      <td>2</td>\n",
       "      <td>0</td>\n",
       "      <td>0</td>\n",
       "      <td>0</td>\n",
       "      <td>0</td>\n",
       "      <td>...</td>\n",
       "      <td>350</td>\n",
       "      <td>346</td>\n",
       "      <td>1</td>\n",
       "      <td>0</td>\n",
       "      <td>0</td>\n",
       "      <td>0</td>\n",
       "      <td>1</td>\n",
       "      <td>2</td>\n",
       "      <td>0</td>\n",
       "      <td>84</td>\n",
       "    </tr>\n",
       "    <tr>\n",
       "      <th>2</th>\n",
       "      <td>E01020636</td>\n",
       "      <td>County Durham 001C</td>\n",
       "      <td>1,698</td>\n",
       "      <td>1,237</td>\n",
       "      <td>1,223</td>\n",
       "      <td>4</td>\n",
       "      <td>3</td>\n",
       "      <td>0</td>\n",
       "      <td>5</td>\n",
       "      <td>0</td>\n",
       "      <td>...</td>\n",
       "      <td>355</td>\n",
       "      <td>350</td>\n",
       "      <td>0</td>\n",
       "      <td>1</td>\n",
       "      <td>0</td>\n",
       "      <td>0</td>\n",
       "      <td>0</td>\n",
       "      <td>4</td>\n",
       "      <td>0</td>\n",
       "      <td>106</td>\n",
       "    </tr>\n",
       "    <tr>\n",
       "      <th>3</th>\n",
       "      <td>E01020654</td>\n",
       "      <td>County Durham 001D</td>\n",
       "      <td>1,746</td>\n",
       "      <td>1,320</td>\n",
       "      <td>1,312</td>\n",
       "      <td>4</td>\n",
       "      <td>0</td>\n",
       "      <td>1</td>\n",
       "      <td>0</td>\n",
       "      <td>0</td>\n",
       "      <td>...</td>\n",
       "      <td>328</td>\n",
       "      <td>322</td>\n",
       "      <td>0</td>\n",
       "      <td>0</td>\n",
       "      <td>0</td>\n",
       "      <td>0</td>\n",
       "      <td>2</td>\n",
       "      <td>4</td>\n",
       "      <td>0</td>\n",
       "      <td>98</td>\n",
       "    </tr>\n",
       "    <tr>\n",
       "      <th>4</th>\n",
       "      <td>E01020676</td>\n",
       "      <td>County Durham 001E</td>\n",
       "      <td>1,514</td>\n",
       "      <td>1,105</td>\n",
       "      <td>1,090</td>\n",
       "      <td>2</td>\n",
       "      <td>0</td>\n",
       "      <td>1</td>\n",
       "      <td>3</td>\n",
       "      <td>0</td>\n",
       "      <td>...</td>\n",
       "      <td>317</td>\n",
       "      <td>308</td>\n",
       "      <td>0</td>\n",
       "      <td>0</td>\n",
       "      <td>0</td>\n",
       "      <td>0</td>\n",
       "      <td>0</td>\n",
       "      <td>9</td>\n",
       "      <td>0</td>\n",
       "      <td>92</td>\n",
       "    </tr>\n",
       "  </tbody>\n",
       "</table>\n",
       "<p>5 rows × 62 columns</p>\n",
       "</div>"
      ],
      "text/plain": [
       "   LSOA Code           LSOA Name All categories: Religion Religion: total  \\\n",
       "0  E01020634  County Durham 001A                    1,563           1,148   \n",
       "1  E01020635  County Durham 001B                    1,379             945   \n",
       "2  E01020636  County Durham 001C                    1,698           1,237   \n",
       "3  E01020654  County Durham 001D                    1,746           1,320   \n",
       "4  E01020676  County Durham 001E                    1,514           1,105   \n",
       "\n",
       "  Christian  Buddhist Hindu Jewish Muslim (Islam)  Sikh  ...  \\\n",
       "0     1,140         1     0      1              2     0  ...   \n",
       "1       938         2     0      0              0     0  ...   \n",
       "2     1,223         4     3      0              5     0  ...   \n",
       "3     1,312         4     0      1              0     0  ...   \n",
       "4     1,090         2     0      1              3     0  ...   \n",
       "\n",
       "   No religion: Total  No religion: No religion  No religion: Agnostic  \\\n",
       "0                 336                       331                      1   \n",
       "1                 350                       346                      1   \n",
       "2                 355                       350                      0   \n",
       "3                 328                       322                      0   \n",
       "4                 317                       308                      0   \n",
       "\n",
       "   No religion: Atheist  No religion: Free Thinker  No religion: Heavy Metal  \\\n",
       "0                     1                          0                         0   \n",
       "1                     0                          0                         0   \n",
       "2                     1                          0                         0   \n",
       "3                     0                          0                         0   \n",
       "4                     0                          0                         0   \n",
       "\n",
       "   No religion: Humanist  No religion: Jedi Knight  No religion: Realist  \\\n",
       "0                      2                         1                     0   \n",
       "1                      1                         2                     0   \n",
       "2                      0                         4                     0   \n",
       "3                      2                         4                     0   \n",
       "4                      0                         9                     0   \n",
       "\n",
       "   Religion not stated  \n",
       "0                   79  \n",
       "1                   84  \n",
       "2                  106  \n",
       "3                   98  \n",
       "4                   92  \n",
       "\n",
       "[5 rows x 62 columns]"
      ]
     },
     "execution_count": 221,
     "metadata": {},
     "output_type": "execute_result"
    }
   ],
   "source": [
    "# Take a look at the first 5 rows\n",
    "df_religion.head()"
   ]
  },
  {
   "cell_type": "code",
   "execution_count": 222,
   "id": "414b8622",
   "metadata": {},
   "outputs": [
    {
     "data": {
      "text/plain": [
       "(34753, 62)"
      ]
     },
     "execution_count": 222,
     "metadata": {},
     "output_type": "execute_result"
    }
   ],
   "source": [
    "# look at the size of the dataset\n",
    "df_religion.shape"
   ]
  },
  {
   "cell_type": "markdown",
   "id": "307c4ff3",
   "metadata": {},
   "source": [
    "Observations:\n",
    "* We see that there are commas in some columns\n",
    "* `Religion: total` column refers to the number of people who are religious; we can safely assume that the difference with the total number of people are the non-religious people\n",
    "* There are 60 different religious affiliations so we will group these into a dichotomous variable: religious or not for the purposes of our analysis (this will also help with comparisons)"
   ]
  },
  {
   "cell_type": "markdown",
   "id": "60ddbe52",
   "metadata": {},
   "source": [
    "Let's start by removing the comma and casting affected rows as integers:"
   ]
  },
  {
   "cell_type": "code",
   "execution_count": 223,
   "id": "71c23d64",
   "metadata": {},
   "outputs": [],
   "source": [
    "# Removing the comma\n",
    "df_religion.replace(',','', regex=True, inplace=True)"
   ]
  },
  {
   "cell_type": "code",
   "execution_count": 224,
   "id": "8c9e04fc",
   "metadata": {},
   "outputs": [],
   "source": [
    "# Casting as integer \n",
    "df_religion['All categories: Religion'] = df_religion['All categories: Religion'].astype(int)"
   ]
  },
  {
   "cell_type": "code",
   "execution_count": 225,
   "id": "e6bae87e",
   "metadata": {},
   "outputs": [],
   "source": [
    "# Casting as integer \n",
    "df_religion['Religion: total'] = df_religion['Religion: total'].astype(int)"
   ]
  },
  {
   "cell_type": "markdown",
   "id": "e0a3feee",
   "metadata": {},
   "source": [
    "Now let's check for nulls and duplicates:"
   ]
  },
  {
   "cell_type": "code",
   "execution_count": 226,
   "id": "c9d2c362",
   "metadata": {
    "scrolled": true
   },
   "outputs": [
    {
     "data": {
      "text/plain": [
       "LSOA Code                   0\n",
       "LSOA Name                   0\n",
       "All categories: Religion    0\n",
       "Religion: total             0\n",
       "Christian                   0\n",
       "                           ..\n",
       "No religion: Heavy Metal    0\n",
       "No religion: Humanist       0\n",
       "No religion: Jedi Knight    0\n",
       "No religion: Realist        0\n",
       "Religion not stated         0\n",
       "Length: 62, dtype: int64"
      ]
     },
     "execution_count": 226,
     "metadata": {},
     "output_type": "execute_result"
    }
   ],
   "source": [
    "# Checking for nulls\n",
    "df_religion.isnull().sum()"
   ]
  },
  {
   "cell_type": "code",
   "execution_count": 227,
   "id": "7076d70d",
   "metadata": {},
   "outputs": [
    {
     "data": {
      "text/plain": [
       "0"
      ]
     },
     "execution_count": 227,
     "metadata": {},
     "output_type": "execute_result"
    }
   ],
   "source": [
    "# Checking for duplicates\n",
    "df_religion.duplicated().sum()"
   ]
  },
  {
   "cell_type": "markdown",
   "id": "1cdae506",
   "metadata": {},
   "source": [
    "Now let's calculate the proportion of Religious people:"
   ]
  },
  {
   "cell_type": "code",
   "execution_count": 228,
   "id": "9996464b",
   "metadata": {},
   "outputs": [],
   "source": [
    "# Calculation the proportion\n",
    "df_religion['Proportion of Religious'] = df_religion['Religion: total'] / df_religion['All categories: Religion']"
   ]
  },
  {
   "cell_type": "code",
   "execution_count": 229,
   "id": "c9d24857",
   "metadata": {},
   "outputs": [
    {
     "data": {
      "text/html": [
       "<div>\n",
       "<style scoped>\n",
       "    .dataframe tbody tr th:only-of-type {\n",
       "        vertical-align: middle;\n",
       "    }\n",
       "\n",
       "    .dataframe tbody tr th {\n",
       "        vertical-align: top;\n",
       "    }\n",
       "\n",
       "    .dataframe thead th {\n",
       "        text-align: right;\n",
       "    }\n",
       "</style>\n",
       "<table border=\"1\" class=\"dataframe\">\n",
       "  <thead>\n",
       "    <tr style=\"text-align: right;\">\n",
       "      <th></th>\n",
       "      <th>LSOA Code</th>\n",
       "      <th>LSOA Name</th>\n",
       "      <th>All categories: Religion</th>\n",
       "      <th>Religion: total</th>\n",
       "      <th>Christian</th>\n",
       "      <th>Buddhist</th>\n",
       "      <th>Hindu</th>\n",
       "      <th>Jewish</th>\n",
       "      <th>Muslim (Islam)</th>\n",
       "      <th>Sikh</th>\n",
       "      <th>...</th>\n",
       "      <th>No religion: No religion</th>\n",
       "      <th>No religion: Agnostic</th>\n",
       "      <th>No religion: Atheist</th>\n",
       "      <th>No religion: Free Thinker</th>\n",
       "      <th>No religion: Heavy Metal</th>\n",
       "      <th>No religion: Humanist</th>\n",
       "      <th>No religion: Jedi Knight</th>\n",
       "      <th>No religion: Realist</th>\n",
       "      <th>Religion not stated</th>\n",
       "      <th>Proportion of Religious</th>\n",
       "    </tr>\n",
       "  </thead>\n",
       "  <tbody>\n",
       "    <tr>\n",
       "      <th>0</th>\n",
       "      <td>E01020634</td>\n",
       "      <td>County Durham 001A</td>\n",
       "      <td>1563</td>\n",
       "      <td>1148</td>\n",
       "      <td>1140</td>\n",
       "      <td>1</td>\n",
       "      <td>0</td>\n",
       "      <td>1</td>\n",
       "      <td>2</td>\n",
       "      <td>0</td>\n",
       "      <td>...</td>\n",
       "      <td>331</td>\n",
       "      <td>1</td>\n",
       "      <td>1</td>\n",
       "      <td>0</td>\n",
       "      <td>0</td>\n",
       "      <td>2</td>\n",
       "      <td>1</td>\n",
       "      <td>0</td>\n",
       "      <td>79</td>\n",
       "      <td>0.734485</td>\n",
       "    </tr>\n",
       "    <tr>\n",
       "      <th>1</th>\n",
       "      <td>E01020635</td>\n",
       "      <td>County Durham 001B</td>\n",
       "      <td>1379</td>\n",
       "      <td>945</td>\n",
       "      <td>938</td>\n",
       "      <td>2</td>\n",
       "      <td>0</td>\n",
       "      <td>0</td>\n",
       "      <td>0</td>\n",
       "      <td>0</td>\n",
       "      <td>...</td>\n",
       "      <td>346</td>\n",
       "      <td>1</td>\n",
       "      <td>0</td>\n",
       "      <td>0</td>\n",
       "      <td>0</td>\n",
       "      <td>1</td>\n",
       "      <td>2</td>\n",
       "      <td>0</td>\n",
       "      <td>84</td>\n",
       "      <td>0.685279</td>\n",
       "    </tr>\n",
       "    <tr>\n",
       "      <th>2</th>\n",
       "      <td>E01020636</td>\n",
       "      <td>County Durham 001C</td>\n",
       "      <td>1698</td>\n",
       "      <td>1237</td>\n",
       "      <td>1223</td>\n",
       "      <td>4</td>\n",
       "      <td>3</td>\n",
       "      <td>0</td>\n",
       "      <td>5</td>\n",
       "      <td>0</td>\n",
       "      <td>...</td>\n",
       "      <td>350</td>\n",
       "      <td>0</td>\n",
       "      <td>1</td>\n",
       "      <td>0</td>\n",
       "      <td>0</td>\n",
       "      <td>0</td>\n",
       "      <td>4</td>\n",
       "      <td>0</td>\n",
       "      <td>106</td>\n",
       "      <td>0.728504</td>\n",
       "    </tr>\n",
       "    <tr>\n",
       "      <th>3</th>\n",
       "      <td>E01020654</td>\n",
       "      <td>County Durham 001D</td>\n",
       "      <td>1746</td>\n",
       "      <td>1320</td>\n",
       "      <td>1312</td>\n",
       "      <td>4</td>\n",
       "      <td>0</td>\n",
       "      <td>1</td>\n",
       "      <td>0</td>\n",
       "      <td>0</td>\n",
       "      <td>...</td>\n",
       "      <td>322</td>\n",
       "      <td>0</td>\n",
       "      <td>0</td>\n",
       "      <td>0</td>\n",
       "      <td>0</td>\n",
       "      <td>2</td>\n",
       "      <td>4</td>\n",
       "      <td>0</td>\n",
       "      <td>98</td>\n",
       "      <td>0.756014</td>\n",
       "    </tr>\n",
       "    <tr>\n",
       "      <th>4</th>\n",
       "      <td>E01020676</td>\n",
       "      <td>County Durham 001E</td>\n",
       "      <td>1514</td>\n",
       "      <td>1105</td>\n",
       "      <td>1090</td>\n",
       "      <td>2</td>\n",
       "      <td>0</td>\n",
       "      <td>1</td>\n",
       "      <td>3</td>\n",
       "      <td>0</td>\n",
       "      <td>...</td>\n",
       "      <td>308</td>\n",
       "      <td>0</td>\n",
       "      <td>0</td>\n",
       "      <td>0</td>\n",
       "      <td>0</td>\n",
       "      <td>0</td>\n",
       "      <td>9</td>\n",
       "      <td>0</td>\n",
       "      <td>92</td>\n",
       "      <td>0.729855</td>\n",
       "    </tr>\n",
       "  </tbody>\n",
       "</table>\n",
       "<p>5 rows × 63 columns</p>\n",
       "</div>"
      ],
      "text/plain": [
       "   LSOA Code           LSOA Name  All categories: Religion  Religion: total  \\\n",
       "0  E01020634  County Durham 001A                      1563             1148   \n",
       "1  E01020635  County Durham 001B                      1379              945   \n",
       "2  E01020636  County Durham 001C                      1698             1237   \n",
       "3  E01020654  County Durham 001D                      1746             1320   \n",
       "4  E01020676  County Durham 001E                      1514             1105   \n",
       "\n",
       "  Christian  Buddhist Hindu Jewish Muslim (Islam)  Sikh  ...  \\\n",
       "0      1140         1     0      1              2     0  ...   \n",
       "1       938         2     0      0              0     0  ...   \n",
       "2      1223         4     3      0              5     0  ...   \n",
       "3      1312         4     0      1              0     0  ...   \n",
       "4      1090         2     0      1              3     0  ...   \n",
       "\n",
       "   No religion: No religion  No religion: Agnostic  No religion: Atheist  \\\n",
       "0                       331                      1                     1   \n",
       "1                       346                      1                     0   \n",
       "2                       350                      0                     1   \n",
       "3                       322                      0                     0   \n",
       "4                       308                      0                     0   \n",
       "\n",
       "   No religion: Free Thinker  No religion: Heavy Metal  No religion: Humanist  \\\n",
       "0                          0                         0                      2   \n",
       "1                          0                         0                      1   \n",
       "2                          0                         0                      0   \n",
       "3                          0                         0                      2   \n",
       "4                          0                         0                      0   \n",
       "\n",
       "   No religion: Jedi Knight  No religion: Realist  Religion not stated  \\\n",
       "0                         1                     0                   79   \n",
       "1                         2                     0                   84   \n",
       "2                         4                     0                  106   \n",
       "3                         4                     0                   98   \n",
       "4                         9                     0                   92   \n",
       "\n",
       "   Proportion of Religious  \n",
       "0                 0.734485  \n",
       "1                 0.685279  \n",
       "2                 0.728504  \n",
       "3                 0.756014  \n",
       "4                 0.729855  \n",
       "\n",
       "[5 rows x 63 columns]"
      ]
     },
     "execution_count": 229,
     "metadata": {},
     "output_type": "execute_result"
    }
   ],
   "source": [
    "# Checking the first 5 rows\n",
    "df_religion.head()"
   ]
  },
  {
   "cell_type": "markdown",
   "id": "38d5b854",
   "metadata": {},
   "source": [
    "We only need two columns from here: the LSOA Code to merge with the main dataset on, and the proportion of religious:"
   ]
  },
  {
   "cell_type": "code",
   "execution_count": 230,
   "id": "bd60ccb8",
   "metadata": {},
   "outputs": [],
   "source": [
    "# Selecting only the needed columns\n",
    "df_religion = df_religion.iloc[:, [0, 62]]"
   ]
  },
  {
   "cell_type": "markdown",
   "id": "d40687e1",
   "metadata": {},
   "source": [
    "Sanity check:"
   ]
  },
  {
   "cell_type": "code",
   "execution_count": 231,
   "id": "34d9ed41",
   "metadata": {},
   "outputs": [
    {
     "data": {
      "text/html": [
       "<div>\n",
       "<style scoped>\n",
       "    .dataframe tbody tr th:only-of-type {\n",
       "        vertical-align: middle;\n",
       "    }\n",
       "\n",
       "    .dataframe tbody tr th {\n",
       "        vertical-align: top;\n",
       "    }\n",
       "\n",
       "    .dataframe thead th {\n",
       "        text-align: right;\n",
       "    }\n",
       "</style>\n",
       "<table border=\"1\" class=\"dataframe\">\n",
       "  <thead>\n",
       "    <tr style=\"text-align: right;\">\n",
       "      <th></th>\n",
       "      <th>LSOA Code</th>\n",
       "      <th>Proportion of Religious</th>\n",
       "    </tr>\n",
       "  </thead>\n",
       "  <tbody>\n",
       "    <tr>\n",
       "      <th>0</th>\n",
       "      <td>E01020634</td>\n",
       "      <td>0.734485</td>\n",
       "    </tr>\n",
       "  </tbody>\n",
       "</table>\n",
       "</div>"
      ],
      "text/plain": [
       "   LSOA Code  Proportion of Religious\n",
       "0  E01020634                 0.734485"
      ]
     },
     "execution_count": 231,
     "metadata": {},
     "output_type": "execute_result"
    }
   ],
   "source": [
    "# First column\n",
    "df_religion.head(1)"
   ]
  },
  {
   "cell_type": "markdown",
   "id": "b6d70ab4",
   "metadata": {},
   "source": [
    "Now we're ready for the merge."
   ]
  },
  {
   "cell_type": "code",
   "execution_count": 232,
   "id": "b56da149",
   "metadata": {},
   "outputs": [],
   "source": [
    "# Merging on the neighborhood code\n",
    "df = df.merge(df_religion, how='outer', left_on='LSOA code', right_on='LSOA Code')"
   ]
  },
  {
   "cell_type": "code",
   "execution_count": 233,
   "id": "6c979b1b",
   "metadata": {},
   "outputs": [],
   "source": [
    "# Dropping the extra column\n",
    "df.drop(axis=0, columns=['LSOA Code'], inplace=True)"
   ]
  },
  {
   "cell_type": "markdown",
   "id": "5681e436",
   "metadata": {},
   "source": [
    "Checking that everything went well:"
   ]
  },
  {
   "cell_type": "code",
   "execution_count": 234,
   "id": "4c521a32",
   "metadata": {},
   "outputs": [
    {
     "data": {
      "text/plain": [
       "(3736323, 37)"
      ]
     },
     "execution_count": 234,
     "metadata": {},
     "output_type": "execute_result"
    }
   ],
   "source": [
    "# Checking the size\n",
    "df.shape"
   ]
  },
  {
   "cell_type": "code",
   "execution_count": 235,
   "id": "0bd6814f",
   "metadata": {},
   "outputs": [
    {
     "data": {
      "text/html": [
       "<div>\n",
       "<style scoped>\n",
       "    .dataframe tbody tr th:only-of-type {\n",
       "        vertical-align: middle;\n",
       "    }\n",
       "\n",
       "    .dataframe tbody tr th {\n",
       "        vertical-align: top;\n",
       "    }\n",
       "\n",
       "    .dataframe thead th {\n",
       "        text-align: right;\n",
       "    }\n",
       "</style>\n",
       "<table border=\"1\" class=\"dataframe\">\n",
       "  <thead>\n",
       "    <tr style=\"text-align: right;\">\n",
       "      <th></th>\n",
       "      <th>Month</th>\n",
       "      <th>Police_Jurisdiction</th>\n",
       "      <th>Longitude</th>\n",
       "      <th>Latitude</th>\n",
       "      <th>LSOA code</th>\n",
       "      <th>LSOA name</th>\n",
       "      <th>Crime type</th>\n",
       "      <th>Last outcome category</th>\n",
       "      <th>Population</th>\n",
       "      <th>Proportion_Males</th>\n",
       "      <th>...</th>\n",
       "      <th>BCA Proportion</th>\n",
       "      <th>OXX Proportion</th>\n",
       "      <th>MIX Proportion</th>\n",
       "      <th>AAB Proportion</th>\n",
       "      <th>Area Sq Km</th>\n",
       "      <th>Population_Density</th>\n",
       "      <th>Median_House_Price</th>\n",
       "      <th>Median_house_price_CAGR_1995-2021</th>\n",
       "      <th>Median Age</th>\n",
       "      <th>Proportion of Religious</th>\n",
       "    </tr>\n",
       "  </thead>\n",
       "  <tbody>\n",
       "    <tr>\n",
       "      <th>0</th>\n",
       "      <td>1.0</td>\n",
       "      <td>Avon and Somerset Constabulary</td>\n",
       "      <td>-2.515072</td>\n",
       "      <td>51.419357</td>\n",
       "      <td>E01014399</td>\n",
       "      <td>Bath and North East Somerset 001A</td>\n",
       "      <td>Burglary</td>\n",
       "      <td>Status update unavailable</td>\n",
       "      <td>2161.0</td>\n",
       "      <td>0.467376</td>\n",
       "      <td>...</td>\n",
       "      <td>0.000616</td>\n",
       "      <td>0.001232</td>\n",
       "      <td>0.01601</td>\n",
       "      <td>0.005542</td>\n",
       "      <td>4.12</td>\n",
       "      <td>524.0</td>\n",
       "      <td>370000.0</td>\n",
       "      <td>0.078015</td>\n",
       "      <td>41.6</td>\n",
       "      <td>0.599754</td>\n",
       "    </tr>\n",
       "    <tr>\n",
       "      <th>1</th>\n",
       "      <td>1.0</td>\n",
       "      <td>Avon and Somerset Constabulary</td>\n",
       "      <td>-2.494870</td>\n",
       "      <td>51.422276</td>\n",
       "      <td>E01014399</td>\n",
       "      <td>Bath and North East Somerset 001A</td>\n",
       "      <td>Criminal damage and arson</td>\n",
       "      <td>Status update unavailable</td>\n",
       "      <td>2161.0</td>\n",
       "      <td>0.467376</td>\n",
       "      <td>...</td>\n",
       "      <td>0.000616</td>\n",
       "      <td>0.001232</td>\n",
       "      <td>0.01601</td>\n",
       "      <td>0.005542</td>\n",
       "      <td>4.12</td>\n",
       "      <td>524.0</td>\n",
       "      <td>370000.0</td>\n",
       "      <td>0.078015</td>\n",
       "      <td>41.6</td>\n",
       "      <td>0.599754</td>\n",
       "    </tr>\n",
       "    <tr>\n",
       "      <th>2</th>\n",
       "      <td>1.0</td>\n",
       "      <td>Avon and Somerset Constabulary</td>\n",
       "      <td>-2.494870</td>\n",
       "      <td>51.422276</td>\n",
       "      <td>E01014399</td>\n",
       "      <td>Bath and North East Somerset 001A</td>\n",
       "      <td>Criminal damage and arson</td>\n",
       "      <td>Status update unavailable</td>\n",
       "      <td>2161.0</td>\n",
       "      <td>0.467376</td>\n",
       "      <td>...</td>\n",
       "      <td>0.000616</td>\n",
       "      <td>0.001232</td>\n",
       "      <td>0.01601</td>\n",
       "      <td>0.005542</td>\n",
       "      <td>4.12</td>\n",
       "      <td>524.0</td>\n",
       "      <td>370000.0</td>\n",
       "      <td>0.078015</td>\n",
       "      <td>41.6</td>\n",
       "      <td>0.599754</td>\n",
       "    </tr>\n",
       "    <tr>\n",
       "      <th>3</th>\n",
       "      <td>1.0</td>\n",
       "      <td>Avon and Somerset Constabulary</td>\n",
       "      <td>-2.511927</td>\n",
       "      <td>51.409435</td>\n",
       "      <td>E01014399</td>\n",
       "      <td>Bath and North East Somerset 001A</td>\n",
       "      <td>Public order</td>\n",
       "      <td>Unable to prosecute suspect</td>\n",
       "      <td>2161.0</td>\n",
       "      <td>0.467376</td>\n",
       "      <td>...</td>\n",
       "      <td>0.000616</td>\n",
       "      <td>0.001232</td>\n",
       "      <td>0.01601</td>\n",
       "      <td>0.005542</td>\n",
       "      <td>4.12</td>\n",
       "      <td>524.0</td>\n",
       "      <td>370000.0</td>\n",
       "      <td>0.078015</td>\n",
       "      <td>41.6</td>\n",
       "      <td>0.599754</td>\n",
       "    </tr>\n",
       "    <tr>\n",
       "      <th>4</th>\n",
       "      <td>1.0</td>\n",
       "      <td>Avon and Somerset Constabulary</td>\n",
       "      <td>-2.511761</td>\n",
       "      <td>51.409966</td>\n",
       "      <td>E01014399</td>\n",
       "      <td>Bath and North East Somerset 001A</td>\n",
       "      <td>Violence and sexual offences</td>\n",
       "      <td>Unable to prosecute suspect</td>\n",
       "      <td>2161.0</td>\n",
       "      <td>0.467376</td>\n",
       "      <td>...</td>\n",
       "      <td>0.000616</td>\n",
       "      <td>0.001232</td>\n",
       "      <td>0.01601</td>\n",
       "      <td>0.005542</td>\n",
       "      <td>4.12</td>\n",
       "      <td>524.0</td>\n",
       "      <td>370000.0</td>\n",
       "      <td>0.078015</td>\n",
       "      <td>41.6</td>\n",
       "      <td>0.599754</td>\n",
       "    </tr>\n",
       "  </tbody>\n",
       "</table>\n",
       "<p>5 rows × 37 columns</p>\n",
       "</div>"
      ],
      "text/plain": [
       "   Month             Police_Jurisdiction  Longitude   Latitude  LSOA code  \\\n",
       "0    1.0  Avon and Somerset Constabulary  -2.515072  51.419357  E01014399   \n",
       "1    1.0  Avon and Somerset Constabulary  -2.494870  51.422276  E01014399   \n",
       "2    1.0  Avon and Somerset Constabulary  -2.494870  51.422276  E01014399   \n",
       "3    1.0  Avon and Somerset Constabulary  -2.511927  51.409435  E01014399   \n",
       "4    1.0  Avon and Somerset Constabulary  -2.511761  51.409966  E01014399   \n",
       "\n",
       "                           LSOA name                    Crime type  \\\n",
       "0  Bath and North East Somerset 001A                      Burglary   \n",
       "1  Bath and North East Somerset 001A     Criminal damage and arson   \n",
       "2  Bath and North East Somerset 001A     Criminal damage and arson   \n",
       "3  Bath and North East Somerset 001A                  Public order   \n",
       "4  Bath and North East Somerset 001A  Violence and sexual offences   \n",
       "\n",
       "         Last outcome category  Population  Proportion_Males  ...  \\\n",
       "0    Status update unavailable      2161.0          0.467376  ...   \n",
       "1    Status update unavailable      2161.0          0.467376  ...   \n",
       "2    Status update unavailable      2161.0          0.467376  ...   \n",
       "3  Unable to prosecute suspect      2161.0          0.467376  ...   \n",
       "4  Unable to prosecute suspect      2161.0          0.467376  ...   \n",
       "\n",
       "   BCA Proportion  OXX Proportion  MIX Proportion  AAB Proportion  Area Sq Km  \\\n",
       "0        0.000616        0.001232         0.01601        0.005542        4.12   \n",
       "1        0.000616        0.001232         0.01601        0.005542        4.12   \n",
       "2        0.000616        0.001232         0.01601        0.005542        4.12   \n",
       "3        0.000616        0.001232         0.01601        0.005542        4.12   \n",
       "4        0.000616        0.001232         0.01601        0.005542        4.12   \n",
       "\n",
       "   Population_Density  Median_House_Price  Median_house_price_CAGR_1995-2021  \\\n",
       "0               524.0            370000.0                           0.078015   \n",
       "1               524.0            370000.0                           0.078015   \n",
       "2               524.0            370000.0                           0.078015   \n",
       "3               524.0            370000.0                           0.078015   \n",
       "4               524.0            370000.0                           0.078015   \n",
       "\n",
       "   Median Age  Proportion of Religious  \n",
       "0        41.6                 0.599754  \n",
       "1        41.6                 0.599754  \n",
       "2        41.6                 0.599754  \n",
       "3        41.6                 0.599754  \n",
       "4        41.6                 0.599754  \n",
       "\n",
       "[5 rows x 37 columns]"
      ]
     },
     "execution_count": 235,
     "metadata": {},
     "output_type": "execute_result"
    }
   ],
   "source": [
    "# Checking the first few rows\n",
    "df.head()"
   ]
  },
  {
   "cell_type": "markdown",
   "id": "e46b13e6",
   "metadata": {},
   "source": [
    "Now let's check if the merge has introduced any new null values:"
   ]
  },
  {
   "cell_type": "code",
   "execution_count": 236,
   "id": "47440b3d",
   "metadata": {},
   "outputs": [
    {
     "data": {
      "text/plain": [
       "Month                                5879\n",
       "Police_Jurisdiction                  5879\n",
       "Longitude                            5879\n",
       "Latitude                             5879\n",
       "LSOA code                            5879\n",
       "LSOA name                            5879\n",
       "Crime type                           5879\n",
       "Last outcome category                5879\n",
       "Population                           5879\n",
       "Proportion_Males                     5879\n",
       "Proportion_0-15                      5879\n",
       "Proportion_16-29                     5879\n",
       "Proportion_30-44                     5879\n",
       "Proportion_45-64                     5879\n",
       "Proportion_65+                       5879\n",
       "Proportion_0car_hhlds                5879\n",
       "#_ppl_hhld                           5879\n",
       "Deprivation_Index                    5879\n",
       "Job_Seeker_Allowance_Proportion      5879\n",
       "FSM11to15Proportion                  5879\n",
       "FSM5to10Proportion                   5879\n",
       "WBR Proportion                       5879\n",
       "WAO Proportion                       5879\n",
       "ABD Proportion                       5879\n",
       "AIN Proportion                       5879\n",
       "APK Proportion                       5879\n",
       "BAF Proportion                       5879\n",
       "BCA Proportion                       5879\n",
       "OXX Proportion                       5879\n",
       "MIX Proportion                       5879\n",
       "AAB Proportion                       5879\n",
       "Area Sq Km                           5879\n",
       "Population_Density                   5879\n",
       "Median_House_Price                   5879\n",
       "Median_house_price_CAGR_1995-2021    5879\n",
       "Median Age                           5879\n",
       "Proportion of Religious                 0\n",
       "dtype: int64"
      ]
     },
     "execution_count": 236,
     "metadata": {},
     "output_type": "execute_result"
    }
   ],
   "source": [
    "# Checking null values per column\n",
    "df.isnull().sum()"
   ]
  },
  {
   "cell_type": "markdown",
   "id": "42a81f37",
   "metadata": {},
   "source": [
    "There are some very small null values so we drop them:"
   ]
  },
  {
   "cell_type": "code",
   "execution_count": 237,
   "id": "6d0bb43b",
   "metadata": {},
   "outputs": [],
   "source": [
    "# Dropping null values\n",
    "df.dropna(inplace=True)"
   ]
  },
  {
   "cell_type": "markdown",
   "id": "5141b6b8",
   "metadata": {},
   "source": [
    "<a id='3'></a>\n",
    "## 3) CSV Output"
   ]
  },
  {
   "cell_type": "markdown",
   "id": "8ca33b0b",
   "metadata": {},
   "source": [
    "We have already performed the checks so we can just export the dataframe:"
   ]
  },
  {
   "cell_type": "code",
   "execution_count": 238,
   "id": "7f705433",
   "metadata": {},
   "outputs": [],
   "source": [
    "# Exporting the dataframe to a CSV file\n",
    "df.to_csv(r'data\\df_crime_EDA.csv', index=False)"
   ]
  },
  {
   "cell_type": "markdown",
   "id": "e90fb373",
   "metadata": {},
   "source": [
    "### This is the end of Jupyter Notebook 2 (of 5). Please proceed to Jupyter Notebook 3."
   ]
  }
 ],
 "metadata": {
  "kernelspec": {
   "display_name": "Python 3 (ipykernel)",
   "language": "python",
   "name": "python3"
  },
  "language_info": {
   "codemirror_mode": {
    "name": "ipython",
    "version": 3
   },
   "file_extension": ".py",
   "mimetype": "text/x-python",
   "name": "python",
   "nbconvert_exporter": "python",
   "pygments_lexer": "ipython3",
   "version": "3.9.7"
  }
 },
 "nbformat": 4,
 "nbformat_minor": 5
}
